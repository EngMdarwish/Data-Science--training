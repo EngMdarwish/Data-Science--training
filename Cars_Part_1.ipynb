{
  "nbformat": 4,
  "nbformat_minor": 0,
  "metadata": {
    "colab": {
      "name": "Cars_Part_1.ipynb",
      "provenance": [],
      "collapsed_sections": [],
      "authorship_tag": "ABX9TyOXmITt6QRMRIrG6Kzfm7Gu",
      "include_colab_link": true
    },
    "kernelspec": {
      "name": "python3",
      "display_name": "Python 3"
    },
    "language_info": {
      "name": "python"
    }
  },
  "cells": [
    {
      "cell_type": "markdown",
      "metadata": {
        "id": "view-in-github",
        "colab_type": "text"
      },
      "source": [
        "<a href=\"https://colab.research.google.com/github/EngMdarwish/Data-Science--training/blob/main/Cars_Part_1.ipynb\" target=\"_parent\"><img src=\"https://colab.research.google.com/assets/colab-badge.svg\" alt=\"Open In Colab\"/></a>"
      ]
    },
    {
      "cell_type": "markdown",
      "metadata": {
        "id": "BaUwrGCdWB7k"
      },
      "source": [
        "## Importing the relevant libraries\n"
      ]
    },
    {
      "cell_type": "code",
      "metadata": {
        "id": "APP5rfiEVqmH"
      },
      "source": [
        "import seaborn as sns\n",
        "import numpy as np\n",
        "import pandas as pd\n",
        "import statsmodels.api as sm\n",
        "import matplotlib.pyplot as plt\n",
        "from sklearn.linear_model import LinearRegression \n",
        "\n",
        "sns.set()"
      ],
      "execution_count": 24,
      "outputs": []
    },
    {
      "cell_type": "code",
      "metadata": {
        "id": "Cii-FZz0Xvd3"
      },
      "source": [
        "url='https://drive.google.com/file/d/1qINeuIJ6PT6qz0f7xxs-e97qVHgbksD_/view?usp=sharing'\n",
        "file_id=url.split('/')[-2]\n",
        "dwn_url='https://drive.google.com/uc?id=' + file_id\n",
        "data_raw= pd.read_csv(dwn_url)"
      ],
      "execution_count": 25,
      "outputs": []
    },
    {
      "cell_type": "code",
      "metadata": {
        "colab": {
          "base_uri": "https://localhost:8080/",
          "height": 390
        },
        "id": "qeThBlSvYBGS",
        "outputId": "421db7da-a02b-4386-d9ee-f028b3dcb590"
      },
      "source": [
        "data_raw.describe(include='all') #include categorical variables"
      ],
      "execution_count": 26,
      "outputs": [
        {
          "output_type": "execute_result",
          "data": {
            "text/html": [
              "<div>\n",
              "<style scoped>\n",
              "    .dataframe tbody tr th:only-of-type {\n",
              "        vertical-align: middle;\n",
              "    }\n",
              "\n",
              "    .dataframe tbody tr th {\n",
              "        vertical-align: top;\n",
              "    }\n",
              "\n",
              "    .dataframe thead th {\n",
              "        text-align: right;\n",
              "    }\n",
              "</style>\n",
              "<table border=\"1\" class=\"dataframe\">\n",
              "  <thead>\n",
              "    <tr style=\"text-align: right;\">\n",
              "      <th></th>\n",
              "      <th>Brand</th>\n",
              "      <th>Price</th>\n",
              "      <th>Body</th>\n",
              "      <th>Mileage</th>\n",
              "      <th>EngineV</th>\n",
              "      <th>Engine Type</th>\n",
              "      <th>Registration</th>\n",
              "      <th>Year</th>\n",
              "      <th>Model</th>\n",
              "    </tr>\n",
              "  </thead>\n",
              "  <tbody>\n",
              "    <tr>\n",
              "      <th>count</th>\n",
              "      <td>4345</td>\n",
              "      <td>4173.000000</td>\n",
              "      <td>4345</td>\n",
              "      <td>4345.000000</td>\n",
              "      <td>4195.000000</td>\n",
              "      <td>4345</td>\n",
              "      <td>4345</td>\n",
              "      <td>4345.000000</td>\n",
              "      <td>4345</td>\n",
              "    </tr>\n",
              "    <tr>\n",
              "      <th>unique</th>\n",
              "      <td>7</td>\n",
              "      <td>NaN</td>\n",
              "      <td>6</td>\n",
              "      <td>NaN</td>\n",
              "      <td>NaN</td>\n",
              "      <td>4</td>\n",
              "      <td>2</td>\n",
              "      <td>NaN</td>\n",
              "      <td>312</td>\n",
              "    </tr>\n",
              "    <tr>\n",
              "      <th>top</th>\n",
              "      <td>Volkswagen</td>\n",
              "      <td>NaN</td>\n",
              "      <td>sedan</td>\n",
              "      <td>NaN</td>\n",
              "      <td>NaN</td>\n",
              "      <td>Diesel</td>\n",
              "      <td>yes</td>\n",
              "      <td>NaN</td>\n",
              "      <td>E-Class</td>\n",
              "    </tr>\n",
              "    <tr>\n",
              "      <th>freq</th>\n",
              "      <td>936</td>\n",
              "      <td>NaN</td>\n",
              "      <td>1649</td>\n",
              "      <td>NaN</td>\n",
              "      <td>NaN</td>\n",
              "      <td>2019</td>\n",
              "      <td>3947</td>\n",
              "      <td>NaN</td>\n",
              "      <td>199</td>\n",
              "    </tr>\n",
              "    <tr>\n",
              "      <th>mean</th>\n",
              "      <td>NaN</td>\n",
              "      <td>19418.746935</td>\n",
              "      <td>NaN</td>\n",
              "      <td>161.237284</td>\n",
              "      <td>2.790734</td>\n",
              "      <td>NaN</td>\n",
              "      <td>NaN</td>\n",
              "      <td>2006.550058</td>\n",
              "      <td>NaN</td>\n",
              "    </tr>\n",
              "    <tr>\n",
              "      <th>std</th>\n",
              "      <td>NaN</td>\n",
              "      <td>25584.242620</td>\n",
              "      <td>NaN</td>\n",
              "      <td>105.705797</td>\n",
              "      <td>5.066437</td>\n",
              "      <td>NaN</td>\n",
              "      <td>NaN</td>\n",
              "      <td>6.719097</td>\n",
              "      <td>NaN</td>\n",
              "    </tr>\n",
              "    <tr>\n",
              "      <th>min</th>\n",
              "      <td>NaN</td>\n",
              "      <td>600.000000</td>\n",
              "      <td>NaN</td>\n",
              "      <td>0.000000</td>\n",
              "      <td>0.600000</td>\n",
              "      <td>NaN</td>\n",
              "      <td>NaN</td>\n",
              "      <td>1969.000000</td>\n",
              "      <td>NaN</td>\n",
              "    </tr>\n",
              "    <tr>\n",
              "      <th>25%</th>\n",
              "      <td>NaN</td>\n",
              "      <td>6999.000000</td>\n",
              "      <td>NaN</td>\n",
              "      <td>86.000000</td>\n",
              "      <td>1.800000</td>\n",
              "      <td>NaN</td>\n",
              "      <td>NaN</td>\n",
              "      <td>2003.000000</td>\n",
              "      <td>NaN</td>\n",
              "    </tr>\n",
              "    <tr>\n",
              "      <th>50%</th>\n",
              "      <td>NaN</td>\n",
              "      <td>11500.000000</td>\n",
              "      <td>NaN</td>\n",
              "      <td>155.000000</td>\n",
              "      <td>2.200000</td>\n",
              "      <td>NaN</td>\n",
              "      <td>NaN</td>\n",
              "      <td>2008.000000</td>\n",
              "      <td>NaN</td>\n",
              "    </tr>\n",
              "    <tr>\n",
              "      <th>75%</th>\n",
              "      <td>NaN</td>\n",
              "      <td>21700.000000</td>\n",
              "      <td>NaN</td>\n",
              "      <td>230.000000</td>\n",
              "      <td>3.000000</td>\n",
              "      <td>NaN</td>\n",
              "      <td>NaN</td>\n",
              "      <td>2012.000000</td>\n",
              "      <td>NaN</td>\n",
              "    </tr>\n",
              "    <tr>\n",
              "      <th>max</th>\n",
              "      <td>NaN</td>\n",
              "      <td>300000.000000</td>\n",
              "      <td>NaN</td>\n",
              "      <td>980.000000</td>\n",
              "      <td>99.990000</td>\n",
              "      <td>NaN</td>\n",
              "      <td>NaN</td>\n",
              "      <td>2016.000000</td>\n",
              "      <td>NaN</td>\n",
              "    </tr>\n",
              "  </tbody>\n",
              "</table>\n",
              "</div>"
            ],
            "text/plain": [
              "             Brand          Price   Body  ...  Registration         Year    Model\n",
              "count         4345    4173.000000   4345  ...          4345  4345.000000     4345\n",
              "unique           7            NaN      6  ...             2          NaN      312\n",
              "top     Volkswagen            NaN  sedan  ...           yes          NaN  E-Class\n",
              "freq           936            NaN   1649  ...          3947          NaN      199\n",
              "mean           NaN   19418.746935    NaN  ...           NaN  2006.550058      NaN\n",
              "std            NaN   25584.242620    NaN  ...           NaN     6.719097      NaN\n",
              "min            NaN     600.000000    NaN  ...           NaN  1969.000000      NaN\n",
              "25%            NaN    6999.000000    NaN  ...           NaN  2003.000000      NaN\n",
              "50%            NaN   11500.000000    NaN  ...           NaN  2008.000000      NaN\n",
              "75%            NaN   21700.000000    NaN  ...           NaN  2012.000000      NaN\n",
              "max            NaN  300000.000000    NaN  ...           NaN  2016.000000      NaN\n",
              "\n",
              "[11 rows x 9 columns]"
            ]
          },
          "metadata": {},
          "execution_count": 26
        }
      ]
    },
    {
      "cell_type": "markdown",
      "metadata": {
        "id": "UABOaNUU_Sv8"
      },
      "source": [
        "as we see model is categorical variable and has 312 unique values so its hard to implement at regression because we will have more than 300 dummies"
      ]
    },
    {
      "cell_type": "code",
      "metadata": {
        "colab": {
          "base_uri": "https://localhost:8080/",
          "height": 390
        },
        "id": "IYTborKBdQQ3",
        "outputId": "fc0f72c7-354c-4431-8b2f-dd13738735c6"
      },
      "source": [
        "data=data_raw.drop(['Model'],axis=1)# delete model column\n",
        "data.describe(include='all')"
      ],
      "execution_count": 28,
      "outputs": [
        {
          "output_type": "execute_result",
          "data": {
            "text/html": [
              "<div>\n",
              "<style scoped>\n",
              "    .dataframe tbody tr th:only-of-type {\n",
              "        vertical-align: middle;\n",
              "    }\n",
              "\n",
              "    .dataframe tbody tr th {\n",
              "        vertical-align: top;\n",
              "    }\n",
              "\n",
              "    .dataframe thead th {\n",
              "        text-align: right;\n",
              "    }\n",
              "</style>\n",
              "<table border=\"1\" class=\"dataframe\">\n",
              "  <thead>\n",
              "    <tr style=\"text-align: right;\">\n",
              "      <th></th>\n",
              "      <th>Brand</th>\n",
              "      <th>Price</th>\n",
              "      <th>Body</th>\n",
              "      <th>Mileage</th>\n",
              "      <th>EngineV</th>\n",
              "      <th>Engine Type</th>\n",
              "      <th>Registration</th>\n",
              "      <th>Year</th>\n",
              "    </tr>\n",
              "  </thead>\n",
              "  <tbody>\n",
              "    <tr>\n",
              "      <th>count</th>\n",
              "      <td>4345</td>\n",
              "      <td>4173.000000</td>\n",
              "      <td>4345</td>\n",
              "      <td>4345.000000</td>\n",
              "      <td>4195.000000</td>\n",
              "      <td>4345</td>\n",
              "      <td>4345</td>\n",
              "      <td>4345.000000</td>\n",
              "    </tr>\n",
              "    <tr>\n",
              "      <th>unique</th>\n",
              "      <td>7</td>\n",
              "      <td>NaN</td>\n",
              "      <td>6</td>\n",
              "      <td>NaN</td>\n",
              "      <td>NaN</td>\n",
              "      <td>4</td>\n",
              "      <td>2</td>\n",
              "      <td>NaN</td>\n",
              "    </tr>\n",
              "    <tr>\n",
              "      <th>top</th>\n",
              "      <td>Volkswagen</td>\n",
              "      <td>NaN</td>\n",
              "      <td>sedan</td>\n",
              "      <td>NaN</td>\n",
              "      <td>NaN</td>\n",
              "      <td>Diesel</td>\n",
              "      <td>yes</td>\n",
              "      <td>NaN</td>\n",
              "    </tr>\n",
              "    <tr>\n",
              "      <th>freq</th>\n",
              "      <td>936</td>\n",
              "      <td>NaN</td>\n",
              "      <td>1649</td>\n",
              "      <td>NaN</td>\n",
              "      <td>NaN</td>\n",
              "      <td>2019</td>\n",
              "      <td>3947</td>\n",
              "      <td>NaN</td>\n",
              "    </tr>\n",
              "    <tr>\n",
              "      <th>mean</th>\n",
              "      <td>NaN</td>\n",
              "      <td>19418.746935</td>\n",
              "      <td>NaN</td>\n",
              "      <td>161.237284</td>\n",
              "      <td>2.790734</td>\n",
              "      <td>NaN</td>\n",
              "      <td>NaN</td>\n",
              "      <td>2006.550058</td>\n",
              "    </tr>\n",
              "    <tr>\n",
              "      <th>std</th>\n",
              "      <td>NaN</td>\n",
              "      <td>25584.242620</td>\n",
              "      <td>NaN</td>\n",
              "      <td>105.705797</td>\n",
              "      <td>5.066437</td>\n",
              "      <td>NaN</td>\n",
              "      <td>NaN</td>\n",
              "      <td>6.719097</td>\n",
              "    </tr>\n",
              "    <tr>\n",
              "      <th>min</th>\n",
              "      <td>NaN</td>\n",
              "      <td>600.000000</td>\n",
              "      <td>NaN</td>\n",
              "      <td>0.000000</td>\n",
              "      <td>0.600000</td>\n",
              "      <td>NaN</td>\n",
              "      <td>NaN</td>\n",
              "      <td>1969.000000</td>\n",
              "    </tr>\n",
              "    <tr>\n",
              "      <th>25%</th>\n",
              "      <td>NaN</td>\n",
              "      <td>6999.000000</td>\n",
              "      <td>NaN</td>\n",
              "      <td>86.000000</td>\n",
              "      <td>1.800000</td>\n",
              "      <td>NaN</td>\n",
              "      <td>NaN</td>\n",
              "      <td>2003.000000</td>\n",
              "    </tr>\n",
              "    <tr>\n",
              "      <th>50%</th>\n",
              "      <td>NaN</td>\n",
              "      <td>11500.000000</td>\n",
              "      <td>NaN</td>\n",
              "      <td>155.000000</td>\n",
              "      <td>2.200000</td>\n",
              "      <td>NaN</td>\n",
              "      <td>NaN</td>\n",
              "      <td>2008.000000</td>\n",
              "    </tr>\n",
              "    <tr>\n",
              "      <th>75%</th>\n",
              "      <td>NaN</td>\n",
              "      <td>21700.000000</td>\n",
              "      <td>NaN</td>\n",
              "      <td>230.000000</td>\n",
              "      <td>3.000000</td>\n",
              "      <td>NaN</td>\n",
              "      <td>NaN</td>\n",
              "      <td>2012.000000</td>\n",
              "    </tr>\n",
              "    <tr>\n",
              "      <th>max</th>\n",
              "      <td>NaN</td>\n",
              "      <td>300000.000000</td>\n",
              "      <td>NaN</td>\n",
              "      <td>980.000000</td>\n",
              "      <td>99.990000</td>\n",
              "      <td>NaN</td>\n",
              "      <td>NaN</td>\n",
              "      <td>2016.000000</td>\n",
              "    </tr>\n",
              "  </tbody>\n",
              "</table>\n",
              "</div>"
            ],
            "text/plain": [
              "             Brand          Price   Body  ...  Engine Type  Registration         Year\n",
              "count         4345    4173.000000   4345  ...         4345          4345  4345.000000\n",
              "unique           7            NaN      6  ...            4             2          NaN\n",
              "top     Volkswagen            NaN  sedan  ...       Diesel           yes          NaN\n",
              "freq           936            NaN   1649  ...         2019          3947          NaN\n",
              "mean           NaN   19418.746935    NaN  ...          NaN           NaN  2006.550058\n",
              "std            NaN   25584.242620    NaN  ...          NaN           NaN     6.719097\n",
              "min            NaN     600.000000    NaN  ...          NaN           NaN  1969.000000\n",
              "25%            NaN    6999.000000    NaN  ...          NaN           NaN  2003.000000\n",
              "50%            NaN   11500.000000    NaN  ...          NaN           NaN  2008.000000\n",
              "75%            NaN   21700.000000    NaN  ...          NaN           NaN  2012.000000\n",
              "max            NaN  300000.000000    NaN  ...          NaN           NaN  2016.000000\n",
              "\n",
              "[11 rows x 8 columns]"
            ]
          },
          "metadata": {},
          "execution_count": 28
        }
      ]
    },
    {
      "cell_type": "markdown",
      "metadata": {
        "id": "kOEyw2JFATIf"
      },
      "source": [
        "Check missing values"
      ]
    },
    {
      "cell_type": "code",
      "metadata": {
        "colab": {
          "base_uri": "https://localhost:8080/"
        },
        "id": "2hdA3gzkAWAQ",
        "outputId": "76dc4ed0-df76-495d-d789-e274b3727048"
      },
      "source": [
        "mv=data.isnull().sum()\n",
        "mv"
      ],
      "execution_count": 29,
      "outputs": [
        {
          "output_type": "execute_result",
          "data": {
            "text/plain": [
              "Brand             0\n",
              "Price           172\n",
              "Body              0\n",
              "Mileage           0\n",
              "EngineV         150\n",
              "Engine Type       0\n",
              "Registration      0\n",
              "Year              0\n",
              "dtype: int64"
            ]
          },
          "metadata": {},
          "execution_count": 29
        }
      ]
    },
    {
      "cell_type": "markdown",
      "metadata": {
        "id": "TNo6VjX7AxTP"
      },
      "source": [
        "as we see price and engineV have missing values \n",
        "we need to remove this records \n",
        "if you are removing <5% of observations ,you are free to just remove all that have missing values"
      ]
    },
    {
      "cell_type": "code",
      "metadata": {
        "colab": {
          "base_uri": "https://localhost:8080/"
        },
        "id": "cGTvG237Bw3H",
        "outputId": "33063cc1-843a-4e85-aa48-6ba8efb15051"
      },
      "source": [
        "n=data.shape[0]\n",
        "price_mv=mv['Price']\n",
        "engineV_mv=mv['EngineV']\n",
        "price_mv_prect=((price_mv)/n)*100\n",
        "engineV_mv_prect=((engineV_mv)/n)*100\n",
        "print(price_mv_prect)\n",
        "print(engineV_mv_prect)"
      ],
      "execution_count": 30,
      "outputs": [
        {
          "output_type": "stream",
          "name": "stdout",
          "text": [
            "3.958573072497123\n",
            "3.452243958573072\n"
          ]
        }
      ]
    },
    {
      "cell_type": "markdown",
      "metadata": {
        "id": "FsSOLF0wDKgy"
      },
      "source": [
        "we are free to remove missing values"
      ]
    },
    {
      "cell_type": "code",
      "metadata": {
        "colab": {
          "base_uri": "https://localhost:8080/",
          "height": 390
        },
        "id": "zyTZtRSWB82j",
        "outputId": "13274af0-43d6-45a8-fe94-c0f34f35cfa4"
      },
      "source": [
        "data_no_ms=data.dropna(axis=0)\n",
        "data_no_ms.describe(include='all')"
      ],
      "execution_count": 31,
      "outputs": [
        {
          "output_type": "execute_result",
          "data": {
            "text/html": [
              "<div>\n",
              "<style scoped>\n",
              "    .dataframe tbody tr th:only-of-type {\n",
              "        vertical-align: middle;\n",
              "    }\n",
              "\n",
              "    .dataframe tbody tr th {\n",
              "        vertical-align: top;\n",
              "    }\n",
              "\n",
              "    .dataframe thead th {\n",
              "        text-align: right;\n",
              "    }\n",
              "</style>\n",
              "<table border=\"1\" class=\"dataframe\">\n",
              "  <thead>\n",
              "    <tr style=\"text-align: right;\">\n",
              "      <th></th>\n",
              "      <th>Brand</th>\n",
              "      <th>Price</th>\n",
              "      <th>Body</th>\n",
              "      <th>Mileage</th>\n",
              "      <th>EngineV</th>\n",
              "      <th>Engine Type</th>\n",
              "      <th>Registration</th>\n",
              "      <th>Year</th>\n",
              "    </tr>\n",
              "  </thead>\n",
              "  <tbody>\n",
              "    <tr>\n",
              "      <th>count</th>\n",
              "      <td>4025</td>\n",
              "      <td>4025.000000</td>\n",
              "      <td>4025</td>\n",
              "      <td>4025.000000</td>\n",
              "      <td>4025.000000</td>\n",
              "      <td>4025</td>\n",
              "      <td>4025</td>\n",
              "      <td>4025.000000</td>\n",
              "    </tr>\n",
              "    <tr>\n",
              "      <th>unique</th>\n",
              "      <td>7</td>\n",
              "      <td>NaN</td>\n",
              "      <td>6</td>\n",
              "      <td>NaN</td>\n",
              "      <td>NaN</td>\n",
              "      <td>4</td>\n",
              "      <td>2</td>\n",
              "      <td>NaN</td>\n",
              "    </tr>\n",
              "    <tr>\n",
              "      <th>top</th>\n",
              "      <td>Volkswagen</td>\n",
              "      <td>NaN</td>\n",
              "      <td>sedan</td>\n",
              "      <td>NaN</td>\n",
              "      <td>NaN</td>\n",
              "      <td>Diesel</td>\n",
              "      <td>yes</td>\n",
              "      <td>NaN</td>\n",
              "    </tr>\n",
              "    <tr>\n",
              "      <th>freq</th>\n",
              "      <td>880</td>\n",
              "      <td>NaN</td>\n",
              "      <td>1534</td>\n",
              "      <td>NaN</td>\n",
              "      <td>NaN</td>\n",
              "      <td>1861</td>\n",
              "      <td>3654</td>\n",
              "      <td>NaN</td>\n",
              "    </tr>\n",
              "    <tr>\n",
              "      <th>mean</th>\n",
              "      <td>NaN</td>\n",
              "      <td>19552.308065</td>\n",
              "      <td>NaN</td>\n",
              "      <td>163.572174</td>\n",
              "      <td>2.764586</td>\n",
              "      <td>NaN</td>\n",
              "      <td>NaN</td>\n",
              "      <td>2006.379627</td>\n",
              "    </tr>\n",
              "    <tr>\n",
              "      <th>std</th>\n",
              "      <td>NaN</td>\n",
              "      <td>25815.734988</td>\n",
              "      <td>NaN</td>\n",
              "      <td>103.394703</td>\n",
              "      <td>4.935941</td>\n",
              "      <td>NaN</td>\n",
              "      <td>NaN</td>\n",
              "      <td>6.695595</td>\n",
              "    </tr>\n",
              "    <tr>\n",
              "      <th>min</th>\n",
              "      <td>NaN</td>\n",
              "      <td>600.000000</td>\n",
              "      <td>NaN</td>\n",
              "      <td>0.000000</td>\n",
              "      <td>0.600000</td>\n",
              "      <td>NaN</td>\n",
              "      <td>NaN</td>\n",
              "      <td>1969.000000</td>\n",
              "    </tr>\n",
              "    <tr>\n",
              "      <th>25%</th>\n",
              "      <td>NaN</td>\n",
              "      <td>6999.000000</td>\n",
              "      <td>NaN</td>\n",
              "      <td>90.000000</td>\n",
              "      <td>1.800000</td>\n",
              "      <td>NaN</td>\n",
              "      <td>NaN</td>\n",
              "      <td>2003.000000</td>\n",
              "    </tr>\n",
              "    <tr>\n",
              "      <th>50%</th>\n",
              "      <td>NaN</td>\n",
              "      <td>11500.000000</td>\n",
              "      <td>NaN</td>\n",
              "      <td>158.000000</td>\n",
              "      <td>2.200000</td>\n",
              "      <td>NaN</td>\n",
              "      <td>NaN</td>\n",
              "      <td>2007.000000</td>\n",
              "    </tr>\n",
              "    <tr>\n",
              "      <th>75%</th>\n",
              "      <td>NaN</td>\n",
              "      <td>21900.000000</td>\n",
              "      <td>NaN</td>\n",
              "      <td>230.000000</td>\n",
              "      <td>3.000000</td>\n",
              "      <td>NaN</td>\n",
              "      <td>NaN</td>\n",
              "      <td>2012.000000</td>\n",
              "    </tr>\n",
              "    <tr>\n",
              "      <th>max</th>\n",
              "      <td>NaN</td>\n",
              "      <td>300000.000000</td>\n",
              "      <td>NaN</td>\n",
              "      <td>980.000000</td>\n",
              "      <td>99.990000</td>\n",
              "      <td>NaN</td>\n",
              "      <td>NaN</td>\n",
              "      <td>2016.000000</td>\n",
              "    </tr>\n",
              "  </tbody>\n",
              "</table>\n",
              "</div>"
            ],
            "text/plain": [
              "             Brand          Price   Body  ...  Engine Type  Registration         Year\n",
              "count         4025    4025.000000   4025  ...         4025          4025  4025.000000\n",
              "unique           7            NaN      6  ...            4             2          NaN\n",
              "top     Volkswagen            NaN  sedan  ...       Diesel           yes          NaN\n",
              "freq           880            NaN   1534  ...         1861          3654          NaN\n",
              "mean           NaN   19552.308065    NaN  ...          NaN           NaN  2006.379627\n",
              "std            NaN   25815.734988    NaN  ...          NaN           NaN     6.695595\n",
              "min            NaN     600.000000    NaN  ...          NaN           NaN  1969.000000\n",
              "25%            NaN    6999.000000    NaN  ...          NaN           NaN  2003.000000\n",
              "50%            NaN   11500.000000    NaN  ...          NaN           NaN  2007.000000\n",
              "75%            NaN   21900.000000    NaN  ...          NaN           NaN  2012.000000\n",
              "max            NaN  300000.000000    NaN  ...          NaN           NaN  2016.000000\n",
              "\n",
              "[11 rows x 8 columns]"
            ]
          },
          "metadata": {},
          "execution_count": 31
        }
      ]
    },
    {
      "cell_type": "code",
      "metadata": {
        "colab": {
          "base_uri": "https://localhost:8080/",
          "height": 367
        },
        "id": "zZHrv4ztD89Z",
        "outputId": "32ac2587-33f1-44c4-b678-e70c748d4668"
      },
      "source": [
        "sns.distplot(data_no_ms['Price'])"
      ],
      "execution_count": 32,
      "outputs": [
        {
          "output_type": "stream",
          "name": "stderr",
          "text": [
            "/usr/local/lib/python3.7/dist-packages/seaborn/distributions.py:2619: FutureWarning: `distplot` is a deprecated function and will be removed in a future version. Please adapt your code to use either `displot` (a figure-level function with similar flexibility) or `histplot` (an axes-level function for histograms).\n",
            "  warnings.warn(msg, FutureWarning)\n"
          ]
        },
        {
          "output_type": "execute_result",
          "data": {
            "text/plain": [
              "<matplotlib.axes._subplots.AxesSubplot at 0x7f9b26164c90>"
            ]
          },
          "metadata": {},
          "execution_count": 32
        },
        {
          "output_type": "display_data",
          "data": {
            "image/png": "[encoded data removed]",
            "text/plain": [
              "<Figure size 432x288 with 1 Axes>"
            ]
          },
          "metadata": {}
        }
      ]
    },
    {
      "cell_type": "markdown",
      "metadata": {
        "id": "P9v03oifW6dT"
      },
      "source": [
        "as we saw from describtive there are outliers on prices\n",
        "we can remove 1% by qunatile function "
      ]
    },
    {
      "cell_type": "code",
      "metadata": {
        "colab": {
          "base_uri": "https://localhost:8080/"
        },
        "id": "5RaabXLWFJOz",
        "outputId": "d4f8699f-705b-44eb-c9b0-c39ee4f109d3"
      },
      "source": [
        "q=data_no_ms['Price'].quantile(0.99)\n",
        "q"
      ],
      "execution_count": 34,
      "outputs": [
        {
          "output_type": "execute_result",
          "data": {
            "text/plain": [
              "129812.51999999981"
            ]
          },
          "metadata": {},
          "execution_count": 34
        }
      ]
    },
    {
      "cell_type": "code",
      "metadata": {
        "colab": {
          "base_uri": "https://localhost:8080/",
          "height": 390
        },
        "id": "KedMx9eEX5Ff",
        "outputId": "8eacd8e8-bf83-4930-9e99-ebe8ac079e58"
      },
      "source": [
        "data_1=data_no_ms[data_no_ms['Price']<q]\n",
        "data_1.describe(include='all')"
      ],
      "execution_count": 35,
      "outputs": [
        {
          "output_type": "execute_result",
          "data": {
            "text/html": [
              "<div>\n",
              "<style scoped>\n",
              "    .dataframe tbody tr th:only-of-type {\n",
              "        vertical-align: middle;\n",
              "    }\n",
              "\n",
              "    .dataframe tbody tr th {\n",
              "        vertical-align: top;\n",
              "    }\n",
              "\n",
              "    .dataframe thead th {\n",
              "        text-align: right;\n",
              "    }\n",
              "</style>\n",
              "<table border=\"1\" class=\"dataframe\">\n",
              "  <thead>\n",
              "    <tr style=\"text-align: right;\">\n",
              "      <th></th>\n",
              "      <th>Brand</th>\n",
              "      <th>Price</th>\n",
              "      <th>Body</th>\n",
              "      <th>Mileage</th>\n",
              "      <th>EngineV</th>\n",
              "      <th>Engine Type</th>\n",
              "      <th>Registration</th>\n",
              "      <th>Year</th>\n",
              "    </tr>\n",
              "  </thead>\n",
              "  <tbody>\n",
              "    <tr>\n",
              "      <th>count</th>\n",
              "      <td>3984</td>\n",
              "      <td>3984.000000</td>\n",
              "      <td>3984</td>\n",
              "      <td>3984.000000</td>\n",
              "      <td>3984.000000</td>\n",
              "      <td>3984</td>\n",
              "      <td>3984</td>\n",
              "      <td>3984.000000</td>\n",
              "    </tr>\n",
              "    <tr>\n",
              "      <th>unique</th>\n",
              "      <td>7</td>\n",
              "      <td>NaN</td>\n",
              "      <td>6</td>\n",
              "      <td>NaN</td>\n",
              "      <td>NaN</td>\n",
              "      <td>4</td>\n",
              "      <td>2</td>\n",
              "      <td>NaN</td>\n",
              "    </tr>\n",
              "    <tr>\n",
              "      <th>top</th>\n",
              "      <td>Volkswagen</td>\n",
              "      <td>NaN</td>\n",
              "      <td>sedan</td>\n",
              "      <td>NaN</td>\n",
              "      <td>NaN</td>\n",
              "      <td>Diesel</td>\n",
              "      <td>yes</td>\n",
              "      <td>NaN</td>\n",
              "    </tr>\n",
              "    <tr>\n",
              "      <th>freq</th>\n",
              "      <td>880</td>\n",
              "      <td>NaN</td>\n",
              "      <td>1528</td>\n",
              "      <td>NaN</td>\n",
              "      <td>NaN</td>\n",
              "      <td>1853</td>\n",
              "      <td>3613</td>\n",
              "      <td>NaN</td>\n",
              "    </tr>\n",
              "    <tr>\n",
              "      <th>mean</th>\n",
              "      <td>NaN</td>\n",
              "      <td>17837.117460</td>\n",
              "      <td>NaN</td>\n",
              "      <td>165.116466</td>\n",
              "      <td>2.743770</td>\n",
              "      <td>NaN</td>\n",
              "      <td>NaN</td>\n",
              "      <td>2006.292922</td>\n",
              "    </tr>\n",
              "    <tr>\n",
              "      <th>std</th>\n",
              "      <td>NaN</td>\n",
              "      <td>18976.268315</td>\n",
              "      <td>NaN</td>\n",
              "      <td>102.766126</td>\n",
              "      <td>4.956057</td>\n",
              "      <td>NaN</td>\n",
              "      <td>NaN</td>\n",
              "      <td>6.672745</td>\n",
              "    </tr>\n",
              "    <tr>\n",
              "      <th>min</th>\n",
              "      <td>NaN</td>\n",
              "      <td>600.000000</td>\n",
              "      <td>NaN</td>\n",
              "      <td>0.000000</td>\n",
              "      <td>0.600000</td>\n",
              "      <td>NaN</td>\n",
              "      <td>NaN</td>\n",
              "      <td>1969.000000</td>\n",
              "    </tr>\n",
              "    <tr>\n",
              "      <th>25%</th>\n",
              "      <td>NaN</td>\n",
              "      <td>6980.000000</td>\n",
              "      <td>NaN</td>\n",
              "      <td>93.000000</td>\n",
              "      <td>1.800000</td>\n",
              "      <td>NaN</td>\n",
              "      <td>NaN</td>\n",
              "      <td>2002.750000</td>\n",
              "    </tr>\n",
              "    <tr>\n",
              "      <th>50%</th>\n",
              "      <td>NaN</td>\n",
              "      <td>11400.000000</td>\n",
              "      <td>NaN</td>\n",
              "      <td>160.000000</td>\n",
              "      <td>2.200000</td>\n",
              "      <td>NaN</td>\n",
              "      <td>NaN</td>\n",
              "      <td>2007.000000</td>\n",
              "    </tr>\n",
              "    <tr>\n",
              "      <th>75%</th>\n",
              "      <td>NaN</td>\n",
              "      <td>21000.000000</td>\n",
              "      <td>NaN</td>\n",
              "      <td>230.000000</td>\n",
              "      <td>3.000000</td>\n",
              "      <td>NaN</td>\n",
              "      <td>NaN</td>\n",
              "      <td>2011.000000</td>\n",
              "    </tr>\n",
              "    <tr>\n",
              "      <th>max</th>\n",
              "      <td>NaN</td>\n",
              "      <td>129222.000000</td>\n",
              "      <td>NaN</td>\n",
              "      <td>980.000000</td>\n",
              "      <td>99.990000</td>\n",
              "      <td>NaN</td>\n",
              "      <td>NaN</td>\n",
              "      <td>2016.000000</td>\n",
              "    </tr>\n",
              "  </tbody>\n",
              "</table>\n",
              "</div>"
            ],
            "text/plain": [
              "             Brand          Price   Body  ...  Engine Type  Registration         Year\n",
              "count         3984    3984.000000   3984  ...         3984          3984  3984.000000\n",
              "unique           7            NaN      6  ...            4             2          NaN\n",
              "top     Volkswagen            NaN  sedan  ...       Diesel           yes          NaN\n",
              "freq           880            NaN   1528  ...         1853          3613          NaN\n",
              "mean           NaN   17837.117460    NaN  ...          NaN           NaN  2006.292922\n",
              "std            NaN   18976.268315    NaN  ...          NaN           NaN     6.672745\n",
              "min            NaN     600.000000    NaN  ...          NaN           NaN  1969.000000\n",
              "25%            NaN    6980.000000    NaN  ...          NaN           NaN  2002.750000\n",
              "50%            NaN   11400.000000    NaN  ...          NaN           NaN  2007.000000\n",
              "75%            NaN   21000.000000    NaN  ...          NaN           NaN  2011.000000\n",
              "max            NaN  129222.000000    NaN  ...          NaN           NaN  2016.000000\n",
              "\n",
              "[11 rows x 8 columns]"
            ]
          },
          "metadata": {},
          "execution_count": 35
        }
      ]
    },
    {
      "cell_type": "code",
      "metadata": {
        "id": "mtn5pl7CYJ7b"
      },
      "source": [
        ""
      ],
      "execution_count": null,
      "outputs": []
    }
  ]
}