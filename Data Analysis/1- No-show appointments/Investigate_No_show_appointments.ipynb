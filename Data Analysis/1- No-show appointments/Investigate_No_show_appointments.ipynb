{
 "cells": [
  {
   "cell_type": "markdown",
   "metadata": {},
   "source": [
    "# Project: Investigate a Dataset (No-show appointments)\n",
    "\n",
    "## Table of Contents\n",
    "<ul>\n",
    "<li><a href=\"#intro\">Introduction</a></li>\n",
    "<li><a href=\"#ask\">Asking Questions</a></li>\n",
    "<li><a href=\"#wrangling\">Data Wrangling</a></li>\n",
    "<li><a href=\"#eda\">Exploratory Data Analysis</a></li>\n",
    "<li><a href=\"#conclusions\">Conclusions</a></li>\n",
    "</ul>"
   ]
  },
  {
   "cell_type": "markdown",
   "metadata": {},
   "source": [
    "<a id='intro'></a>\n",
    "## Introduction\n",
    "\n",
    "### Business Understanding\n",
    "\n",
    "A person makes a doctor appointment, receives all the instructions and no-show. Who to blame?\n",
    "\n",
    "This dataset collects information from 110527 medical appointments in Brazil from ('2016-04-29') to ('2016-06-08')  and is focused on the question of whether or not patients show up for their appointment.\n",
    "\n",
    "Problem: Many patients book the appointment with doctor then didn't show up on scheduled day.\n",
    "\n",
    "Objective of the analysis: Investigate What factors are important for us to know in order to predict if a patient will\n",
    "show up for their scheduled appointment?.\n",
    "\n",
    "### Features :\n",
    "- PatientId: Identification of the patient\n",
    "\n",
    "- AppointmentID: Identification of the appointment\n",
    "\n",
    "- Gender: M=>Male & F=>Female.\n",
    "\n",
    "- AppointmentDay: The day of Appointment.\n",
    "\n",
    "- ScheduledDay: Tells us on what day the patient set up their appointment.\n",
    "\n",
    "- Age: Patient's age.\n",
    "\n",
    "- Neighborhood: indicates the location of the hospital.\n",
    "\n",
    "- Scholarship: indicates whether or not the patient is enrolled in Brasilian <a href='https://en.wikipedia.org/wiki/Bolsa_Fam%C3%ADlia'>welfare program</a>\n",
    "\n",
    "- Hipertension: True or False\n",
    "\n",
    "- Diabetes: True or False\n",
    "\n",
    "- Alcoholism: True or False\n",
    "\n",
    "- Handcap: handicap rate (0 to 4)\n",
    "\n",
    "- SMS_received: True or False.\n",
    "\n",
    "- No-show: True or False.\n",
    "\n",
    "Data set url <a href='https://www.kaggle.com/joniarroba/noshowappointments'>noshowappointments</a>"
   ]
  },
  {
   "cell_type": "code",
   "execution_count": 1,
   "metadata": {},
   "outputs": [],
   "source": [
    "import numpy as np\n",
    "import pandas as pd\n",
    "%matplotlib inline\n",
    "import matplotlib.pyplot as plt\n",
    "import seaborn as sns\n",
    "\n",
    "sns.set()"
   ]
  },
  {
   "cell_type": "markdown",
   "metadata": {},
   "source": [
    "# Custom Functions"
   ]
  },
  {
   "cell_type": "markdown",
   "metadata": {},
   "source": [
    "- Drop columns from data frame in place:"
   ]
  },
  {
   "cell_type": "code",
   "execution_count": 2,
   "metadata": {},
   "outputs": [],
   "source": [
    "def drop_df_columns(df,cols_list):\n",
    "    df.drop(columns=cols_list,inplace=True)"
   ]
  },
  {
   "cell_type": "markdown",
   "metadata": {},
   "source": [
    "- To DateTime FataFrame Columns Converting"
   ]
  },
  {
   "cell_type": "code",
   "execution_count": 3,
   "metadata": {},
   "outputs": [],
   "source": [
    "def df_columns_to_datetime(df,cols_list):\n",
    "    for i in cols_list:\n",
    "        df[i]=pd.to_datetime(df[i])"
   ]
  },
  {
   "cell_type": "markdown",
   "metadata": {},
   "source": [
    "- Rename DataFrame Columns "
   ]
  },
  {
   "cell_type": "code",
   "execution_count": 4,
   "metadata": {},
   "outputs": [],
   "source": [
    "def df_rename_cols(df,col_name_dict):\n",
    "    df.rename(columns=col_name_dict,inplace=True)"
   ]
  },
  {
   "cell_type": "markdown",
   "metadata": {},
   "source": [
    "<a id='ask'></a>\n",
    "## 1- Asking Questions\n",
    "\n",
    "Q1 Is there any Correlation between features and patient's show up?\n",
    "\n",
    "Q2 Is SMS_received , gender and scholarship affect the patient's show up?\n",
    "\n",
    "Q3 Is any deseases (Hipertension , Diabetes or Handcap ) affect the patient's show up?\n",
    "\n",
    "Q4 Is Appointment Day of the week and the month affect the patient's show up?\n",
    "\n",
    "Q5 Is Alcoholism affect the patient's show up?\n",
    "\n",
    "Q6 Is the average of age affect the patient's show up?\n",
    "\n",
    "Q7 Is the waiting days affect the patient's show up?\n",
    "\n",
    "Q8 What factors areimportant for us to know in order to predict if a patient will show up for their scheduled appointment up?"
   ]
  },
  {
   "cell_type": "markdown",
   "metadata": {},
   "source": [
    "<a id='wrangling'></a>\n",
    "## 2- Data Wrangling\n",
    "\n",
    "<ul>\n",
    "<li><a href=\"#gather\">Gathering Data</a></li>\n",
    "<li><a href=\"#assess\">Assessing Data</a></li>\n",
    "<li><a href=\"#clean\">Cleaning Data</a></li>\n",
    "</ul>"
   ]
  },
  {
   "cell_type": "markdown",
   "metadata": {},
   "source": [
    " <a id='gather'></a>\n",
    "### a) Gathering Data\n",
    "\n",
    "- As mentiond before in <a href=\"#intro\">introduction</a> DataSet downloaded from <a href='https://www.kaggle.com/joniarroba/noshowappointments'>noshowappointments</a> "
   ]
  },
  {
   "cell_type": "code",
   "execution_count": 5,
   "metadata": {},
   "outputs": [
    {
     "data": {
      "text/html": [
       "<div>\n",
       "<style scoped>\n",
       "    .dataframe tbody tr th:only-of-type {\n",
       "        vertical-align: middle;\n",
       "    }\n",
       "\n",
       "    .dataframe tbody tr th {\n",
       "        vertical-align: top;\n",
       "    }\n",
       "\n",
       "    .dataframe thead th {\n",
       "        text-align: right;\n",
       "    }\n",
       "</style>\n",
       "<table border=\"1\" class=\"dataframe\">\n",
       "  <thead>\n",
       "    <tr style=\"text-align: right;\">\n",
       "      <th></th>\n",
       "      <th>PatientId</th>\n",
       "      <th>AppointmentID</th>\n",
       "      <th>Gender</th>\n",
       "      <th>ScheduledDay</th>\n",
       "      <th>AppointmentDay</th>\n",
       "      <th>Age</th>\n",
       "      <th>Neighbourhood</th>\n",
       "      <th>Scholarship</th>\n",
       "      <th>Hipertension</th>\n",
       "      <th>Diabetes</th>\n",
       "      <th>Alcoholism</th>\n",
       "      <th>Handcap</th>\n",
       "      <th>SMS_received</th>\n",
       "      <th>No-show</th>\n",
       "    </tr>\n",
       "  </thead>\n",
       "  <tbody>\n",
       "    <tr>\n",
       "      <th>0</th>\n",
       "      <td>2.987250e+13</td>\n",
       "      <td>5642903</td>\n",
       "      <td>F</td>\n",
       "      <td>2016-04-29T18:38:08Z</td>\n",
       "      <td>2016-04-29T00:00:00Z</td>\n",
       "      <td>62</td>\n",
       "      <td>JARDIM DA PENHA</td>\n",
       "      <td>0</td>\n",
       "      <td>1</td>\n",
       "      <td>0</td>\n",
       "      <td>0</td>\n",
       "      <td>0</td>\n",
       "      <td>0</td>\n",
       "      <td>No</td>\n",
       "    </tr>\n",
       "    <tr>\n",
       "      <th>1</th>\n",
       "      <td>5.589978e+14</td>\n",
       "      <td>5642503</td>\n",
       "      <td>M</td>\n",
       "      <td>2016-04-29T16:08:27Z</td>\n",
       "      <td>2016-04-29T00:00:00Z</td>\n",
       "      <td>56</td>\n",
       "      <td>JARDIM DA PENHA</td>\n",
       "      <td>0</td>\n",
       "      <td>0</td>\n",
       "      <td>0</td>\n",
       "      <td>0</td>\n",
       "      <td>0</td>\n",
       "      <td>0</td>\n",
       "      <td>No</td>\n",
       "    </tr>\n",
       "    <tr>\n",
       "      <th>2</th>\n",
       "      <td>4.262962e+12</td>\n",
       "      <td>5642549</td>\n",
       "      <td>F</td>\n",
       "      <td>2016-04-29T16:19:04Z</td>\n",
       "      <td>2016-04-29T00:00:00Z</td>\n",
       "      <td>62</td>\n",
       "      <td>MATA DA PRAIA</td>\n",
       "      <td>0</td>\n",
       "      <td>0</td>\n",
       "      <td>0</td>\n",
       "      <td>0</td>\n",
       "      <td>0</td>\n",
       "      <td>0</td>\n",
       "      <td>No</td>\n",
       "    </tr>\n",
       "    <tr>\n",
       "      <th>3</th>\n",
       "      <td>8.679512e+11</td>\n",
       "      <td>5642828</td>\n",
       "      <td>F</td>\n",
       "      <td>2016-04-29T17:29:31Z</td>\n",
       "      <td>2016-04-29T00:00:00Z</td>\n",
       "      <td>8</td>\n",
       "      <td>PONTAL DE CAMBURI</td>\n",
       "      <td>0</td>\n",
       "      <td>0</td>\n",
       "      <td>0</td>\n",
       "      <td>0</td>\n",
       "      <td>0</td>\n",
       "      <td>0</td>\n",
       "      <td>No</td>\n",
       "    </tr>\n",
       "    <tr>\n",
       "      <th>4</th>\n",
       "      <td>8.841186e+12</td>\n",
       "      <td>5642494</td>\n",
       "      <td>F</td>\n",
       "      <td>2016-04-29T16:07:23Z</td>\n",
       "      <td>2016-04-29T00:00:00Z</td>\n",
       "      <td>56</td>\n",
       "      <td>JARDIM DA PENHA</td>\n",
       "      <td>0</td>\n",
       "      <td>1</td>\n",
       "      <td>1</td>\n",
       "      <td>0</td>\n",
       "      <td>0</td>\n",
       "      <td>0</td>\n",
       "      <td>No</td>\n",
       "    </tr>\n",
       "  </tbody>\n",
       "</table>\n",
       "</div>"
      ],
      "text/plain": [
       "      PatientId  AppointmentID Gender          ScheduledDay  \\\n",
       "0  2.987250e+13        5642903      F  2016-04-29T18:38:08Z   \n",
       "1  5.589978e+14        5642503      M  2016-04-29T16:08:27Z   \n",
       "2  4.262962e+12        5642549      F  2016-04-29T16:19:04Z   \n",
       "3  8.679512e+11        5642828      F  2016-04-29T17:29:31Z   \n",
       "4  8.841186e+12        5642494      F  2016-04-29T16:07:23Z   \n",
       "\n",
       "         AppointmentDay  Age      Neighbourhood  Scholarship  Hipertension  \\\n",
       "0  2016-04-29T00:00:00Z   62    JARDIM DA PENHA            0             1   \n",
       "1  2016-04-29T00:00:00Z   56    JARDIM DA PENHA            0             0   \n",
       "2  2016-04-29T00:00:00Z   62      MATA DA PRAIA            0             0   \n",
       "3  2016-04-29T00:00:00Z    8  PONTAL DE CAMBURI            0             0   \n",
       "4  2016-04-29T00:00:00Z   56    JARDIM DA PENHA            0             1   \n",
       "\n",
       "   Diabetes  Alcoholism  Handcap  SMS_received No-show  \n",
       "0         0           0        0             0      No  \n",
       "1         0           0        0             0      No  \n",
       "2         0           0        0             0      No  \n",
       "3         0           0        0             0      No  \n",
       "4         1           0        0             0      No  "
      ]
     },
     "execution_count": 5,
     "metadata": {},
     "output_type": "execute_result"
    }
   ],
   "source": [
    "df=pd.read_csv(r'noshowappointments-KaggleV2-May-2016.csv')\n",
    "df.head()"
   ]
  },
  {
   "cell_type": "markdown",
   "metadata": {},
   "source": [
    " <a id='assess'></a>\n",
    "### b) Assessing Data "
   ]
  },
  {
   "cell_type": "code",
   "execution_count": 6,
   "metadata": {},
   "outputs": [
    {
     "name": "stdout",
     "output_type": "stream",
     "text": [
      "<class 'pandas.core.frame.DataFrame'>\n",
      "RangeIndex: 110527 entries, 0 to 110526\n",
      "Data columns (total 14 columns):\n",
      "PatientId         110527 non-null float64\n",
      "AppointmentID     110527 non-null int64\n",
      "Gender            110527 non-null object\n",
      "ScheduledDay      110527 non-null object\n",
      "AppointmentDay    110527 non-null object\n",
      "Age               110527 non-null int64\n",
      "Neighbourhood     110527 non-null object\n",
      "Scholarship       110527 non-null int64\n",
      "Hipertension      110527 non-null int64\n",
      "Diabetes          110527 non-null int64\n",
      "Alcoholism        110527 non-null int64\n",
      "Handcap           110527 non-null int64\n",
      "SMS_received      110527 non-null int64\n",
      "No-show           110527 non-null object\n",
      "dtypes: float64(1), int64(8), object(5)\n",
      "memory usage: 11.8+ MB\n"
     ]
    }
   ],
   "source": [
    "df.info()"
   ]
  },
  {
   "cell_type": "markdown",
   "metadata": {},
   "source": [
    "- as we can see there are 14 feature columns and 110527 row with out any null values.\n",
    "- PatientId and AppointmentID features hasn't predict power because so:\n",
    "    - remove PatientId column.\n",
    "    - remove AppointmentID column.\n",
    "- some data types need to be converted :\n",
    "    - ScheduledDay to datetime\n",
    "    - AppointmentDay to datetime"
   ]
  },
  {
   "cell_type": "markdown",
   "metadata": {},
   "source": [
    "- Check duplicated rows."
   ]
  },
  {
   "cell_type": "code",
   "execution_count": 7,
   "metadata": {},
   "outputs": [
    {
     "data": {
      "text/plain": [
       "0"
      ]
     },
     "execution_count": 7,
     "metadata": {},
     "output_type": "execute_result"
    }
   ],
   "source": [
    "df.duplicated().sum()"
   ]
  },
  {
   "cell_type": "markdown",
   "metadata": {},
   "source": [
    "- there is no dublicated rows"
   ]
  },
  {
   "cell_type": "code",
   "execution_count": 8,
   "metadata": {},
   "outputs": [
    {
     "data": {
      "text/plain": [
       "F    71840\n",
       "M    38687\n",
       "Name: Gender, dtype: int64"
      ]
     },
     "execution_count": 8,
     "metadata": {},
     "output_type": "execute_result"
    }
   ],
   "source": [
    "df['Gender'].value_counts()"
   ]
  },
  {
   "cell_type": "markdown",
   "metadata": {},
   "source": [
    "- map M to male and F to female is better representive"
   ]
  },
  {
   "cell_type": "code",
   "execution_count": 9,
   "metadata": {},
   "outputs": [
    {
     "data": {
      "text/plain": [
       "No     88208\n",
       "Yes    22319\n",
       "Name: No-show, dtype: int64"
      ]
     },
     "execution_count": 9,
     "metadata": {},
     "output_type": "execute_result"
    }
   ],
   "source": [
    "df['No-show'].value_counts()"
   ]
  },
  {
   "cell_type": "markdown",
   "metadata": {},
   "source": [
    "- Convert No-show to is show to reduse confusion:\n",
    "    - this required map yes to 0 and no to 1 and then convert column data type to int"
   ]
  },
  {
   "cell_type": "markdown",
   "metadata": {},
   "source": [
    "- rename all columns to lower case and split tow sections word by  _"
   ]
  },
  {
   "cell_type": "code",
   "execution_count": 10,
   "metadata": {},
   "outputs": [
    {
     "data": {
      "text/plain": [
       "count    110527.000000\n",
       "mean         37.088874\n",
       "std          23.110205\n",
       "min          -1.000000\n",
       "25%          18.000000\n",
       "50%          37.000000\n",
       "75%          55.000000\n",
       "max         115.000000\n",
       "Name: Age, dtype: float64"
      ]
     },
     "execution_count": 10,
     "metadata": {},
     "output_type": "execute_result"
    }
   ],
   "source": [
    "df['Age'].describe()"
   ]
  },
  {
   "cell_type": "code",
   "execution_count": 11,
   "metadata": {},
   "outputs": [
    {
     "data": {
      "text/plain": [
       "3539"
      ]
     },
     "execution_count": 11,
     "metadata": {},
     "output_type": "execute_result"
    }
   ],
   "source": [
    "df[df['Age']==0]['Age'].count()"
   ]
  },
  {
   "cell_type": "markdown",
   "metadata": {},
   "source": [
    "- removing data with age < 0 but we will accept the max value 115 because it is possible \n",
    "- 3539 with age zero acceptable because my born up to 11 month ago."
   ]
  },
  {
   "cell_type": "code",
   "execution_count": 12,
   "metadata": {},
   "outputs": [
    {
     "data": {
      "text/html": [
       "<div>\n",
       "<style scoped>\n",
       "    .dataframe tbody tr th:only-of-type {\n",
       "        vertical-align: middle;\n",
       "    }\n",
       "\n",
       "    .dataframe tbody tr th {\n",
       "        vertical-align: top;\n",
       "    }\n",
       "\n",
       "    .dataframe thead th {\n",
       "        text-align: right;\n",
       "    }\n",
       "</style>\n",
       "<table border=\"1\" class=\"dataframe\">\n",
       "  <thead>\n",
       "    <tr style=\"text-align: right;\">\n",
       "      <th></th>\n",
       "      <th>PatientId</th>\n",
       "      <th>AppointmentID</th>\n",
       "      <th>Age</th>\n",
       "      <th>Scholarship</th>\n",
       "      <th>Hipertension</th>\n",
       "      <th>Diabetes</th>\n",
       "      <th>Alcoholism</th>\n",
       "      <th>Handcap</th>\n",
       "      <th>SMS_received</th>\n",
       "    </tr>\n",
       "  </thead>\n",
       "  <tbody>\n",
       "    <tr>\n",
       "      <th>count</th>\n",
       "      <td>1.105270e+05</td>\n",
       "      <td>1.105270e+05</td>\n",
       "      <td>110527.000000</td>\n",
       "      <td>110527.000000</td>\n",
       "      <td>110527.000000</td>\n",
       "      <td>110527.000000</td>\n",
       "      <td>110527.000000</td>\n",
       "      <td>110527.000000</td>\n",
       "      <td>110527.000000</td>\n",
       "    </tr>\n",
       "    <tr>\n",
       "      <th>mean</th>\n",
       "      <td>1.474963e+14</td>\n",
       "      <td>5.675305e+06</td>\n",
       "      <td>37.088874</td>\n",
       "      <td>0.098266</td>\n",
       "      <td>0.197246</td>\n",
       "      <td>0.071865</td>\n",
       "      <td>0.030400</td>\n",
       "      <td>0.022248</td>\n",
       "      <td>0.321026</td>\n",
       "    </tr>\n",
       "    <tr>\n",
       "      <th>std</th>\n",
       "      <td>2.560949e+14</td>\n",
       "      <td>7.129575e+04</td>\n",
       "      <td>23.110205</td>\n",
       "      <td>0.297675</td>\n",
       "      <td>0.397921</td>\n",
       "      <td>0.258265</td>\n",
       "      <td>0.171686</td>\n",
       "      <td>0.161543</td>\n",
       "      <td>0.466873</td>\n",
       "    </tr>\n",
       "    <tr>\n",
       "      <th>min</th>\n",
       "      <td>3.921784e+04</td>\n",
       "      <td>5.030230e+06</td>\n",
       "      <td>-1.000000</td>\n",
       "      <td>0.000000</td>\n",
       "      <td>0.000000</td>\n",
       "      <td>0.000000</td>\n",
       "      <td>0.000000</td>\n",
       "      <td>0.000000</td>\n",
       "      <td>0.000000</td>\n",
       "    </tr>\n",
       "    <tr>\n",
       "      <th>25%</th>\n",
       "      <td>4.172614e+12</td>\n",
       "      <td>5.640286e+06</td>\n",
       "      <td>18.000000</td>\n",
       "      <td>0.000000</td>\n",
       "      <td>0.000000</td>\n",
       "      <td>0.000000</td>\n",
       "      <td>0.000000</td>\n",
       "      <td>0.000000</td>\n",
       "      <td>0.000000</td>\n",
       "    </tr>\n",
       "    <tr>\n",
       "      <th>50%</th>\n",
       "      <td>3.173184e+13</td>\n",
       "      <td>5.680573e+06</td>\n",
       "      <td>37.000000</td>\n",
       "      <td>0.000000</td>\n",
       "      <td>0.000000</td>\n",
       "      <td>0.000000</td>\n",
       "      <td>0.000000</td>\n",
       "      <td>0.000000</td>\n",
       "      <td>0.000000</td>\n",
       "    </tr>\n",
       "    <tr>\n",
       "      <th>75%</th>\n",
       "      <td>9.439172e+13</td>\n",
       "      <td>5.725524e+06</td>\n",
       "      <td>55.000000</td>\n",
       "      <td>0.000000</td>\n",
       "      <td>0.000000</td>\n",
       "      <td>0.000000</td>\n",
       "      <td>0.000000</td>\n",
       "      <td>0.000000</td>\n",
       "      <td>1.000000</td>\n",
       "    </tr>\n",
       "    <tr>\n",
       "      <th>max</th>\n",
       "      <td>9.999816e+14</td>\n",
       "      <td>5.790484e+06</td>\n",
       "      <td>115.000000</td>\n",
       "      <td>1.000000</td>\n",
       "      <td>1.000000</td>\n",
       "      <td>1.000000</td>\n",
       "      <td>1.000000</td>\n",
       "      <td>4.000000</td>\n",
       "      <td>1.000000</td>\n",
       "    </tr>\n",
       "  </tbody>\n",
       "</table>\n",
       "</div>"
      ],
      "text/plain": [
       "          PatientId  AppointmentID            Age    Scholarship  \\\n",
       "count  1.105270e+05   1.105270e+05  110527.000000  110527.000000   \n",
       "mean   1.474963e+14   5.675305e+06      37.088874       0.098266   \n",
       "std    2.560949e+14   7.129575e+04      23.110205       0.297675   \n",
       "min    3.921784e+04   5.030230e+06      -1.000000       0.000000   \n",
       "25%    4.172614e+12   5.640286e+06      18.000000       0.000000   \n",
       "50%    3.173184e+13   5.680573e+06      37.000000       0.000000   \n",
       "75%    9.439172e+13   5.725524e+06      55.000000       0.000000   \n",
       "max    9.999816e+14   5.790484e+06     115.000000       1.000000   \n",
       "\n",
       "        Hipertension       Diabetes     Alcoholism        Handcap  \\\n",
       "count  110527.000000  110527.000000  110527.000000  110527.000000   \n",
       "mean        0.197246       0.071865       0.030400       0.022248   \n",
       "std         0.397921       0.258265       0.171686       0.161543   \n",
       "min         0.000000       0.000000       0.000000       0.000000   \n",
       "25%         0.000000       0.000000       0.000000       0.000000   \n",
       "50%         0.000000       0.000000       0.000000       0.000000   \n",
       "75%         0.000000       0.000000       0.000000       0.000000   \n",
       "max         1.000000       1.000000       1.000000       4.000000   \n",
       "\n",
       "        SMS_received  \n",
       "count  110527.000000  \n",
       "mean        0.321026  \n",
       "std         0.466873  \n",
       "min         0.000000  \n",
       "25%         0.000000  \n",
       "50%         0.000000  \n",
       "75%         1.000000  \n",
       "max         1.000000  "
      ]
     },
     "execution_count": 12,
     "metadata": {},
     "output_type": "execute_result"
    }
   ],
   "source": [
    "df.describe()"
   ]
  },
  {
   "cell_type": "code",
   "execution_count": 13,
   "metadata": {},
   "outputs": [
    {
     "data": {
      "text/plain": [
       "0    108286\n",
       "1      2042\n",
       "2       183\n",
       "3        13\n",
       "4         3\n",
       "Name: Handcap, dtype: int64"
      ]
     },
     "execution_count": 13,
     "metadata": {},
     "output_type": "execute_result"
    }
   ],
   "source": [
    "df.Handcap.value_counts()"
   ]
  },
  {
   "cell_type": "markdown",
   "metadata": {},
   "source": [
    "- rename Handcap column to handicap"
   ]
  },
  {
   "cell_type": "markdown",
   "metadata": {},
   "source": [
    "### Assess conclusions:\n",
    "- Remove PatientId column.\n",
    "- Remove AppointmentID column.\n",
    "- Convert ScheduledDay column datatype to datetime\n",
    "- Convert AppointmentDay column datatype to datetime\n",
    "- map M to male and F to female better representive\n",
    "- Convert No-show to is show to reduse confusion and map yes to 0 and no to 1 and then convert column data type to int.\n",
    "- rename all columns to lower case and split tow sections word by _\n",
    "- removing data with age < 0\n",
    "- rename Handcap column to handicap"
   ]
  },
  {
   "cell_type": "markdown",
   "metadata": {},
   "source": [
    " <a id='clean'></a>\n",
    "### b) Cleaning Data \n",
    "\n",
    "#### steps:"
   ]
  },
  {
   "cell_type": "markdown",
   "metadata": {},
   "source": [
    "1- Copy data fram to new one"
   ]
  },
  {
   "cell_type": "code",
   "execution_count": 14,
   "metadata": {},
   "outputs": [],
   "source": [
    "df_new=df.copy()"
   ]
  },
  {
   "cell_type": "markdown",
   "metadata": {},
   "source": [
    "2- Remove un needed columns PatientId and AppointmentID"
   ]
  },
  {
   "cell_type": "code",
   "execution_count": 15,
   "metadata": {},
   "outputs": [
    {
     "data": {
      "text/html": [
       "<div>\n",
       "<style scoped>\n",
       "    .dataframe tbody tr th:only-of-type {\n",
       "        vertical-align: middle;\n",
       "    }\n",
       "\n",
       "    .dataframe tbody tr th {\n",
       "        vertical-align: top;\n",
       "    }\n",
       "\n",
       "    .dataframe thead th {\n",
       "        text-align: right;\n",
       "    }\n",
       "</style>\n",
       "<table border=\"1\" class=\"dataframe\">\n",
       "  <thead>\n",
       "    <tr style=\"text-align: right;\">\n",
       "      <th></th>\n",
       "      <th>Gender</th>\n",
       "      <th>ScheduledDay</th>\n",
       "      <th>AppointmentDay</th>\n",
       "      <th>Age</th>\n",
       "      <th>Neighbourhood</th>\n",
       "      <th>Scholarship</th>\n",
       "      <th>Hipertension</th>\n",
       "      <th>Diabetes</th>\n",
       "      <th>Alcoholism</th>\n",
       "      <th>Handcap</th>\n",
       "      <th>SMS_received</th>\n",
       "      <th>No-show</th>\n",
       "    </tr>\n",
       "  </thead>\n",
       "  <tbody>\n",
       "    <tr>\n",
       "      <th>0</th>\n",
       "      <td>F</td>\n",
       "      <td>2016-04-29T18:38:08Z</td>\n",
       "      <td>2016-04-29T00:00:00Z</td>\n",
       "      <td>62</td>\n",
       "      <td>JARDIM DA PENHA</td>\n",
       "      <td>0</td>\n",
       "      <td>1</td>\n",
       "      <td>0</td>\n",
       "      <td>0</td>\n",
       "      <td>0</td>\n",
       "      <td>0</td>\n",
       "      <td>No</td>\n",
       "    </tr>\n",
       "    <tr>\n",
       "      <th>1</th>\n",
       "      <td>M</td>\n",
       "      <td>2016-04-29T16:08:27Z</td>\n",
       "      <td>2016-04-29T00:00:00Z</td>\n",
       "      <td>56</td>\n",
       "      <td>JARDIM DA PENHA</td>\n",
       "      <td>0</td>\n",
       "      <td>0</td>\n",
       "      <td>0</td>\n",
       "      <td>0</td>\n",
       "      <td>0</td>\n",
       "      <td>0</td>\n",
       "      <td>No</td>\n",
       "    </tr>\n",
       "    <tr>\n",
       "      <th>2</th>\n",
       "      <td>F</td>\n",
       "      <td>2016-04-29T16:19:04Z</td>\n",
       "      <td>2016-04-29T00:00:00Z</td>\n",
       "      <td>62</td>\n",
       "      <td>MATA DA PRAIA</td>\n",
       "      <td>0</td>\n",
       "      <td>0</td>\n",
       "      <td>0</td>\n",
       "      <td>0</td>\n",
       "      <td>0</td>\n",
       "      <td>0</td>\n",
       "      <td>No</td>\n",
       "    </tr>\n",
       "    <tr>\n",
       "      <th>3</th>\n",
       "      <td>F</td>\n",
       "      <td>2016-04-29T17:29:31Z</td>\n",
       "      <td>2016-04-29T00:00:00Z</td>\n",
       "      <td>8</td>\n",
       "      <td>PONTAL DE CAMBURI</td>\n",
       "      <td>0</td>\n",
       "      <td>0</td>\n",
       "      <td>0</td>\n",
       "      <td>0</td>\n",
       "      <td>0</td>\n",
       "      <td>0</td>\n",
       "      <td>No</td>\n",
       "    </tr>\n",
       "    <tr>\n",
       "      <th>4</th>\n",
       "      <td>F</td>\n",
       "      <td>2016-04-29T16:07:23Z</td>\n",
       "      <td>2016-04-29T00:00:00Z</td>\n",
       "      <td>56</td>\n",
       "      <td>JARDIM DA PENHA</td>\n",
       "      <td>0</td>\n",
       "      <td>1</td>\n",
       "      <td>1</td>\n",
       "      <td>0</td>\n",
       "      <td>0</td>\n",
       "      <td>0</td>\n",
       "      <td>No</td>\n",
       "    </tr>\n",
       "  </tbody>\n",
       "</table>\n",
       "</div>"
      ],
      "text/plain": [
       "  Gender          ScheduledDay        AppointmentDay  Age      Neighbourhood  \\\n",
       "0      F  2016-04-29T18:38:08Z  2016-04-29T00:00:00Z   62    JARDIM DA PENHA   \n",
       "1      M  2016-04-29T16:08:27Z  2016-04-29T00:00:00Z   56    JARDIM DA PENHA   \n",
       "2      F  2016-04-29T16:19:04Z  2016-04-29T00:00:00Z   62      MATA DA PRAIA   \n",
       "3      F  2016-04-29T17:29:31Z  2016-04-29T00:00:00Z    8  PONTAL DE CAMBURI   \n",
       "4      F  2016-04-29T16:07:23Z  2016-04-29T00:00:00Z   56    JARDIM DA PENHA   \n",
       "\n",
       "   Scholarship  Hipertension  Diabetes  Alcoholism  Handcap  SMS_received  \\\n",
       "0            0             1         0           0        0             0   \n",
       "1            0             0         0           0        0             0   \n",
       "2            0             0         0           0        0             0   \n",
       "3            0             0         0           0        0             0   \n",
       "4            0             1         1           0        0             0   \n",
       "\n",
       "  No-show  \n",
       "0      No  \n",
       "1      No  \n",
       "2      No  \n",
       "3      No  \n",
       "4      No  "
      ]
     },
     "execution_count": 15,
     "metadata": {},
     "output_type": "execute_result"
    }
   ],
   "source": [
    "drop_df_columns(df_new,['PatientId','AppointmentID'])\n",
    "df_new.head()"
   ]
  },
  {
   "cell_type": "markdown",
   "metadata": {},
   "source": [
    "3- Convert ScheduledDay and AppointmentDay to datatime data type"
   ]
  },
  {
   "cell_type": "code",
   "execution_count": 16,
   "metadata": {},
   "outputs": [
    {
     "name": "stdout",
     "output_type": "stream",
     "text": [
      "<class 'pandas.core.frame.DataFrame'>\n",
      "RangeIndex: 110527 entries, 0 to 110526\n",
      "Data columns (total 12 columns):\n",
      "Gender            110527 non-null object\n",
      "ScheduledDay      110527 non-null datetime64[ns]\n",
      "AppointmentDay    110527 non-null datetime64[ns]\n",
      "Age               110527 non-null int64\n",
      "Neighbourhood     110527 non-null object\n",
      "Scholarship       110527 non-null int64\n",
      "Hipertension      110527 non-null int64\n",
      "Diabetes          110527 non-null int64\n",
      "Alcoholism        110527 non-null int64\n",
      "Handcap           110527 non-null int64\n",
      "SMS_received      110527 non-null int64\n",
      "No-show           110527 non-null object\n",
      "dtypes: datetime64[ns](2), int64(7), object(3)\n",
      "memory usage: 10.1+ MB\n"
     ]
    }
   ],
   "source": [
    "df_columns_to_datetime(df_new,['ScheduledDay','AppointmentDay'])\n",
    "df_new.info()"
   ]
  },
  {
   "cell_type": "markdown",
   "metadata": {},
   "source": [
    "4 - map M to male and F to female"
   ]
  },
  {
   "cell_type": "code",
   "execution_count": 17,
   "metadata": {},
   "outputs": [
    {
     "data": {
      "text/plain": [
       "female    71840\n",
       "male      38687\n",
       "Name: Gender, dtype: int64"
      ]
     },
     "execution_count": 17,
     "metadata": {},
     "output_type": "execute_result"
    }
   ],
   "source": [
    "df_new['Gender']=df_new['Gender'].map({'M':'male','F':'female'})\n",
    "df_new['Gender'].value_counts()"
   ]
  },
  {
   "cell_type": "code",
   "execution_count": 18,
   "metadata": {},
   "outputs": [
    {
     "data": {
      "text/plain": [
       "(110527, 12)"
      ]
     },
     "execution_count": 18,
     "metadata": {},
     "output_type": "execute_result"
    }
   ],
   "source": [
    "df_new.shape"
   ]
  },
  {
   "cell_type": "markdown",
   "metadata": {},
   "source": [
    "4 - removing data with age less than 0"
   ]
  },
  {
   "cell_type": "code",
   "execution_count": 19,
   "metadata": {},
   "outputs": [
    {
     "data": {
      "text/plain": [
       "(110526, 12)"
      ]
     },
     "execution_count": 19,
     "metadata": {},
     "output_type": "execute_result"
    }
   ],
   "source": [
    "df_new=df_new[df_new['Age']>=0]\n",
    "df_new.shape"
   ]
  },
  {
   "cell_type": "markdown",
   "metadata": {},
   "source": [
    "5 rename columns:\n",
    "- rename all columns to lower case and split tow sections word by _\n",
    "- rename Handcap column to handicap"
   ]
  },
  {
   "cell_type": "code",
   "execution_count": 20,
   "metadata": {},
   "outputs": [
    {
     "data": {
      "text/plain": [
       "array(['Gender', 'ScheduledDay', 'AppointmentDay', 'Age', 'Neighbourhood',\n",
       "       'Scholarship', 'Hipertension', 'Diabetes', 'Alcoholism', 'Handcap',\n",
       "       'SMS_received', 'No-show'], dtype=object)"
      ]
     },
     "execution_count": 20,
     "metadata": {},
     "output_type": "execute_result"
    }
   ],
   "source": [
    "df_new.columns.values"
   ]
  },
  {
   "cell_type": "code",
   "execution_count": 21,
   "metadata": {},
   "outputs": [
    {
     "data": {
      "text/plain": [
       "array(['gender', 'scheduledday', 'appointmentday', 'age', 'neighbourhood',\n",
       "       'scholarship', 'hipertension', 'diabetes', 'alcoholism', 'handcap',\n",
       "       'sms_received', 'no_show'], dtype=object)"
      ]
     },
     "execution_count": 21,
     "metadata": {},
     "output_type": "execute_result"
    }
   ],
   "source": [
    "df_rename_cols(df_new,lambda x:x.lower().replace('-','_'))\n",
    "df_new.columns.values"
   ]
  },
  {
   "cell_type": "code",
   "execution_count": 22,
   "metadata": {},
   "outputs": [
    {
     "data": {
      "text/plain": [
       "array(['gender', 'scheduled_day', 'appointment_day', 'age',\n",
       "       'neighbourhood', 'scholarship', 'hipertension', 'diabetes',\n",
       "       'alcoholism', 'handicap', 'sms_received', 'no_show'], dtype=object)"
      ]
     },
     "execution_count": 22,
     "metadata": {},
     "output_type": "execute_result"
    }
   ],
   "source": [
    "df_rename_cols(df_new,{'scheduledday':'scheduled_day','appointmentday':'appointment_day','handcap':'handicap'})\n",
    "df_new.columns.values"
   ]
  },
  {
   "cell_type": "markdown",
   "metadata": {},
   "source": [
    "6 - Convert No-show to is show to reduse confusion and map yes to 0 and no to 1 and then convert column data type to int."
   ]
  },
  {
   "cell_type": "code",
   "execution_count": 23,
   "metadata": {},
   "outputs": [
    {
     "data": {
      "text/plain": [
       "1    88207\n",
       "0    22319\n",
       "Name: show, dtype: int64"
      ]
     },
     "execution_count": 23,
     "metadata": {},
     "output_type": "execute_result"
    }
   ],
   "source": [
    "df_new['no_show']=df_new['no_show'].map({'Yes':0,'No':1})\n",
    "df_rename_cols(df_new,{'no_show':'show'})\n",
    "df_new['show']=df_new['show'].astype(int)\n",
    "df_new['show'].value_counts()"
   ]
  },
  {
   "cell_type": "markdown",
   "metadata": {},
   "source": [
    "7 - adding new column to diffrence between Scheduled Day and Appointment Day "
   ]
  },
  {
   "cell_type": "code",
   "execution_count": 24,
   "metadata": {},
   "outputs": [
    {
     "data": {
      "text/plain": [
       "count                     110526\n",
       "mean      9 days 17:08:42.047952\n",
       "std      15 days 05:51:31.240428\n",
       "min            -7 days +10:10:40\n",
       "25%            -1 days +15:41:32\n",
       "50%              3 days 11:22:33\n",
       "75%      14 days 07:41:37.750000\n",
       "max            178 days 13:19:01\n",
       "Name: waiting_days, dtype: object"
      ]
     },
     "execution_count": 24,
     "metadata": {},
     "output_type": "execute_result"
    }
   ],
   "source": [
    "df_new['waiting_days']=df_new['appointment_day']-df_new['scheduled_day']\n",
    "df_new['waiting_days'].describe()"
   ]
  },
  {
   "cell_type": "code",
   "execution_count": 25,
   "metadata": {},
   "outputs": [
    {
     "data": {
      "text/plain": [
       "count    110526.000000\n",
       "mean          9.183794\n",
       "std          15.255034\n",
       "min          -7.000000\n",
       "25%          -1.000000\n",
       "50%           3.000000\n",
       "75%          14.000000\n",
       "max         178.000000\n",
       "Name: waiting_days, dtype: float64"
      ]
     },
     "execution_count": 25,
     "metadata": {},
     "output_type": "execute_result"
    }
   ],
   "source": [
    "df_new['waiting_days']=df_new['waiting_days'].astype(str).apply(lambda x:x.split()[0]).astype(int)\n",
    "df_new['waiting_days'].describe()"
   ]
  },
  {
   "cell_type": "markdown",
   "metadata": {},
   "source": [
    "- as we see min waiting_days is -7 and Q1 is -1 day so we need to drop this invalid data because appointment_day must be greater than or equal to scheduled_day "
   ]
  },
  {
   "cell_type": "code",
   "execution_count": 26,
   "metadata": {},
   "outputs": [],
   "source": [
    "df_new=df_new[df_new['waiting_days'] >=0]"
   ]
  },
  {
   "cell_type": "code",
   "execution_count": 27,
   "metadata": {
    "scrolled": true
   },
   "outputs": [
    {
     "data": {
      "text/html": [
       "<div>\n",
       "<style scoped>\n",
       "    .dataframe tbody tr th:only-of-type {\n",
       "        vertical-align: middle;\n",
       "    }\n",
       "\n",
       "    .dataframe tbody tr th {\n",
       "        vertical-align: top;\n",
       "    }\n",
       "\n",
       "    .dataframe thead th {\n",
       "        text-align: right;\n",
       "    }\n",
       "</style>\n",
       "<table border=\"1\" class=\"dataframe\">\n",
       "  <thead>\n",
       "    <tr style=\"text-align: right;\">\n",
       "      <th></th>\n",
       "      <th>gender</th>\n",
       "      <th>scheduled_day</th>\n",
       "      <th>appointment_day</th>\n",
       "      <th>age</th>\n",
       "      <th>neighbourhood</th>\n",
       "      <th>scholarship</th>\n",
       "      <th>hipertension</th>\n",
       "      <th>diabetes</th>\n",
       "      <th>alcoholism</th>\n",
       "      <th>handicap</th>\n",
       "      <th>sms_received</th>\n",
       "      <th>show</th>\n",
       "      <th>waiting_days</th>\n",
       "    </tr>\n",
       "  </thead>\n",
       "  <tbody>\n",
       "    <tr>\n",
       "      <th>count</th>\n",
       "      <td>71959</td>\n",
       "      <td>71959</td>\n",
       "      <td>71959</td>\n",
       "      <td>71959.000000</td>\n",
       "      <td>71959</td>\n",
       "      <td>71959.000000</td>\n",
       "      <td>71959.000000</td>\n",
       "      <td>71959.000000</td>\n",
       "      <td>71959.000000</td>\n",
       "      <td>71959.000000</td>\n",
       "      <td>71959.000000</td>\n",
       "      <td>71959.000000</td>\n",
       "      <td>71959.000000</td>\n",
       "    </tr>\n",
       "    <tr>\n",
       "      <th>unique</th>\n",
       "      <td>2</td>\n",
       "      <td>68666</td>\n",
       "      <td>27</td>\n",
       "      <td>NaN</td>\n",
       "      <td>80</td>\n",
       "      <td>NaN</td>\n",
       "      <td>NaN</td>\n",
       "      <td>NaN</td>\n",
       "      <td>NaN</td>\n",
       "      <td>NaN</td>\n",
       "      <td>NaN</td>\n",
       "      <td>NaN</td>\n",
       "      <td>NaN</td>\n",
       "    </tr>\n",
       "    <tr>\n",
       "      <th>top</th>\n",
       "      <td>female</td>\n",
       "      <td>2016-04-25 17:18:27</td>\n",
       "      <td>2016-06-06 00:00:00</td>\n",
       "      <td>NaN</td>\n",
       "      <td>JARDIM CAMBURI</td>\n",
       "      <td>NaN</td>\n",
       "      <td>NaN</td>\n",
       "      <td>NaN</td>\n",
       "      <td>NaN</td>\n",
       "      <td>NaN</td>\n",
       "      <td>NaN</td>\n",
       "      <td>NaN</td>\n",
       "      <td>NaN</td>\n",
       "    </tr>\n",
       "    <tr>\n",
       "      <th>freq</th>\n",
       "      <td>48070</td>\n",
       "      <td>22</td>\n",
       "      <td>3073</td>\n",
       "      <td>NaN</td>\n",
       "      <td>5213</td>\n",
       "      <td>NaN</td>\n",
       "      <td>NaN</td>\n",
       "      <td>NaN</td>\n",
       "      <td>NaN</td>\n",
       "      <td>NaN</td>\n",
       "      <td>NaN</td>\n",
       "      <td>NaN</td>\n",
       "      <td>NaN</td>\n",
       "    </tr>\n",
       "    <tr>\n",
       "      <th>first</th>\n",
       "      <td>NaN</td>\n",
       "      <td>2015-11-10 07:13:56</td>\n",
       "      <td>2016-04-29 00:00:00</td>\n",
       "      <td>NaN</td>\n",
       "      <td>NaN</td>\n",
       "      <td>NaN</td>\n",
       "      <td>NaN</td>\n",
       "      <td>NaN</td>\n",
       "      <td>NaN</td>\n",
       "      <td>NaN</td>\n",
       "      <td>NaN</td>\n",
       "      <td>NaN</td>\n",
       "      <td>NaN</td>\n",
       "    </tr>\n",
       "    <tr>\n",
       "      <th>last</th>\n",
       "      <td>NaN</td>\n",
       "      <td>2016-06-07 19:03:57</td>\n",
       "      <td>2016-06-08 00:00:00</td>\n",
       "      <td>NaN</td>\n",
       "      <td>NaN</td>\n",
       "      <td>NaN</td>\n",
       "      <td>NaN</td>\n",
       "      <td>NaN</td>\n",
       "      <td>NaN</td>\n",
       "      <td>NaN</td>\n",
       "      <td>NaN</td>\n",
       "      <td>NaN</td>\n",
       "      <td>NaN</td>\n",
       "    </tr>\n",
       "    <tr>\n",
       "      <th>mean</th>\n",
       "      <td>NaN</td>\n",
       "      <td>NaN</td>\n",
       "      <td>NaN</td>\n",
       "      <td>38.502564</td>\n",
       "      <td>NaN</td>\n",
       "      <td>0.092706</td>\n",
       "      <td>0.208897</td>\n",
       "      <td>0.074723</td>\n",
       "      <td>0.025320</td>\n",
       "      <td>0.020025</td>\n",
       "      <td>0.493086</td>\n",
       "      <td>0.714810</td>\n",
       "      <td>14.642018</td>\n",
       "    </tr>\n",
       "    <tr>\n",
       "      <th>std</th>\n",
       "      <td>NaN</td>\n",
       "      <td>NaN</td>\n",
       "      <td>NaN</td>\n",
       "      <td>22.925421</td>\n",
       "      <td>NaN</td>\n",
       "      <td>0.290021</td>\n",
       "      <td>0.406523</td>\n",
       "      <td>0.262946</td>\n",
       "      <td>0.157096</td>\n",
       "      <td>0.154072</td>\n",
       "      <td>0.499956</td>\n",
       "      <td>0.451508</td>\n",
       "      <td>16.494334</td>\n",
       "    </tr>\n",
       "    <tr>\n",
       "      <th>min</th>\n",
       "      <td>NaN</td>\n",
       "      <td>NaN</td>\n",
       "      <td>NaN</td>\n",
       "      <td>0.000000</td>\n",
       "      <td>NaN</td>\n",
       "      <td>0.000000</td>\n",
       "      <td>0.000000</td>\n",
       "      <td>0.000000</td>\n",
       "      <td>0.000000</td>\n",
       "      <td>0.000000</td>\n",
       "      <td>0.000000</td>\n",
       "      <td>0.000000</td>\n",
       "      <td>0.000000</td>\n",
       "    </tr>\n",
       "    <tr>\n",
       "      <th>25%</th>\n",
       "      <td>NaN</td>\n",
       "      <td>NaN</td>\n",
       "      <td>NaN</td>\n",
       "      <td>19.000000</td>\n",
       "      <td>NaN</td>\n",
       "      <td>0.000000</td>\n",
       "      <td>0.000000</td>\n",
       "      <td>0.000000</td>\n",
       "      <td>0.000000</td>\n",
       "      <td>0.000000</td>\n",
       "      <td>0.000000</td>\n",
       "      <td>0.000000</td>\n",
       "      <td>3.000000</td>\n",
       "    </tr>\n",
       "    <tr>\n",
       "      <th>50%</th>\n",
       "      <td>NaN</td>\n",
       "      <td>NaN</td>\n",
       "      <td>NaN</td>\n",
       "      <td>39.000000</td>\n",
       "      <td>NaN</td>\n",
       "      <td>0.000000</td>\n",
       "      <td>0.000000</td>\n",
       "      <td>0.000000</td>\n",
       "      <td>0.000000</td>\n",
       "      <td>0.000000</td>\n",
       "      <td>0.000000</td>\n",
       "      <td>1.000000</td>\n",
       "      <td>8.000000</td>\n",
       "    </tr>\n",
       "    <tr>\n",
       "      <th>75%</th>\n",
       "      <td>NaN</td>\n",
       "      <td>NaN</td>\n",
       "      <td>NaN</td>\n",
       "      <td>57.000000</td>\n",
       "      <td>NaN</td>\n",
       "      <td>0.000000</td>\n",
       "      <td>0.000000</td>\n",
       "      <td>0.000000</td>\n",
       "      <td>0.000000</td>\n",
       "      <td>0.000000</td>\n",
       "      <td>1.000000</td>\n",
       "      <td>1.000000</td>\n",
       "      <td>21.000000</td>\n",
       "    </tr>\n",
       "    <tr>\n",
       "      <th>max</th>\n",
       "      <td>NaN</td>\n",
       "      <td>NaN</td>\n",
       "      <td>NaN</td>\n",
       "      <td>115.000000</td>\n",
       "      <td>NaN</td>\n",
       "      <td>1.000000</td>\n",
       "      <td>1.000000</td>\n",
       "      <td>1.000000</td>\n",
       "      <td>1.000000</td>\n",
       "      <td>4.000000</td>\n",
       "      <td>1.000000</td>\n",
       "      <td>1.000000</td>\n",
       "      <td>178.000000</td>\n",
       "    </tr>\n",
       "  </tbody>\n",
       "</table>\n",
       "</div>"
      ],
      "text/plain": [
       "        gender        scheduled_day      appointment_day           age  \\\n",
       "count    71959                71959                71959  71959.000000   \n",
       "unique       2                68666                   27           NaN   \n",
       "top     female  2016-04-25 17:18:27  2016-06-06 00:00:00           NaN   \n",
       "freq     48070                   22                 3073           NaN   \n",
       "first      NaN  2015-11-10 07:13:56  2016-04-29 00:00:00           NaN   \n",
       "last       NaN  2016-06-07 19:03:57  2016-06-08 00:00:00           NaN   \n",
       "mean       NaN                  NaN                  NaN     38.502564   \n",
       "std        NaN                  NaN                  NaN     22.925421   \n",
       "min        NaN                  NaN                  NaN      0.000000   \n",
       "25%        NaN                  NaN                  NaN     19.000000   \n",
       "50%        NaN                  NaN                  NaN     39.000000   \n",
       "75%        NaN                  NaN                  NaN     57.000000   \n",
       "max        NaN                  NaN                  NaN    115.000000   \n",
       "\n",
       "         neighbourhood   scholarship  hipertension      diabetes  \\\n",
       "count            71959  71959.000000  71959.000000  71959.000000   \n",
       "unique              80           NaN           NaN           NaN   \n",
       "top     JARDIM CAMBURI           NaN           NaN           NaN   \n",
       "freq              5213           NaN           NaN           NaN   \n",
       "first              NaN           NaN           NaN           NaN   \n",
       "last               NaN           NaN           NaN           NaN   \n",
       "mean               NaN      0.092706      0.208897      0.074723   \n",
       "std                NaN      0.290021      0.406523      0.262946   \n",
       "min                NaN      0.000000      0.000000      0.000000   \n",
       "25%                NaN      0.000000      0.000000      0.000000   \n",
       "50%                NaN      0.000000      0.000000      0.000000   \n",
       "75%                NaN      0.000000      0.000000      0.000000   \n",
       "max                NaN      1.000000      1.000000      1.000000   \n",
       "\n",
       "          alcoholism      handicap  sms_received          show  waiting_days  \n",
       "count   71959.000000  71959.000000  71959.000000  71959.000000  71959.000000  \n",
       "unique           NaN           NaN           NaN           NaN           NaN  \n",
       "top              NaN           NaN           NaN           NaN           NaN  \n",
       "freq             NaN           NaN           NaN           NaN           NaN  \n",
       "first            NaN           NaN           NaN           NaN           NaN  \n",
       "last             NaN           NaN           NaN           NaN           NaN  \n",
       "mean        0.025320      0.020025      0.493086      0.714810     14.642018  \n",
       "std         0.157096      0.154072      0.499956      0.451508     16.494334  \n",
       "min         0.000000      0.000000      0.000000      0.000000      0.000000  \n",
       "25%         0.000000      0.000000      0.000000      0.000000      3.000000  \n",
       "50%         0.000000      0.000000      0.000000      1.000000      8.000000  \n",
       "75%         0.000000      0.000000      1.000000      1.000000     21.000000  \n",
       "max         1.000000      4.000000      1.000000      1.000000    178.000000  "
      ]
     },
     "execution_count": 27,
     "metadata": {},
     "output_type": "execute_result"
    }
   ],
   "source": [
    "df_new.describe(include='all')"
   ]
  },
  {
   "cell_type": "markdown",
   "metadata": {},
   "source": [
    "8- split appointment_day and scheduled_day into date , time , hour and day of the week to make more analysis "
   ]
  },
  {
   "cell_type": "code",
   "execution_count": 28,
   "metadata": {},
   "outputs": [],
   "source": [
    "df_new['appointment_date']=df_new['appointment_day'].dt.date\n",
    "df_new['appointment_time']=df_new['appointment_day'].dt.time\n",
    "df_new['appointment_dow']=df_new['appointment_day'].dt.day_name()\n",
    "df_new['appointment_hour']=df_new['appointment_day'].dt.hour\n",
    "df_new['appointment_month']=df_new['appointment_day'].dt.month_name()"
   ]
  },
  {
   "cell_type": "code",
   "execution_count": 29,
   "metadata": {},
   "outputs": [
    {
     "data": {
      "text/html": [
       "<div>\n",
       "<style scoped>\n",
       "    .dataframe tbody tr th:only-of-type {\n",
       "        vertical-align: middle;\n",
       "    }\n",
       "\n",
       "    .dataframe tbody tr th {\n",
       "        vertical-align: top;\n",
       "    }\n",
       "\n",
       "    .dataframe thead th {\n",
       "        text-align: right;\n",
       "    }\n",
       "</style>\n",
       "<table border=\"1\" class=\"dataframe\">\n",
       "  <thead>\n",
       "    <tr style=\"text-align: right;\">\n",
       "      <th></th>\n",
       "      <th>gender</th>\n",
       "      <th>scheduled_day</th>\n",
       "      <th>appointment_day</th>\n",
       "      <th>age</th>\n",
       "      <th>neighbourhood</th>\n",
       "      <th>scholarship</th>\n",
       "      <th>hipertension</th>\n",
       "      <th>diabetes</th>\n",
       "      <th>alcoholism</th>\n",
       "      <th>handicap</th>\n",
       "      <th>sms_received</th>\n",
       "      <th>show</th>\n",
       "      <th>waiting_days</th>\n",
       "      <th>appointment_date</th>\n",
       "      <th>appointment_time</th>\n",
       "      <th>appointment_dow</th>\n",
       "      <th>appointment_hour</th>\n",
       "      <th>appointment_month</th>\n",
       "    </tr>\n",
       "  </thead>\n",
       "  <tbody>\n",
       "    <tr>\n",
       "      <th>12930</th>\n",
       "      <td>female</td>\n",
       "      <td>2016-04-05 08:24:32</td>\n",
       "      <td>2016-05-31</td>\n",
       "      <td>67</td>\n",
       "      <td>MONTE BELO</td>\n",
       "      <td>0</td>\n",
       "      <td>1</td>\n",
       "      <td>1</td>\n",
       "      <td>0</td>\n",
       "      <td>0</td>\n",
       "      <td>1</td>\n",
       "      <td>1</td>\n",
       "      <td>55</td>\n",
       "      <td>2016-05-31</td>\n",
       "      <td>00:00:00</td>\n",
       "      <td>Tuesday</td>\n",
       "      <td>0</td>\n",
       "      <td>May</td>\n",
       "    </tr>\n",
       "    <tr>\n",
       "      <th>88648</th>\n",
       "      <td>female</td>\n",
       "      <td>2016-05-16 10:27:53</td>\n",
       "      <td>2016-06-03</td>\n",
       "      <td>59</td>\n",
       "      <td>PRAIA DO CANTO</td>\n",
       "      <td>0</td>\n",
       "      <td>1</td>\n",
       "      <td>1</td>\n",
       "      <td>0</td>\n",
       "      <td>0</td>\n",
       "      <td>1</td>\n",
       "      <td>0</td>\n",
       "      <td>17</td>\n",
       "      <td>2016-06-03</td>\n",
       "      <td>00:00:00</td>\n",
       "      <td>Friday</td>\n",
       "      <td>0</td>\n",
       "      <td>June</td>\n",
       "    </tr>\n",
       "    <tr>\n",
       "      <th>9956</th>\n",
       "      <td>female</td>\n",
       "      <td>2016-04-28 07:29:03</td>\n",
       "      <td>2016-05-04</td>\n",
       "      <td>39</td>\n",
       "      <td>ROMÃO</td>\n",
       "      <td>0</td>\n",
       "      <td>0</td>\n",
       "      <td>0</td>\n",
       "      <td>0</td>\n",
       "      <td>0</td>\n",
       "      <td>0</td>\n",
       "      <td>1</td>\n",
       "      <td>5</td>\n",
       "      <td>2016-05-04</td>\n",
       "      <td>00:00:00</td>\n",
       "      <td>Wednesday</td>\n",
       "      <td>0</td>\n",
       "      <td>May</td>\n",
       "    </tr>\n",
       "    <tr>\n",
       "      <th>5609</th>\n",
       "      <td>female</td>\n",
       "      <td>2016-05-13 14:52:06</td>\n",
       "      <td>2016-05-16</td>\n",
       "      <td>35</td>\n",
       "      <td>ILHA DO PRÍNCIPE</td>\n",
       "      <td>0</td>\n",
       "      <td>0</td>\n",
       "      <td>0</td>\n",
       "      <td>0</td>\n",
       "      <td>0</td>\n",
       "      <td>0</td>\n",
       "      <td>1</td>\n",
       "      <td>2</td>\n",
       "      <td>2016-05-16</td>\n",
       "      <td>00:00:00</td>\n",
       "      <td>Monday</td>\n",
       "      <td>0</td>\n",
       "      <td>May</td>\n",
       "    </tr>\n",
       "    <tr>\n",
       "      <th>63377</th>\n",
       "      <td>female</td>\n",
       "      <td>2016-05-11 11:51:47</td>\n",
       "      <td>2016-05-19</td>\n",
       "      <td>36</td>\n",
       "      <td>JARDIM DA PENHA</td>\n",
       "      <td>0</td>\n",
       "      <td>0</td>\n",
       "      <td>0</td>\n",
       "      <td>0</td>\n",
       "      <td>0</td>\n",
       "      <td>0</td>\n",
       "      <td>1</td>\n",
       "      <td>7</td>\n",
       "      <td>2016-05-19</td>\n",
       "      <td>00:00:00</td>\n",
       "      <td>Thursday</td>\n",
       "      <td>0</td>\n",
       "      <td>May</td>\n",
       "    </tr>\n",
       "    <tr>\n",
       "      <th>28237</th>\n",
       "      <td>male</td>\n",
       "      <td>2016-04-26 17:21:21</td>\n",
       "      <td>2016-05-24</td>\n",
       "      <td>30</td>\n",
       "      <td>REPÚBLICA</td>\n",
       "      <td>0</td>\n",
       "      <td>0</td>\n",
       "      <td>0</td>\n",
       "      <td>0</td>\n",
       "      <td>0</td>\n",
       "      <td>1</td>\n",
       "      <td>1</td>\n",
       "      <td>27</td>\n",
       "      <td>2016-05-24</td>\n",
       "      <td>00:00:00</td>\n",
       "      <td>Tuesday</td>\n",
       "      <td>0</td>\n",
       "      <td>May</td>\n",
       "    </tr>\n",
       "    <tr>\n",
       "      <th>107608</th>\n",
       "      <td>female</td>\n",
       "      <td>2016-06-06 12:01:13</td>\n",
       "      <td>2016-06-07</td>\n",
       "      <td>9</td>\n",
       "      <td>NAZARETH</td>\n",
       "      <td>0</td>\n",
       "      <td>0</td>\n",
       "      <td>0</td>\n",
       "      <td>0</td>\n",
       "      <td>0</td>\n",
       "      <td>0</td>\n",
       "      <td>1</td>\n",
       "      <td>0</td>\n",
       "      <td>2016-06-07</td>\n",
       "      <td>00:00:00</td>\n",
       "      <td>Tuesday</td>\n",
       "      <td>0</td>\n",
       "      <td>June</td>\n",
       "    </tr>\n",
       "    <tr>\n",
       "      <th>44407</th>\n",
       "      <td>female</td>\n",
       "      <td>2016-04-29 09:56:52</td>\n",
       "      <td>2016-05-17</td>\n",
       "      <td>27</td>\n",
       "      <td>JABOUR</td>\n",
       "      <td>1</td>\n",
       "      <td>0</td>\n",
       "      <td>0</td>\n",
       "      <td>0</td>\n",
       "      <td>0</td>\n",
       "      <td>0</td>\n",
       "      <td>0</td>\n",
       "      <td>17</td>\n",
       "      <td>2016-05-17</td>\n",
       "      <td>00:00:00</td>\n",
       "      <td>Tuesday</td>\n",
       "      <td>0</td>\n",
       "      <td>May</td>\n",
       "    </tr>\n",
       "    <tr>\n",
       "      <th>100842</th>\n",
       "      <td>male</td>\n",
       "      <td>2016-05-16 16:34:04</td>\n",
       "      <td>2016-06-01</td>\n",
       "      <td>41</td>\n",
       "      <td>BENTO FERREIRA</td>\n",
       "      <td>0</td>\n",
       "      <td>0</td>\n",
       "      <td>0</td>\n",
       "      <td>0</td>\n",
       "      <td>0</td>\n",
       "      <td>1</td>\n",
       "      <td>1</td>\n",
       "      <td>15</td>\n",
       "      <td>2016-06-01</td>\n",
       "      <td>00:00:00</td>\n",
       "      <td>Wednesday</td>\n",
       "      <td>0</td>\n",
       "      <td>June</td>\n",
       "    </tr>\n",
       "    <tr>\n",
       "      <th>46876</th>\n",
       "      <td>female</td>\n",
       "      <td>2016-04-19 07:26:08</td>\n",
       "      <td>2016-05-10</td>\n",
       "      <td>52</td>\n",
       "      <td>SANTA CECÍLIA</td>\n",
       "      <td>0</td>\n",
       "      <td>1</td>\n",
       "      <td>0</td>\n",
       "      <td>0</td>\n",
       "      <td>0</td>\n",
       "      <td>0</td>\n",
       "      <td>1</td>\n",
       "      <td>20</td>\n",
       "      <td>2016-05-10</td>\n",
       "      <td>00:00:00</td>\n",
       "      <td>Tuesday</td>\n",
       "      <td>0</td>\n",
       "      <td>May</td>\n",
       "    </tr>\n",
       "  </tbody>\n",
       "</table>\n",
       "</div>"
      ],
      "text/plain": [
       "        gender       scheduled_day appointment_day  age     neighbourhood  \\\n",
       "12930   female 2016-04-05 08:24:32      2016-05-31   67        MONTE BELO   \n",
       "88648   female 2016-05-16 10:27:53      2016-06-03   59    PRAIA DO CANTO   \n",
       "9956    female 2016-04-28 07:29:03      2016-05-04   39             ROMÃO   \n",
       "5609    female 2016-05-13 14:52:06      2016-05-16   35  ILHA DO PRÍNCIPE   \n",
       "63377   female 2016-05-11 11:51:47      2016-05-19   36   JARDIM DA PENHA   \n",
       "28237     male 2016-04-26 17:21:21      2016-05-24   30         REPÚBLICA   \n",
       "107608  female 2016-06-06 12:01:13      2016-06-07    9          NAZARETH   \n",
       "44407   female 2016-04-29 09:56:52      2016-05-17   27            JABOUR   \n",
       "100842    male 2016-05-16 16:34:04      2016-06-01   41    BENTO FERREIRA   \n",
       "46876   female 2016-04-19 07:26:08      2016-05-10   52     SANTA CECÍLIA   \n",
       "\n",
       "        scholarship  hipertension  diabetes  alcoholism  handicap  \\\n",
       "12930             0             1         1           0         0   \n",
       "88648             0             1         1           0         0   \n",
       "9956              0             0         0           0         0   \n",
       "5609              0             0         0           0         0   \n",
       "63377             0             0         0           0         0   \n",
       "28237             0             0         0           0         0   \n",
       "107608            0             0         0           0         0   \n",
       "44407             1             0         0           0         0   \n",
       "100842            0             0         0           0         0   \n",
       "46876             0             1         0           0         0   \n",
       "\n",
       "        sms_received  show  waiting_days appointment_date appointment_time  \\\n",
       "12930              1     1            55       2016-05-31         00:00:00   \n",
       "88648              1     0            17       2016-06-03         00:00:00   \n",
       "9956               0     1             5       2016-05-04         00:00:00   \n",
       "5609               0     1             2       2016-05-16         00:00:00   \n",
       "63377              0     1             7       2016-05-19         00:00:00   \n",
       "28237              1     1            27       2016-05-24         00:00:00   \n",
       "107608             0     1             0       2016-06-07         00:00:00   \n",
       "44407              0     0            17       2016-05-17         00:00:00   \n",
       "100842             1     1            15       2016-06-01         00:00:00   \n",
       "46876              0     1            20       2016-05-10         00:00:00   \n",
       "\n",
       "       appointment_dow  appointment_hour appointment_month  \n",
       "12930          Tuesday                 0               May  \n",
       "88648           Friday                 0              June  \n",
       "9956         Wednesday                 0               May  \n",
       "5609            Monday                 0               May  \n",
       "63377         Thursday                 0               May  \n",
       "28237          Tuesday                 0               May  \n",
       "107608         Tuesday                 0              June  \n",
       "44407          Tuesday                 0               May  \n",
       "100842       Wednesday                 0              June  \n",
       "46876          Tuesday                 0               May  "
      ]
     },
     "execution_count": 29,
     "metadata": {},
     "output_type": "execute_result"
    }
   ],
   "source": [
    "df_new.sample(10)"
   ]
  },
  {
   "cell_type": "code",
   "execution_count": 30,
   "metadata": {},
   "outputs": [
    {
     "data": {
      "text/plain": [
       "1"
      ]
     },
     "execution_count": 30,
     "metadata": {},
     "output_type": "execute_result"
    }
   ],
   "source": [
    "df_new['appointment_time'].nunique()"
   ]
  },
  {
   "cell_type": "markdown",
   "metadata": {},
   "source": [
    "9- Drop it and appointment_hour because all rows with the same appointment_time ."
   ]
  },
  {
   "cell_type": "code",
   "execution_count": 31,
   "metadata": {},
   "outputs": [
    {
     "data": {
      "text/html": [
       "<div>\n",
       "<style scoped>\n",
       "    .dataframe tbody tr th:only-of-type {\n",
       "        vertical-align: middle;\n",
       "    }\n",
       "\n",
       "    .dataframe tbody tr th {\n",
       "        vertical-align: top;\n",
       "    }\n",
       "\n",
       "    .dataframe thead th {\n",
       "        text-align: right;\n",
       "    }\n",
       "</style>\n",
       "<table border=\"1\" class=\"dataframe\">\n",
       "  <thead>\n",
       "    <tr style=\"text-align: right;\">\n",
       "      <th></th>\n",
       "      <th>gender</th>\n",
       "      <th>scheduled_day</th>\n",
       "      <th>appointment_day</th>\n",
       "      <th>age</th>\n",
       "      <th>neighbourhood</th>\n",
       "      <th>scholarship</th>\n",
       "      <th>hipertension</th>\n",
       "      <th>diabetes</th>\n",
       "      <th>alcoholism</th>\n",
       "      <th>handicap</th>\n",
       "      <th>sms_received</th>\n",
       "      <th>show</th>\n",
       "      <th>waiting_days</th>\n",
       "      <th>appointment_date</th>\n",
       "      <th>appointment_dow</th>\n",
       "      <th>appointment_month</th>\n",
       "    </tr>\n",
       "  </thead>\n",
       "  <tbody>\n",
       "    <tr>\n",
       "      <th>35178</th>\n",
       "      <td>female</td>\n",
       "      <td>2016-04-26 08:02:08</td>\n",
       "      <td>2016-05-06</td>\n",
       "      <td>34</td>\n",
       "      <td>ENSEADA DO SUÁ</td>\n",
       "      <td>0</td>\n",
       "      <td>0</td>\n",
       "      <td>0</td>\n",
       "      <td>0</td>\n",
       "      <td>0</td>\n",
       "      <td>1</td>\n",
       "      <td>0</td>\n",
       "      <td>9</td>\n",
       "      <td>2016-05-06</td>\n",
       "      <td>Friday</td>\n",
       "      <td>May</td>\n",
       "    </tr>\n",
       "    <tr>\n",
       "      <th>39434</th>\n",
       "      <td>female</td>\n",
       "      <td>2016-05-12 16:42:09</td>\n",
       "      <td>2016-05-17</td>\n",
       "      <td>49</td>\n",
       "      <td>MARIA ORTIZ</td>\n",
       "      <td>0</td>\n",
       "      <td>0</td>\n",
       "      <td>0</td>\n",
       "      <td>0</td>\n",
       "      <td>0</td>\n",
       "      <td>0</td>\n",
       "      <td>1</td>\n",
       "      <td>4</td>\n",
       "      <td>2016-05-17</td>\n",
       "      <td>Tuesday</td>\n",
       "      <td>May</td>\n",
       "    </tr>\n",
       "    <tr>\n",
       "      <th>107174</th>\n",
       "      <td>female</td>\n",
       "      <td>2016-04-05 15:16:56</td>\n",
       "      <td>2016-06-01</td>\n",
       "      <td>39</td>\n",
       "      <td>FRADINHOS</td>\n",
       "      <td>0</td>\n",
       "      <td>0</td>\n",
       "      <td>0</td>\n",
       "      <td>0</td>\n",
       "      <td>0</td>\n",
       "      <td>1</td>\n",
       "      <td>0</td>\n",
       "      <td>56</td>\n",
       "      <td>2016-06-01</td>\n",
       "      <td>Wednesday</td>\n",
       "      <td>June</td>\n",
       "    </tr>\n",
       "    <tr>\n",
       "      <th>50148</th>\n",
       "      <td>male</td>\n",
       "      <td>2016-04-05 15:14:18</td>\n",
       "      <td>2016-05-03</td>\n",
       "      <td>64</td>\n",
       "      <td>JARDIM DA PENHA</td>\n",
       "      <td>0</td>\n",
       "      <td>1</td>\n",
       "      <td>0</td>\n",
       "      <td>0</td>\n",
       "      <td>0</td>\n",
       "      <td>1</td>\n",
       "      <td>1</td>\n",
       "      <td>27</td>\n",
       "      <td>2016-05-03</td>\n",
       "      <td>Tuesday</td>\n",
       "      <td>May</td>\n",
       "    </tr>\n",
       "    <tr>\n",
       "      <th>13882</th>\n",
       "      <td>female</td>\n",
       "      <td>2016-05-24 07:56:19</td>\n",
       "      <td>2016-05-30</td>\n",
       "      <td>6</td>\n",
       "      <td>SANTA TEREZA</td>\n",
       "      <td>0</td>\n",
       "      <td>0</td>\n",
       "      <td>0</td>\n",
       "      <td>0</td>\n",
       "      <td>0</td>\n",
       "      <td>1</td>\n",
       "      <td>1</td>\n",
       "      <td>5</td>\n",
       "      <td>2016-05-30</td>\n",
       "      <td>Monday</td>\n",
       "      <td>May</td>\n",
       "    </tr>\n",
       "    <tr>\n",
       "      <th>31037</th>\n",
       "      <td>female</td>\n",
       "      <td>2016-05-05 09:55:32</td>\n",
       "      <td>2016-05-06</td>\n",
       "      <td>31</td>\n",
       "      <td>CENTRO</td>\n",
       "      <td>0</td>\n",
       "      <td>0</td>\n",
       "      <td>0</td>\n",
       "      <td>0</td>\n",
       "      <td>0</td>\n",
       "      <td>0</td>\n",
       "      <td>1</td>\n",
       "      <td>0</td>\n",
       "      <td>2016-05-06</td>\n",
       "      <td>Friday</td>\n",
       "      <td>May</td>\n",
       "    </tr>\n",
       "    <tr>\n",
       "      <th>57278</th>\n",
       "      <td>female</td>\n",
       "      <td>2016-04-26 07:28:56</td>\n",
       "      <td>2016-05-30</td>\n",
       "      <td>9</td>\n",
       "      <td>CRUZAMENTO</td>\n",
       "      <td>0</td>\n",
       "      <td>0</td>\n",
       "      <td>0</td>\n",
       "      <td>0</td>\n",
       "      <td>0</td>\n",
       "      <td>1</td>\n",
       "      <td>1</td>\n",
       "      <td>33</td>\n",
       "      <td>2016-05-30</td>\n",
       "      <td>Monday</td>\n",
       "      <td>May</td>\n",
       "    </tr>\n",
       "    <tr>\n",
       "      <th>24569</th>\n",
       "      <td>female</td>\n",
       "      <td>2016-05-06 08:02:47</td>\n",
       "      <td>2016-05-10</td>\n",
       "      <td>60</td>\n",
       "      <td>SANTO ANDRÉ</td>\n",
       "      <td>0</td>\n",
       "      <td>1</td>\n",
       "      <td>0</td>\n",
       "      <td>0</td>\n",
       "      <td>0</td>\n",
       "      <td>1</td>\n",
       "      <td>1</td>\n",
       "      <td>3</td>\n",
       "      <td>2016-05-10</td>\n",
       "      <td>Tuesday</td>\n",
       "      <td>May</td>\n",
       "    </tr>\n",
       "    <tr>\n",
       "      <th>21139</th>\n",
       "      <td>female</td>\n",
       "      <td>2016-05-17 07:06:42</td>\n",
       "      <td>2016-05-19</td>\n",
       "      <td>63</td>\n",
       "      <td>MARUÍPE</td>\n",
       "      <td>0</td>\n",
       "      <td>0</td>\n",
       "      <td>0</td>\n",
       "      <td>0</td>\n",
       "      <td>0</td>\n",
       "      <td>0</td>\n",
       "      <td>0</td>\n",
       "      <td>1</td>\n",
       "      <td>2016-05-19</td>\n",
       "      <td>Thursday</td>\n",
       "      <td>May</td>\n",
       "    </tr>\n",
       "    <tr>\n",
       "      <th>44120</th>\n",
       "      <td>female</td>\n",
       "      <td>2016-04-18 10:03:22</td>\n",
       "      <td>2016-05-10</td>\n",
       "      <td>1</td>\n",
       "      <td>SÃO PEDRO</td>\n",
       "      <td>0</td>\n",
       "      <td>0</td>\n",
       "      <td>0</td>\n",
       "      <td>0</td>\n",
       "      <td>0</td>\n",
       "      <td>1</td>\n",
       "      <td>1</td>\n",
       "      <td>21</td>\n",
       "      <td>2016-05-10</td>\n",
       "      <td>Tuesday</td>\n",
       "      <td>May</td>\n",
       "    </tr>\n",
       "  </tbody>\n",
       "</table>\n",
       "</div>"
      ],
      "text/plain": [
       "        gender       scheduled_day appointment_day  age    neighbourhood  \\\n",
       "35178   female 2016-04-26 08:02:08      2016-05-06   34   ENSEADA DO SUÁ   \n",
       "39434   female 2016-05-12 16:42:09      2016-05-17   49      MARIA ORTIZ   \n",
       "107174  female 2016-04-05 15:16:56      2016-06-01   39        FRADINHOS   \n",
       "50148     male 2016-04-05 15:14:18      2016-05-03   64  JARDIM DA PENHA   \n",
       "13882   female 2016-05-24 07:56:19      2016-05-30    6     SANTA TEREZA   \n",
       "31037   female 2016-05-05 09:55:32      2016-05-06   31           CENTRO   \n",
       "57278   female 2016-04-26 07:28:56      2016-05-30    9       CRUZAMENTO   \n",
       "24569   female 2016-05-06 08:02:47      2016-05-10   60      SANTO ANDRÉ   \n",
       "21139   female 2016-05-17 07:06:42      2016-05-19   63          MARUÍPE   \n",
       "44120   female 2016-04-18 10:03:22      2016-05-10    1        SÃO PEDRO   \n",
       "\n",
       "        scholarship  hipertension  diabetes  alcoholism  handicap  \\\n",
       "35178             0             0         0           0         0   \n",
       "39434             0             0         0           0         0   \n",
       "107174            0             0         0           0         0   \n",
       "50148             0             1         0           0         0   \n",
       "13882             0             0         0           0         0   \n",
       "31037             0             0         0           0         0   \n",
       "57278             0             0         0           0         0   \n",
       "24569             0             1         0           0         0   \n",
       "21139             0             0         0           0         0   \n",
       "44120             0             0         0           0         0   \n",
       "\n",
       "        sms_received  show  waiting_days appointment_date appointment_dow  \\\n",
       "35178              1     0             9       2016-05-06          Friday   \n",
       "39434              0     1             4       2016-05-17         Tuesday   \n",
       "107174             1     0            56       2016-06-01       Wednesday   \n",
       "50148              1     1            27       2016-05-03         Tuesday   \n",
       "13882              1     1             5       2016-05-30          Monday   \n",
       "31037              0     1             0       2016-05-06          Friday   \n",
       "57278              1     1            33       2016-05-30          Monday   \n",
       "24569              1     1             3       2016-05-10         Tuesday   \n",
       "21139              0     0             1       2016-05-19        Thursday   \n",
       "44120              1     1            21       2016-05-10         Tuesday   \n",
       "\n",
       "       appointment_month  \n",
       "35178                May  \n",
       "39434                May  \n",
       "107174              June  \n",
       "50148                May  \n",
       "13882                May  \n",
       "31037                May  \n",
       "57278                May  \n",
       "24569                May  \n",
       "21139                May  \n",
       "44120                May  "
      ]
     },
     "execution_count": 31,
     "metadata": {},
     "output_type": "execute_result"
    }
   ],
   "source": [
    "drop_df_columns(df_new,['appointment_time','appointment_hour'])\n",
    "df_new.sample(10)"
   ]
  },
  {
   "cell_type": "markdown",
   "metadata": {},
   "source": [
    "- now , we finished cleaning data so save data to csv and then start EDA"
   ]
  },
  {
   "cell_type": "code",
   "execution_count": 32,
   "metadata": {},
   "outputs": [],
   "source": [
    "df_new.to_csv('noshowappointments_cleaned.csv',index=False)"
   ]
  },
  {
   "cell_type": "markdown",
   "metadata": {},
   "source": [
    "<a id='eda'></a>\n",
    "## Exploratory Data Analysis"
   ]
  },
  {
   "cell_type": "code",
   "execution_count": 33,
   "metadata": {},
   "outputs": [
    {
     "data": {
      "image/png": "[encoded data removed]",
      "text/plain": [
       "<matplotlib.figure.Figure at 0x7fb00d33d6d8>"
      ]
     },
     "metadata": {
      "needs_background": "light"
     },
     "output_type": "display_data"
    }
   ],
   "source": [
    "df_cleaned=pd.read_csv(r'noshowappointments_cleaned.csv')\n",
    "df_cleaned.hist(figsize=(8,8));"
   ]
  },
  {
   "cell_type": "code",
   "execution_count": 34,
   "metadata": {},
   "outputs": [
    {
     "data": {
      "image/png": "[encoded data removed]",
      "text/plain": [
       "<matplotlib.figure.Figure at 0x7fb00ac9d048>"
      ]
     },
     "metadata": {},
     "output_type": "display_data"
    }
   ],
   "source": [
    "label_Names = [\"Show\", \"No-Show\"]\n",
    "data = [df_cleaned.query('show == 1').count()[0], df_cleaned.query('show == 0').count()[0]]\n",
    "explode = (0, 0.15)\n",
    "plt.axis('equal'); \n",
    "plt.pie(data,radius=1.5,shadow=True ,labels = label_Names,explode=explode, startangle=180,autopct='%0.2f%%',textprops = {\"fontsize\":15})\n",
    "plt.title(\"Percentage of patients who showed up and who didn't\",y=1.2);"
   ]
  },
  {
   "cell_type": "markdown",
   "metadata": {},
   "source": [
    "### Research Question 1 (Is there any Correlation between features and patient's show?)"
   ]
  },
  {
   "cell_type": "code",
   "execution_count": 35,
   "metadata": {
    "scrolled": false
   },
   "outputs": [
    {
     "data": {
      "image/png": "[encoded data removed]",
      "text/plain": [
       "<matplotlib.figure.Figure at 0x7fb00eae0048>"
      ]
     },
     "metadata": {
      "needs_background": "light"
     },
     "output_type": "display_data"
    }
   ],
   "source": [
    "correlation = df_cleaned.corr()\n",
    "fig, axes = plt.subplots(figsize=(10,10))\n",
    "sns.heatmap(correlation, vmax=1, cbar=True, annot=True, square=True, fmt='.2f', annot_kws={'size': 10});"
   ]
  },
  {
   "cell_type": "markdown",
   "metadata": {},
   "source": [
    "- Heatmap shows three correlations:\n",
    "\n",
    "    - hipertension and age\n",
    "\n",
    "    - hipertension and diabetes\n",
    "\n",
    "    - diabetes and age\n",
    "\n",
    "- There is no strong correlation between any feature with show"
   ]
  },
  {
   "cell_type": "markdown",
   "metadata": {},
   "source": [
    "### Research Question 2  (Is SMS_received , gender and scholarship affect the patient's show?)"
   ]
  },
  {
   "cell_type": "code",
   "execution_count": 36,
   "metadata": {
    "scrolled": true
   },
   "outputs": [
    {
     "data": {
      "image/png": "[encoded data removed]",
      "text/plain": [
       "<matplotlib.figure.Figure at 0x7fb00a396b38>"
      ]
     },
     "metadata": {
      "needs_background": "light"
     },
     "output_type": "display_data"
    }
   ],
   "source": [
    "fig, (ax1, ax2, ax3) = plt.subplots(ncols=3, sharey=True)\n",
    "sns.countplot(x='gender', data=df_cleaned, hue='show', ax=ax1, palette='rainbow')\n",
    "sns.countplot(x='sms_received', data=df_cleaned, hue='show', ax=ax2, palette='rainbow')\n",
    "sns.countplot(x='scholarship', data=df_cleaned, hue='show', ax=ax3, palette='rainbow')\n",
    "fig.set_figwidth(14)\n",
    "fig.set_figheight(4)\n",
    "fig.suptitle(\"The effectiveness of receiving sms , gender and scholarship on the patient's show\", fontsize=16);"
   ]
  },
  {
   "cell_type": "markdown",
   "metadata": {},
   "source": [
    "- from bar chart of gender we found females percentage greatter than males"
   ]
  },
  {
   "cell_type": "code",
   "execution_count": 37,
   "metadata": {
    "scrolled": true
   },
   "outputs": [
    {
     "data": {
      "text/plain": [
       "female    48070\n",
       "male      23889\n",
       "Name: gender, dtype: int64"
      ]
     },
     "execution_count": 37,
     "metadata": {},
     "output_type": "execute_result"
    }
   ],
   "source": [
    "df_cleaned['gender'].value_counts()"
   ]
  },
  {
   "cell_type": "code",
   "execution_count": 38,
   "metadata": {},
   "outputs": [
    {
     "data": {
      "text/plain": [
       "33.198071123834403"
      ]
     },
     "execution_count": 38,
     "metadata": {},
     "output_type": "execute_result"
    }
   ],
   "source": [
    "male_percentage=(df_cleaned['gender'].value_counts()[1]/df_cleaned['gender'].value_counts().sum())*100\n",
    "male_percentage\n"
   ]
  },
  {
   "cell_type": "code",
   "execution_count": 39,
   "metadata": {
    "scrolled": true
   },
   "outputs": [
    {
     "data": {
      "text/plain": [
       "female    34396\n",
       "male      17041\n",
       "Name: gender, dtype: int64"
      ]
     },
     "execution_count": 39,
     "metadata": {},
     "output_type": "execute_result"
    }
   ],
   "source": [
    "df_cleaned.query('show==1')['gender'].value_counts()"
   ]
  },
  {
   "cell_type": "code",
   "execution_count": 40,
   "metadata": {},
   "outputs": [
    {
     "data": {
      "text/plain": [
       "(0.7155398377366341, 0.71334086818200848)"
      ]
     },
     "execution_count": 40,
     "metadata": {},
     "output_type": "execute_result"
    }
   ],
   "source": [
    "male_ratio=df_cleaned.query('show==1')['gender'].value_counts()[1]/df_cleaned['gender'].value_counts()[1]\n",
    "female_ratio=df_cleaned.query('show==1')['gender'].value_counts()[0]/df_cleaned['gender'].value_counts()[0]\n",
    "female_ratio,male_ratio"
   ]
  },
  {
   "cell_type": "markdown",
   "metadata": {},
   "source": [
    "- Both genders have same commitment to medical schedules. (71 %)\n",
    "\n",
    "- sms doesn't affect on patient's show\n",
    "\n",
    "- this data is imbalanced because males represent 33.2% of observations\n",
    "\n",
    "- Number of patients who have scholarship is very small"
   ]
  },
  {
   "cell_type": "markdown",
   "metadata": {},
   "source": [
    "### Research Question 3  (are deseases like Hipertension , Diabetes and Handicap  affect the patient's show?)"
   ]
  },
  {
   "cell_type": "code",
   "execution_count": 41,
   "metadata": {},
   "outputs": [
    {
     "data": {
      "image/png": "[encoded data removed]",
      "text/plain": [
       "<matplotlib.figure.Figure at 0x7fb008a8f748>"
      ]
     },
     "metadata": {
      "needs_background": "light"
     },
     "output_type": "display_data"
    }
   ],
   "source": [
    "fig, (ax1, ax2, ax3) = plt.subplots(ncols=3, sharey=True)\n",
    "sns.countplot(x='hipertension', data=df_cleaned, hue='show', ax=ax1, palette='rainbow')\n",
    "sns.countplot(x='diabetes', data=df_cleaned, hue='show', ax=ax2, palette='rainbow')\n",
    "sns.countplot(x='handicap', data=df_cleaned, hue='show', ax=ax3, palette='rainbow')\n",
    "fig.set_figwidth(14)\n",
    "fig.set_figheight(4)\n",
    "fig.suptitle(\"The effectiveness of hipertension , diabetes and handicap on the patient's show\", fontsize=16);"
   ]
  },
  {
   "cell_type": "markdown",
   "metadata": {},
   "source": [
    "- hipertension has signficant effect on the patient's show up , but  diabetes and handicap has insignficant effect on the patient's show up"
   ]
  },
  {
   "cell_type": "markdown",
   "metadata": {},
   "source": [
    "### Research Question 4  (Is Appointment Day of the week affect the patient's show?)"
   ]
  },
  {
   "cell_type": "code",
   "execution_count": 42,
   "metadata": {},
   "outputs": [
    {
     "data": {
      "image/png": "[encoded data removed]",
      "text/plain": [
       "<matplotlib.figure.Figure at 0x7fb00afc6358>"
      ]
     },
     "metadata": {
      "needs_background": "light"
     },
     "output_type": "display_data"
    }
   ],
   "source": [
    "fig, (ax1, ax2) = plt.subplots(ncols=2, sharey=True)\n",
    "sns.countplot(x='appointment_month', data=df_cleaned, hue='show', ax=ax1, palette='rainbow')\n",
    "sns.countplot(x='appointment_dow', data=df_cleaned, hue='show', ax=ax2, palette='rainbow')\n",
    "fig.set_figwidth(14)\n",
    "fig.set_figheight(4)\n",
    "fig.suptitle(\"The appointment count and monthes and days relations\", fontsize=16);"
   ]
  },
  {
   "cell_type": "code",
   "execution_count": 43,
   "metadata": {},
   "outputs": [
    {
     "data": {
      "text/plain": [
       "Wednesday    17044\n",
       "Tuesday      16462\n",
       "Monday       14581\n",
       "Friday       12516\n",
       "Thursday     11325\n",
       "Saturday        31\n",
       "Name: appointment_dow, dtype: int64"
      ]
     },
     "execution_count": 43,
     "metadata": {},
     "output_type": "execute_result"
    }
   ],
   "source": [
    "df_cleaned['appointment_dow'].value_counts()"
   ]
  },
  {
   "cell_type": "code",
   "execution_count": 44,
   "metadata": {},
   "outputs": [
    {
     "data": {
      "text/plain": [
       "('2016-04-29', '2016-06-08')"
      ]
     },
     "execution_count": 44,
     "metadata": {},
     "output_type": "execute_result"
    }
   ],
   "source": [
    "df_cleaned['appointment_date'].min(),df_cleaned['appointment_date'].max()"
   ]
  },
  {
   "cell_type": "markdown",
   "metadata": {},
   "source": [
    "- 'May' the highest month when patients make appointment , but data already collected from 2016-04-29 to 2016-06-08 so this chart does not give information in terms of the difference between the months\n",
    "- Tuesday,Wednesday highest days when patients make appointment.\n",
    "- Saturday lowest ptients appoinment "
   ]
  },
  {
   "cell_type": "markdown",
   "metadata": {},
   "source": [
    "### Research Question 5  (Is Alcoholism affect the patient's show?)"
   ]
  },
  {
   "cell_type": "code",
   "execution_count": 45,
   "metadata": {},
   "outputs": [
    {
     "data": {
      "image/png": "[encoded data removed]",
      "text/plain": [
       "<matplotlib.figure.Figure at 0x7fb00ae03588>"
      ]
     },
     "metadata": {
      "needs_background": "light"
     },
     "output_type": "display_data"
    }
   ],
   "source": [
    "sns.countplot(x='alcoholism', data=df_cleaned, hue='show', palette='rainbow')\n",
    "fig.set_figwidth(15)\n",
    "fig.set_figheight(5)"
   ]
  },
  {
   "cell_type": "markdown",
   "metadata": {},
   "source": [
    "- alcoholism  has not effect on the patient's show"
   ]
  },
  {
   "cell_type": "markdown",
   "metadata": {},
   "source": [
    "### Research Question 6  (Is the age affect the patient's show?)"
   ]
  },
  {
   "cell_type": "code",
   "execution_count": 46,
   "metadata": {},
   "outputs": [
    {
     "data": {
      "text/plain": [
       "count    71959.000000\n",
       "mean        38.502564\n",
       "std         22.925421\n",
       "min          0.000000\n",
       "25%         19.000000\n",
       "50%         39.000000\n",
       "75%         57.000000\n",
       "max        115.000000\n",
       "Name: age, dtype: float64"
      ]
     },
     "execution_count": 46,
     "metadata": {},
     "output_type": "execute_result"
    }
   ],
   "source": [
    "df_cleaned.describe()['age']"
   ]
  },
  {
   "cell_type": "code",
   "execution_count": 47,
   "metadata": {},
   "outputs": [],
   "source": [
    "df_age=df_cleaned.copy()\n",
    "bins=[df_cleaned.describe()['age']['min'],df_cleaned.describe()['age']['25%'],df_cleaned.describe()['age']['50%'],df_cleaned.describe()['age']['75%'],\n",
    "     df_cleaned.describe()['age']['max']]\n",
    "bins_labels=['childs','young-adults','middel-age-adults','old-adults']\n",
    "df_age['age_level']=pd.cut(df_age['age'],bins,labels=bins_labels)"
   ]
  },
  {
   "cell_type": "code",
   "execution_count": 48,
   "metadata": {},
   "outputs": [
    {
     "data": {
      "image/png": "[encoded data removed]",
      "text/plain": [
       "<matplotlib.figure.Figure at 0x7fb00ad2a710>"
      ]
     },
     "metadata": {
      "needs_background": "light"
     },
     "output_type": "display_data"
    }
   ],
   "source": [
    "sns.countplot(x='age_level', data=df_age, hue='show', palette='rainbow')\n",
    "fig.set_figwidth(15)\n",
    "fig.set_figheight(5)"
   ]
  },
  {
   "cell_type": "markdown",
   "metadata": {},
   "source": [
    "- young adults from 19 to 39 years old are the highest missed show up"
   ]
  },
  {
   "cell_type": "markdown",
   "metadata": {},
   "source": [
    "### Research Question 7  (Is the waiting days affect the patient's show?)"
   ]
  },
  {
   "cell_type": "code",
   "execution_count": 49,
   "metadata": {},
   "outputs": [
    {
     "data": {
      "text/plain": [
       "(71959, 16)"
      ]
     },
     "execution_count": 49,
     "metadata": {},
     "output_type": "execute_result"
    }
   ],
   "source": [
    "df_valid_waiting_days=df_cleaned.query('waiting_days >= 0').copy()\n",
    "df_valid_waiting_days.shape"
   ]
  },
  {
   "cell_type": "code",
   "execution_count": 50,
   "metadata": {},
   "outputs": [
    {
     "data": {
      "image/png": "[encoded data removed]",
      "text/plain": [
       "<matplotlib.figure.Figure at 0x7fb00aeb8d68>"
      ]
     },
     "metadata": {
      "needs_background": "light"
     },
     "output_type": "display_data"
    }
   ],
   "source": [
    "plt.figure(figsize=(10, 5))\n",
    "\n",
    "sns.distplot(df_valid_waiting_days[df_valid_waiting_days['show'] == 0][\"waiting_days\"], bins=df_valid_waiting_days['waiting_days'].max(),color='blue' ,kde=True)\n",
    "sns.distplot(df_valid_waiting_days[df_valid_waiting_days['show'] == 1][\"waiting_days\"], bins=df_valid_waiting_days['waiting_days'].max(), color='red', kde=True)\n",
    "\n",
    "plt.title('WaitingDays Distributions in show and no patient groups', fontsize=15)\n",
    "plt.xlim(df_valid_waiting_days['waiting_days'].min(),df_valid_waiting_days['waiting_days'].max())\n",
    "plt.show()"
   ]
  },
  {
   "cell_type": "markdown",
   "metadata": {},
   "source": [
    "- waiting days until 7 days  patient show up is higher ratio after 7 days missed show up is higher ratio ."
   ]
  },
  {
   "cell_type": "markdown",
   "metadata": {},
   "source": [
    "### Research Question 8  (What factors areimportant for us to know in order to predict if a patient will show up for their scheduled appointment?)"
   ]
  },
  {
   "cell_type": "code",
   "execution_count": 51,
   "metadata": {
    "scrolled": true
   },
   "outputs": [
    {
     "data": {
      "text/html": [
       "<div>\n",
       "<style scoped>\n",
       "    .dataframe tbody tr th:only-of-type {\n",
       "        vertical-align: middle;\n",
       "    }\n",
       "\n",
       "    .dataframe tbody tr th {\n",
       "        vertical-align: top;\n",
       "    }\n",
       "\n",
       "    .dataframe thead th {\n",
       "        text-align: right;\n",
       "    }\n",
       "</style>\n",
       "<table border=\"1\" class=\"dataframe\">\n",
       "  <thead>\n",
       "    <tr style=\"text-align: right;\">\n",
       "      <th></th>\n",
       "      <th>neighbourhood</th>\n",
       "      <th>appointment_count</th>\n",
       "      <th>show_count</th>\n",
       "      <th>show_up_ratio</th>\n",
       "    </tr>\n",
       "  </thead>\n",
       "  <tbody>\n",
       "    <tr>\n",
       "      <th>0</th>\n",
       "      <td>JARDIM CAMBURI</td>\n",
       "      <td>5213</td>\n",
       "      <td>3854</td>\n",
       "      <td>0.739306</td>\n",
       "    </tr>\n",
       "    <tr>\n",
       "      <th>1</th>\n",
       "      <td>MARIA ORTIZ</td>\n",
       "      <td>3730</td>\n",
       "      <td>2592</td>\n",
       "      <td>0.694906</td>\n",
       "    </tr>\n",
       "    <tr>\n",
       "      <th>2</th>\n",
       "      <td>RESISTÊNCIA</td>\n",
       "      <td>2818</td>\n",
       "      <td>1961</td>\n",
       "      <td>0.695884</td>\n",
       "    </tr>\n",
       "    <tr>\n",
       "      <th>3</th>\n",
       "      <td>JARDIM DA PENHA</td>\n",
       "      <td>2655</td>\n",
       "      <td>2058</td>\n",
       "      <td>0.775141</td>\n",
       "    </tr>\n",
       "    <tr>\n",
       "      <th>4</th>\n",
       "      <td>ITARARÉ</td>\n",
       "      <td>2381</td>\n",
       "      <td>1512</td>\n",
       "      <td>0.635027</td>\n",
       "    </tr>\n",
       "    <tr>\n",
       "      <th>5</th>\n",
       "      <td>CENTRO</td>\n",
       "      <td>2270</td>\n",
       "      <td>1617</td>\n",
       "      <td>0.712335</td>\n",
       "    </tr>\n",
       "    <tr>\n",
       "      <th>6</th>\n",
       "      <td>TABUAZEIRO</td>\n",
       "      <td>1924</td>\n",
       "      <td>1398</td>\n",
       "      <td>0.726611</td>\n",
       "    </tr>\n",
       "    <tr>\n",
       "      <th>7</th>\n",
       "      <td>JESUS DE NAZARETH</td>\n",
       "      <td>1755</td>\n",
       "      <td>1097</td>\n",
       "      <td>0.625071</td>\n",
       "    </tr>\n",
       "    <tr>\n",
       "      <th>8</th>\n",
       "      <td>BONFIM</td>\n",
       "      <td>1708</td>\n",
       "      <td>1195</td>\n",
       "      <td>0.699649</td>\n",
       "    </tr>\n",
       "    <tr>\n",
       "      <th>9</th>\n",
       "      <td>CARATOÍRA</td>\n",
       "      <td>1691</td>\n",
       "      <td>1150</td>\n",
       "      <td>0.680071</td>\n",
       "    </tr>\n",
       "    <tr>\n",
       "      <th>10</th>\n",
       "      <td>JABOUR</td>\n",
       "      <td>1682</td>\n",
       "      <td>1252</td>\n",
       "      <td>0.744352</td>\n",
       "    </tr>\n",
       "    <tr>\n",
       "      <th>11</th>\n",
       "      <td>SANTA MARTHA</td>\n",
       "      <td>1648</td>\n",
       "      <td>1185</td>\n",
       "      <td>0.719053</td>\n",
       "    </tr>\n",
       "    <tr>\n",
       "      <th>12</th>\n",
       "      <td>SANTO ANTÔNIO</td>\n",
       "      <td>1621</td>\n",
       "      <td>1208</td>\n",
       "      <td>0.745219</td>\n",
       "    </tr>\n",
       "    <tr>\n",
       "      <th>13</th>\n",
       "      <td>SANTO ANDRÉ</td>\n",
       "      <td>1614</td>\n",
       "      <td>1140</td>\n",
       "      <td>0.706320</td>\n",
       "    </tr>\n",
       "    <tr>\n",
       "      <th>14</th>\n",
       "      <td>SÃO PEDRO</td>\n",
       "      <td>1584</td>\n",
       "      <td>1133</td>\n",
       "      <td>0.715278</td>\n",
       "    </tr>\n",
       "    <tr>\n",
       "      <th>15</th>\n",
       "      <td>ANDORINHAS</td>\n",
       "      <td>1524</td>\n",
       "      <td>1033</td>\n",
       "      <td>0.677822</td>\n",
       "    </tr>\n",
       "    <tr>\n",
       "      <th>16</th>\n",
       "      <td>ILHA DO PRÍNCIPE</td>\n",
       "      <td>1503</td>\n",
       "      <td>1014</td>\n",
       "      <td>0.674651</td>\n",
       "    </tr>\n",
       "    <tr>\n",
       "      <th>17</th>\n",
       "      <td>ROMÃO</td>\n",
       "      <td>1422</td>\n",
       "      <td>985</td>\n",
       "      <td>0.692686</td>\n",
       "    </tr>\n",
       "    <tr>\n",
       "      <th>18</th>\n",
       "      <td>SÃO JOSÉ</td>\n",
       "      <td>1376</td>\n",
       "      <td>1003</td>\n",
       "      <td>0.728924</td>\n",
       "    </tr>\n",
       "    <tr>\n",
       "      <th>19</th>\n",
       "      <td>DA PENHA</td>\n",
       "      <td>1367</td>\n",
       "      <td>984</td>\n",
       "      <td>0.719824</td>\n",
       "    </tr>\n",
       "    <tr>\n",
       "      <th>20</th>\n",
       "      <td>MARUÍPE</td>\n",
       "      <td>1359</td>\n",
       "      <td>956</td>\n",
       "      <td>0.703458</td>\n",
       "    </tr>\n",
       "    <tr>\n",
       "      <th>21</th>\n",
       "      <td>FORTE SÃO JOÃO</td>\n",
       "      <td>1293</td>\n",
       "      <td>989</td>\n",
       "      <td>0.764888</td>\n",
       "    </tr>\n",
       "    <tr>\n",
       "      <th>22</th>\n",
       "      <td>ILHA DE SANTA MARIA</td>\n",
       "      <td>1284</td>\n",
       "      <td>939</td>\n",
       "      <td>0.731308</td>\n",
       "    </tr>\n",
       "    <tr>\n",
       "      <th>23</th>\n",
       "      <td>SÃO CRISTÓVÃO</td>\n",
       "      <td>1274</td>\n",
       "      <td>928</td>\n",
       "      <td>0.728414</td>\n",
       "    </tr>\n",
       "    <tr>\n",
       "      <th>24</th>\n",
       "      <td>NOVA PALESTINA</td>\n",
       "      <td>1186</td>\n",
       "      <td>842</td>\n",
       "      <td>0.709949</td>\n",
       "    </tr>\n",
       "    <tr>\n",
       "      <th>25</th>\n",
       "      <td>BELA VISTA</td>\n",
       "      <td>1113</td>\n",
       "      <td>790</td>\n",
       "      <td>0.709793</td>\n",
       "    </tr>\n",
       "    <tr>\n",
       "      <th>26</th>\n",
       "      <td>GURIGICA</td>\n",
       "      <td>1105</td>\n",
       "      <td>681</td>\n",
       "      <td>0.616290</td>\n",
       "    </tr>\n",
       "    <tr>\n",
       "      <th>27</th>\n",
       "      <td>CRUZAMENTO</td>\n",
       "      <td>1025</td>\n",
       "      <td>743</td>\n",
       "      <td>0.724878</td>\n",
       "    </tr>\n",
       "    <tr>\n",
       "      <th>28</th>\n",
       "      <td>PRAIA DO SUÁ</td>\n",
       "      <td>945</td>\n",
       "      <td>664</td>\n",
       "      <td>0.702646</td>\n",
       "    </tr>\n",
       "    <tr>\n",
       "      <th>29</th>\n",
       "      <td>REDENÇÃO</td>\n",
       "      <td>931</td>\n",
       "      <td>674</td>\n",
       "      <td>0.723953</td>\n",
       "    </tr>\n",
       "    <tr>\n",
       "      <th>...</th>\n",
       "      <td>...</td>\n",
       "      <td>...</td>\n",
       "      <td>...</td>\n",
       "      <td>...</td>\n",
       "    </tr>\n",
       "    <tr>\n",
       "      <th>49</th>\n",
       "      <td>MATA DA PRAIA</td>\n",
       "      <td>462</td>\n",
       "      <td>361</td>\n",
       "      <td>0.781385</td>\n",
       "    </tr>\n",
       "    <tr>\n",
       "      <th>50</th>\n",
       "      <td>SANTA CLARA</td>\n",
       "      <td>381</td>\n",
       "      <td>252</td>\n",
       "      <td>0.661417</td>\n",
       "    </tr>\n",
       "    <tr>\n",
       "      <th>51</th>\n",
       "      <td>DO CABRAL</td>\n",
       "      <td>362</td>\n",
       "      <td>282</td>\n",
       "      <td>0.779006</td>\n",
       "    </tr>\n",
       "    <tr>\n",
       "      <th>52</th>\n",
       "      <td>SANTOS REIS</td>\n",
       "      <td>353</td>\n",
       "      <td>259</td>\n",
       "      <td>0.733711</td>\n",
       "    </tr>\n",
       "    <tr>\n",
       "      <th>53</th>\n",
       "      <td>SANTA CECÍLIA</td>\n",
       "      <td>349</td>\n",
       "      <td>232</td>\n",
       "      <td>0.664756</td>\n",
       "    </tr>\n",
       "    <tr>\n",
       "      <th>54</th>\n",
       "      <td>ESTRELINHA</td>\n",
       "      <td>344</td>\n",
       "      <td>253</td>\n",
       "      <td>0.735465</td>\n",
       "    </tr>\n",
       "    <tr>\n",
       "      <th>55</th>\n",
       "      <td>SOLON BORGES</td>\n",
       "      <td>337</td>\n",
       "      <td>272</td>\n",
       "      <td>0.807122</td>\n",
       "    </tr>\n",
       "    <tr>\n",
       "      <th>56</th>\n",
       "      <td>DO MOSCOSO</td>\n",
       "      <td>306</td>\n",
       "      <td>219</td>\n",
       "      <td>0.715686</td>\n",
       "    </tr>\n",
       "    <tr>\n",
       "      <th>57</th>\n",
       "      <td>SANTA LÚCIA</td>\n",
       "      <td>298</td>\n",
       "      <td>221</td>\n",
       "      <td>0.741611</td>\n",
       "    </tr>\n",
       "    <tr>\n",
       "      <th>58</th>\n",
       "      <td>BARRO VERMELHO</td>\n",
       "      <td>285</td>\n",
       "      <td>206</td>\n",
       "      <td>0.722807</td>\n",
       "    </tr>\n",
       "    <tr>\n",
       "      <th>59</th>\n",
       "      <td>SANTA LUÍZA</td>\n",
       "      <td>284</td>\n",
       "      <td>218</td>\n",
       "      <td>0.767606</td>\n",
       "    </tr>\n",
       "    <tr>\n",
       "      <th>60</th>\n",
       "      <td>PIEDADE</td>\n",
       "      <td>274</td>\n",
       "      <td>191</td>\n",
       "      <td>0.697080</td>\n",
       "    </tr>\n",
       "    <tr>\n",
       "      <th>61</th>\n",
       "      <td>COMDUSA</td>\n",
       "      <td>237</td>\n",
       "      <td>182</td>\n",
       "      <td>0.767932</td>\n",
       "    </tr>\n",
       "    <tr>\n",
       "      <th>62</th>\n",
       "      <td>DE LOURDES</td>\n",
       "      <td>222</td>\n",
       "      <td>177</td>\n",
       "      <td>0.797297</td>\n",
       "    </tr>\n",
       "    <tr>\n",
       "      <th>63</th>\n",
       "      <td>BOA VISTA</td>\n",
       "      <td>221</td>\n",
       "      <td>166</td>\n",
       "      <td>0.751131</td>\n",
       "    </tr>\n",
       "    <tr>\n",
       "      <th>64</th>\n",
       "      <td>FRADINHOS</td>\n",
       "      <td>193</td>\n",
       "      <td>146</td>\n",
       "      <td>0.756477</td>\n",
       "    </tr>\n",
       "    <tr>\n",
       "      <th>65</th>\n",
       "      <td>ANTÔNIO HONÓRIO</td>\n",
       "      <td>180</td>\n",
       "      <td>137</td>\n",
       "      <td>0.761111</td>\n",
       "    </tr>\n",
       "    <tr>\n",
       "      <th>66</th>\n",
       "      <td>ARIOVALDO FAVALESSA</td>\n",
       "      <td>175</td>\n",
       "      <td>118</td>\n",
       "      <td>0.674286</td>\n",
       "    </tr>\n",
       "    <tr>\n",
       "      <th>67</th>\n",
       "      <td>MÁRIO CYPRESTE</td>\n",
       "      <td>173</td>\n",
       "      <td>126</td>\n",
       "      <td>0.728324</td>\n",
       "    </tr>\n",
       "    <tr>\n",
       "      <th>68</th>\n",
       "      <td>ENSEADA DO SUÁ</td>\n",
       "      <td>163</td>\n",
       "      <td>115</td>\n",
       "      <td>0.705521</td>\n",
       "    </tr>\n",
       "    <tr>\n",
       "      <th>69</th>\n",
       "      <td>SANTA HELENA</td>\n",
       "      <td>126</td>\n",
       "      <td>91</td>\n",
       "      <td>0.722222</td>\n",
       "    </tr>\n",
       "    <tr>\n",
       "      <th>70</th>\n",
       "      <td>HORTO</td>\n",
       "      <td>114</td>\n",
       "      <td>73</td>\n",
       "      <td>0.640351</td>\n",
       "    </tr>\n",
       "    <tr>\n",
       "      <th>71</th>\n",
       "      <td>UNIVERSITÁRIO</td>\n",
       "      <td>112</td>\n",
       "      <td>81</td>\n",
       "      <td>0.723214</td>\n",
       "    </tr>\n",
       "    <tr>\n",
       "      <th>72</th>\n",
       "      <td>NAZARETH</td>\n",
       "      <td>108</td>\n",
       "      <td>79</td>\n",
       "      <td>0.731481</td>\n",
       "    </tr>\n",
       "    <tr>\n",
       "      <th>73</th>\n",
       "      <td>SEGURANÇA DO LAR</td>\n",
       "      <td>103</td>\n",
       "      <td>77</td>\n",
       "      <td>0.747573</td>\n",
       "    </tr>\n",
       "    <tr>\n",
       "      <th>74</th>\n",
       "      <td>MORADA DE CAMBURI</td>\n",
       "      <td>78</td>\n",
       "      <td>62</td>\n",
       "      <td>0.794872</td>\n",
       "    </tr>\n",
       "    <tr>\n",
       "      <th>75</th>\n",
       "      <td>PONTAL DE CAMBURI</td>\n",
       "      <td>41</td>\n",
       "      <td>29</td>\n",
       "      <td>0.707317</td>\n",
       "    </tr>\n",
       "    <tr>\n",
       "      <th>76</th>\n",
       "      <td>ILHA DO BOI</td>\n",
       "      <td>23</td>\n",
       "      <td>21</td>\n",
       "      <td>0.913043</td>\n",
       "    </tr>\n",
       "    <tr>\n",
       "      <th>77</th>\n",
       "      <td>ILHA DO FRADE</td>\n",
       "      <td>8</td>\n",
       "      <td>6</td>\n",
       "      <td>0.750000</td>\n",
       "    </tr>\n",
       "    <tr>\n",
       "      <th>78</th>\n",
       "      <td>AEROPORTO</td>\n",
       "      <td>5</td>\n",
       "      <td>4</td>\n",
       "      <td>0.800000</td>\n",
       "    </tr>\n",
       "  </tbody>\n",
       "</table>\n",
       "<p>79 rows × 4 columns</p>\n",
       "</div>"
      ],
      "text/plain": [
       "          neighbourhood  appointment_count  show_count  show_up_ratio\n",
       "0        JARDIM CAMBURI               5213        3854       0.739306\n",
       "1           MARIA ORTIZ               3730        2592       0.694906\n",
       "2           RESISTÊNCIA               2818        1961       0.695884\n",
       "3       JARDIM DA PENHA               2655        2058       0.775141\n",
       "4               ITARARÉ               2381        1512       0.635027\n",
       "5                CENTRO               2270        1617       0.712335\n",
       "6            TABUAZEIRO               1924        1398       0.726611\n",
       "7     JESUS DE NAZARETH               1755        1097       0.625071\n",
       "8                BONFIM               1708        1195       0.699649\n",
       "9             CARATOÍRA               1691        1150       0.680071\n",
       "10               JABOUR               1682        1252       0.744352\n",
       "11         SANTA MARTHA               1648        1185       0.719053\n",
       "12        SANTO ANTÔNIO               1621        1208       0.745219\n",
       "13          SANTO ANDRÉ               1614        1140       0.706320\n",
       "14            SÃO PEDRO               1584        1133       0.715278\n",
       "15           ANDORINHAS               1524        1033       0.677822\n",
       "16     ILHA DO PRÍNCIPE               1503        1014       0.674651\n",
       "17                ROMÃO               1422         985       0.692686\n",
       "18             SÃO JOSÉ               1376        1003       0.728924\n",
       "19             DA PENHA               1367         984       0.719824\n",
       "20              MARUÍPE               1359         956       0.703458\n",
       "21       FORTE SÃO JOÃO               1293         989       0.764888\n",
       "22  ILHA DE SANTA MARIA               1284         939       0.731308\n",
       "23        SÃO CRISTÓVÃO               1274         928       0.728414\n",
       "24       NOVA PALESTINA               1186         842       0.709949\n",
       "25           BELA VISTA               1113         790       0.709793\n",
       "26             GURIGICA               1105         681       0.616290\n",
       "27           CRUZAMENTO               1025         743       0.724878\n",
       "28         PRAIA DO SUÁ                945         664       0.702646\n",
       "29             REDENÇÃO                931         674       0.723953\n",
       "..                  ...                ...         ...            ...\n",
       "49        MATA DA PRAIA                462         361       0.781385\n",
       "50          SANTA CLARA                381         252       0.661417\n",
       "51            DO CABRAL                362         282       0.779006\n",
       "52          SANTOS REIS                353         259       0.733711\n",
       "53        SANTA CECÍLIA                349         232       0.664756\n",
       "54           ESTRELINHA                344         253       0.735465\n",
       "55         SOLON BORGES                337         272       0.807122\n",
       "56           DO MOSCOSO                306         219       0.715686\n",
       "57          SANTA LÚCIA                298         221       0.741611\n",
       "58       BARRO VERMELHO                285         206       0.722807\n",
       "59          SANTA LUÍZA                284         218       0.767606\n",
       "60              PIEDADE                274         191       0.697080\n",
       "61              COMDUSA                237         182       0.767932\n",
       "62           DE LOURDES                222         177       0.797297\n",
       "63            BOA VISTA                221         166       0.751131\n",
       "64            FRADINHOS                193         146       0.756477\n",
       "65      ANTÔNIO HONÓRIO                180         137       0.761111\n",
       "66  ARIOVALDO FAVALESSA                175         118       0.674286\n",
       "67       MÁRIO CYPRESTE                173         126       0.728324\n",
       "68       ENSEADA DO SUÁ                163         115       0.705521\n",
       "69         SANTA HELENA                126          91       0.722222\n",
       "70                HORTO                114          73       0.640351\n",
       "71        UNIVERSITÁRIO                112          81       0.723214\n",
       "72             NAZARETH                108          79       0.731481\n",
       "73     SEGURANÇA DO LAR                103          77       0.747573\n",
       "74    MORADA DE CAMBURI                 78          62       0.794872\n",
       "75    PONTAL DE CAMBURI                 41          29       0.707317\n",
       "76          ILHA DO BOI                 23          21       0.913043\n",
       "77        ILHA DO FRADE                  8           6       0.750000\n",
       "78            AEROPORTO                  5           4       0.800000\n",
       "\n",
       "[79 rows x 4 columns]"
      ]
     },
     "execution_count": 51,
     "metadata": {},
     "output_type": "execute_result"
    }
   ],
   "source": [
    "df_neighbourhood=pd.DataFrame(data=df_cleaned['neighbourhood'].value_counts())\n",
    "df_neighbourhood.reset_index(level=0, inplace=True)\n",
    "df_neighbourhood.rename(columns={'neighbourhood':'appointment_count','index':'neighbourhood'},inplace=True)\n",
    "\n",
    "df_neighbourhood_show =pd.DataFrame(data=df_cleaned.query('show == 1')['neighbourhood'].value_counts())\n",
    "df_neighbourhood_show.reset_index(level=0, inplace=True)\n",
    "df_neighbourhood_show.rename(columns={'neighbourhood':'show_count','index':'neighbourhood'},inplace=True)\n",
    "df_neighbourhood_show\n",
    "\n",
    "df_neighbourhood_combined=df_neighbourhood.merge(df_neighbourhood_show , left_on='neighbourhood' ,right_on='neighbourhood',how='inner')\n",
    "df_neighbourhood_combined['show_up_ratio']=df_neighbourhood_combined['show_count']/df_neighbourhood_combined['appointment_count']\n",
    "df_neighbourhood_combined"
   ]
  },
  {
   "cell_type": "code",
   "execution_count": 52,
   "metadata": {},
   "outputs": [
    {
     "data": {
      "image/png": "[encoded data removed]",
      "text/plain": [
       "<matplotlib.figure.Figure at 0x7fb00a79c1d0>"
      ]
     },
     "metadata": {
      "needs_background": "light"
     },
     "output_type": "display_data"
    }
   ],
   "source": [
    "df_cleaned.groupby('neighbourhood')['waiting_days'].mean().plot(kind='bar',figsize=(15,15),fontsize=10);"
   ]
  },
  {
   "cell_type": "markdown",
   "metadata": {},
   "source": [
    "- JARDIM CAMBURI the highst location of the hospital appointment that mean these hosbital in the middel of city or has Excellent doctors but because of having third highest wating days mean alot of patients missing show up.\n",
    "- ILHA DO BOI has the higest show up ratio and lowest wating days mean because of patient appointment is 23.\n",
    "- this is normal relation between number of appointments and wating days so they must distribute patients on hosbital accoreding Hospital Accommodation"
   ]
  },
  {
   "cell_type": "markdown",
   "metadata": {},
   "source": [
    "- the important factors to know in order to predict if a patient will show up for their scheduled appointment:\n",
    "    - hipertension , Age and neighbourhood"
   ]
  },
  {
   "cell_type": "markdown",
   "metadata": {},
   "source": [
    "<a id='conclusions'></a>\n",
    "## Conclusions"
   ]
  },
  {
   "cell_type": "markdown",
   "metadata": {
    "collapsed": true
   },
   "source": [
    "### Conclusions Results:\n",
    "- Percentage of patients who show up on their appointments represents 71.48%\n",
    "- Percentage of patients who Don't show up on their appointments represents 28.52%\n",
    "- There is no strong correlation between any feature with show up.\n",
    "- Both genders have same commitment to medical schedules. (71 %)\n",
    "- Sms doesn't affect on patient's show up.\n",
    "- young adults from 19 to 39 years old are the highest missed show up\n",
    "- Patients Who didn't show up have more than 7 days of waiting.\n",
    "- Patients Who show up have less than or equal 7 days .\n",
    "- Relation between wating days and show up is negative.\n",
    "- JARDIM CAMBURI  is the most frequent place.\n",
    "- ILHA DO BOI has the higest show up ratio .\n",
    "- The important factors affect patient show up are: hipertension , Age and neighbourhood\n",
    "### limitations:\n",
    "- Data is imbalanced because males represent 33.2% of observations.\n",
    "- Data collected from 2016-04-29 to 2016-06-08 .\n",
    "- some patients who marked as no show up, in real they may show up but on another day\n",
    "- Data must include time of sending sms to detect if sms send before appointment day with enough time or send after appointment day."
   ]
  }
 ],
 "metadata": {
  "kernelspec": {
   "display_name": "Python 3",
   "language": "python",
   "name": "python3"
  },
  "language_info": {
   "codemirror_mode": {
    "name": "ipython",
    "version": 3
   },
   "file_extension": ".py",
   "mimetype": "text/x-python",
   "name": "python",
   "nbconvert_exporter": "python",
   "pygments_lexer": "ipython3",
   "version": "3.6.3"
  }
 },
 "nbformat": 4,
 "nbformat_minor": 2
}
