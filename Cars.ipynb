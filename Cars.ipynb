{
  "nbformat": 4,
  "nbformat_minor": 0,
  "metadata": {
    "colab": {
      "name": "Cars.ipynb",
      "provenance": [],
      "collapsed_sections": [],
      "authorship_tag": "ABX9TyMAIp6KkzAA6gJik7k010K6",
      "include_colab_link": true
    },
    "kernelspec": {
      "name": "python3",
      "display_name": "Python 3"
    },
    "language_info": {
      "name": "python"
    }
  },
  "cells": [
    {
      "cell_type": "markdown",
      "metadata": {
        "id": "view-in-github",
        "colab_type": "text"
      },
      "source": [
        "<a href=\"https://colab.research.google.com/github/EngMdarwish/Data-Science--training/blob/main/Cars.ipynb\" target=\"_parent\"><img src=\"https://colab.research.google.com/assets/colab-badge.svg\" alt=\"Open In Colab\"/></a>"
      ]
    },
    {
      "cell_type": "markdown",
      "metadata": {
        "id": "BaUwrGCdWB7k"
      },
      "source": [
        "## Importing the relevant libraries\n"
      ]
    },
    {
      "cell_type": "code",
      "metadata": {
        "id": "APP5rfiEVqmH"
      },
      "source": [
        "import seaborn as sns\n",
        "import numpy as np\n",
        "import pandas as pd\n",
        "import statsmodels.api as sm\n",
        "import matplotlib.pyplot as plt\n",
        "from sklearn.linear_model import LinearRegression \n",
        "\n",
        "sns.set()"
      ],
      "execution_count": 24,
      "outputs": []
    },
    {
      "cell_type": "code",
      "metadata": {
        "id": "Cii-FZz0Xvd3"
      },
      "source": [
        "url='https://drive.google.com/file/d/1qINeuIJ6PT6qz0f7xxs-e97qVHgbksD_/view?usp=sharing'\n",
        "file_id=url.split('/')[-2]\n",
        "dwn_url='https://drive.google.com/uc?id=' + file_id\n",
        "data_raw= pd.read_csv(dwn_url)"
      ],
      "execution_count": 25,
      "outputs": []
    },
    {
      "cell_type": "code",
      "metadata": {
        "colab": {
          "base_uri": "https://localhost:8080/",
          "height": 390
        },
        "id": "qeThBlSvYBGS",
        "outputId": "421db7da-a02b-4386-d9ee-f028b3dcb590"
      },
      "source": [
        "data_raw.describe(include='all') #include categorical variables"
      ],
      "execution_count": 26,
      "outputs": [
        {
          "output_type": "execute_result",
          "data": {
            "text/html": [
              "<div>\n",
              "<style scoped>\n",
              "    .dataframe tbody tr th:only-of-type {\n",
              "        vertical-align: middle;\n",
              "    }\n",
              "\n",
              "    .dataframe tbody tr th {\n",
              "        vertical-align: top;\n",
              "    }\n",
              "\n",
              "    .dataframe thead th {\n",
              "        text-align: right;\n",
              "    }\n",
              "</style>\n",
              "<table border=\"1\" class=\"dataframe\">\n",
              "  <thead>\n",
              "    <tr style=\"text-align: right;\">\n",
              "      <th></th>\n",
              "      <th>Brand</th>\n",
              "      <th>Price</th>\n",
              "      <th>Body</th>\n",
              "      <th>Mileage</th>\n",
              "      <th>EngineV</th>\n",
              "      <th>Engine Type</th>\n",
              "      <th>Registration</th>\n",
              "      <th>Year</th>\n",
              "      <th>Model</th>\n",
              "    </tr>\n",
              "  </thead>\n",
              "  <tbody>\n",
              "    <tr>\n",
              "      <th>count</th>\n",
              "      <td>4345</td>\n",
              "      <td>4173.000000</td>\n",
              "      <td>4345</td>\n",
              "      <td>4345.000000</td>\n",
              "      <td>4195.000000</td>\n",
              "      <td>4345</td>\n",
              "      <td>4345</td>\n",
              "      <td>4345.000000</td>\n",
              "      <td>4345</td>\n",
              "    </tr>\n",
              "    <tr>\n",
              "      <th>unique</th>\n",
              "      <td>7</td>\n",
              "      <td>NaN</td>\n",
              "      <td>6</td>\n",
              "      <td>NaN</td>\n",
              "      <td>NaN</td>\n",
              "      <td>4</td>\n",
              "      <td>2</td>\n",
              "      <td>NaN</td>\n",
              "      <td>312</td>\n",
              "    </tr>\n",
              "    <tr>\n",
              "      <th>top</th>\n",
              "      <td>Volkswagen</td>\n",
              "      <td>NaN</td>\n",
              "      <td>sedan</td>\n",
              "      <td>NaN</td>\n",
              "      <td>NaN</td>\n",
              "      <td>Diesel</td>\n",
              "      <td>yes</td>\n",
              "      <td>NaN</td>\n",
              "      <td>E-Class</td>\n",
              "    </tr>\n",
              "    <tr>\n",
              "      <th>freq</th>\n",
              "      <td>936</td>\n",
              "      <td>NaN</td>\n",
              "      <td>1649</td>\n",
              "      <td>NaN</td>\n",
              "      <td>NaN</td>\n",
              "      <td>2019</td>\n",
              "      <td>3947</td>\n",
              "      <td>NaN</td>\n",
              "      <td>199</td>\n",
              "    </tr>\n",
              "    <tr>\n",
              "      <th>mean</th>\n",
              "      <td>NaN</td>\n",
              "      <td>19418.746935</td>\n",
              "      <td>NaN</td>\n",
              "      <td>161.237284</td>\n",
              "      <td>2.790734</td>\n",
              "      <td>NaN</td>\n",
              "      <td>NaN</td>\n",
              "      <td>2006.550058</td>\n",
              "      <td>NaN</td>\n",
              "    </tr>\n",
              "    <tr>\n",
              "      <th>std</th>\n",
              "      <td>NaN</td>\n",
              "      <td>25584.242620</td>\n",
              "      <td>NaN</td>\n",
              "      <td>105.705797</td>\n",
              "      <td>5.066437</td>\n",
              "      <td>NaN</td>\n",
              "      <td>NaN</td>\n",
              "      <td>6.719097</td>\n",
              "      <td>NaN</td>\n",
              "    </tr>\n",
              "    <tr>\n",
              "      <th>min</th>\n",
              "      <td>NaN</td>\n",
              "      <td>600.000000</td>\n",
              "      <td>NaN</td>\n",
              "      <td>0.000000</td>\n",
              "      <td>0.600000</td>\n",
              "      <td>NaN</td>\n",
              "      <td>NaN</td>\n",
              "      <td>1969.000000</td>\n",
              "      <td>NaN</td>\n",
              "    </tr>\n",
              "    <tr>\n",
              "      <th>25%</th>\n",
              "      <td>NaN</td>\n",
              "      <td>6999.000000</td>\n",
              "      <td>NaN</td>\n",
              "      <td>86.000000</td>\n",
              "      <td>1.800000</td>\n",
              "      <td>NaN</td>\n",
              "      <td>NaN</td>\n",
              "      <td>2003.000000</td>\n",
              "      <td>NaN</td>\n",
              "    </tr>\n",
              "    <tr>\n",
              "      <th>50%</th>\n",
              "      <td>NaN</td>\n",
              "      <td>11500.000000</td>\n",
              "      <td>NaN</td>\n",
              "      <td>155.000000</td>\n",
              "      <td>2.200000</td>\n",
              "      <td>NaN</td>\n",
              "      <td>NaN</td>\n",
              "      <td>2008.000000</td>\n",
              "      <td>NaN</td>\n",
              "    </tr>\n",
              "    <tr>\n",
              "      <th>75%</th>\n",
              "      <td>NaN</td>\n",
              "      <td>21700.000000</td>\n",
              "      <td>NaN</td>\n",
              "      <td>230.000000</td>\n",
              "      <td>3.000000</td>\n",
              "      <td>NaN</td>\n",
              "      <td>NaN</td>\n",
              "      <td>2012.000000</td>\n",
              "      <td>NaN</td>\n",
              "    </tr>\n",
              "    <tr>\n",
              "      <th>max</th>\n",
              "      <td>NaN</td>\n",
              "      <td>300000.000000</td>\n",
              "      <td>NaN</td>\n",
              "      <td>980.000000</td>\n",
              "      <td>99.990000</td>\n",
              "      <td>NaN</td>\n",
              "      <td>NaN</td>\n",
              "      <td>2016.000000</td>\n",
              "      <td>NaN</td>\n",
              "    </tr>\n",
              "  </tbody>\n",
              "</table>\n",
              "</div>"
            ],
            "text/plain": [
              "             Brand          Price   Body  ...  Registration         Year    Model\n",
              "count         4345    4173.000000   4345  ...          4345  4345.000000     4345\n",
              "unique           7            NaN      6  ...             2          NaN      312\n",
              "top     Volkswagen            NaN  sedan  ...           yes          NaN  E-Class\n",
              "freq           936            NaN   1649  ...          3947          NaN      199\n",
              "mean           NaN   19418.746935    NaN  ...           NaN  2006.550058      NaN\n",
              "std            NaN   25584.242620    NaN  ...           NaN     6.719097      NaN\n",
              "min            NaN     600.000000    NaN  ...           NaN  1969.000000      NaN\n",
              "25%            NaN    6999.000000    NaN  ...           NaN  2003.000000      NaN\n",
              "50%            NaN   11500.000000    NaN  ...           NaN  2008.000000      NaN\n",
              "75%            NaN   21700.000000    NaN  ...           NaN  2012.000000      NaN\n",
              "max            NaN  300000.000000    NaN  ...           NaN  2016.000000      NaN\n",
              "\n",
              "[11 rows x 9 columns]"
            ]
          },
          "metadata": {},
          "execution_count": 26
        }
      ]
    },
    {
      "cell_type": "markdown",
      "metadata": {
        "id": "UABOaNUU_Sv8"
      },
      "source": [
        "as we see model is categorical variable and has 312 unique values so its hard to implement at regression because we will have more than 300 dummies"
      ]
    },
    {
      "cell_type": "code",
      "metadata": {
        "colab": {
          "base_uri": "https://localhost:8080/",
          "height": 390
        },
        "id": "IYTborKBdQQ3",
        "outputId": "fc0f72c7-354c-4431-8b2f-dd13738735c6"
      },
      "source": [
        "data=data_raw.drop(['Model'],axis=1)# delete model column\n",
        "data.describe(include='all')"
      ],
      "execution_count": 28,
      "outputs": [
        {
          "output_type": "execute_result",
          "data": {
            "text/html": [
              "<div>\n",
              "<style scoped>\n",
              "    .dataframe tbody tr th:only-of-type {\n",
              "        vertical-align: middle;\n",
              "    }\n",
              "\n",
              "    .dataframe tbody tr th {\n",
              "        vertical-align: top;\n",
              "    }\n",
              "\n",
              "    .dataframe thead th {\n",
              "        text-align: right;\n",
              "    }\n",
              "</style>\n",
              "<table border=\"1\" class=\"dataframe\">\n",
              "  <thead>\n",
              "    <tr style=\"text-align: right;\">\n",
              "      <th></th>\n",
              "      <th>Brand</th>\n",
              "      <th>Price</th>\n",
              "      <th>Body</th>\n",
              "      <th>Mileage</th>\n",
              "      <th>EngineV</th>\n",
              "      <th>Engine Type</th>\n",
              "      <th>Registration</th>\n",
              "      <th>Year</th>\n",
              "    </tr>\n",
              "  </thead>\n",
              "  <tbody>\n",
              "    <tr>\n",
              "      <th>count</th>\n",
              "      <td>4345</td>\n",
              "      <td>4173.000000</td>\n",
              "      <td>4345</td>\n",
              "      <td>4345.000000</td>\n",
              "      <td>4195.000000</td>\n",
              "      <td>4345</td>\n",
              "      <td>4345</td>\n",
              "      <td>4345.000000</td>\n",
              "    </tr>\n",
              "    <tr>\n",
              "      <th>unique</th>\n",
              "      <td>7</td>\n",
              "      <td>NaN</td>\n",
              "      <td>6</td>\n",
              "      <td>NaN</td>\n",
              "      <td>NaN</td>\n",
              "      <td>4</td>\n",
              "      <td>2</td>\n",
              "      <td>NaN</td>\n",
              "    </tr>\n",
              "    <tr>\n",
              "      <th>top</th>\n",
              "      <td>Volkswagen</td>\n",
              "      <td>NaN</td>\n",
              "      <td>sedan</td>\n",
              "      <td>NaN</td>\n",
              "      <td>NaN</td>\n",
              "      <td>Diesel</td>\n",
              "      <td>yes</td>\n",
              "      <td>NaN</td>\n",
              "    </tr>\n",
              "    <tr>\n",
              "      <th>freq</th>\n",
              "      <td>936</td>\n",
              "      <td>NaN</td>\n",
              "      <td>1649</td>\n",
              "      <td>NaN</td>\n",
              "      <td>NaN</td>\n",
              "      <td>2019</td>\n",
              "      <td>3947</td>\n",
              "      <td>NaN</td>\n",
              "    </tr>\n",
              "    <tr>\n",
              "      <th>mean</th>\n",
              "      <td>NaN</td>\n",
              "      <td>19418.746935</td>\n",
              "      <td>NaN</td>\n",
              "      <td>161.237284</td>\n",
              "      <td>2.790734</td>\n",
              "      <td>NaN</td>\n",
              "      <td>NaN</td>\n",
              "      <td>2006.550058</td>\n",
              "    </tr>\n",
              "    <tr>\n",
              "      <th>std</th>\n",
              "      <td>NaN</td>\n",
              "      <td>25584.242620</td>\n",
              "      <td>NaN</td>\n",
              "      <td>105.705797</td>\n",
              "      <td>5.066437</td>\n",
              "      <td>NaN</td>\n",
              "      <td>NaN</td>\n",
              "      <td>6.719097</td>\n",
              "    </tr>\n",
              "    <tr>\n",
              "      <th>min</th>\n",
              "      <td>NaN</td>\n",
              "      <td>600.000000</td>\n",
              "      <td>NaN</td>\n",
              "      <td>0.000000</td>\n",
              "      <td>0.600000</td>\n",
              "      <td>NaN</td>\n",
              "      <td>NaN</td>\n",
              "      <td>1969.000000</td>\n",
              "    </tr>\n",
              "    <tr>\n",
              "      <th>25%</th>\n",
              "      <td>NaN</td>\n",
              "      <td>6999.000000</td>\n",
              "      <td>NaN</td>\n",
              "      <td>86.000000</td>\n",
              "      <td>1.800000</td>\n",
              "      <td>NaN</td>\n",
              "      <td>NaN</td>\n",
              "      <td>2003.000000</td>\n",
              "    </tr>\n",
              "    <tr>\n",
              "      <th>50%</th>\n",
              "      <td>NaN</td>\n",
              "      <td>11500.000000</td>\n",
              "      <td>NaN</td>\n",
              "      <td>155.000000</td>\n",
              "      <td>2.200000</td>\n",
              "      <td>NaN</td>\n",
              "      <td>NaN</td>\n",
              "      <td>2008.000000</td>\n",
              "    </tr>\n",
              "    <tr>\n",
              "      <th>75%</th>\n",
              "      <td>NaN</td>\n",
              "      <td>21700.000000</td>\n",
              "      <td>NaN</td>\n",
              "      <td>230.000000</td>\n",
              "      <td>3.000000</td>\n",
              "      <td>NaN</td>\n",
              "      <td>NaN</td>\n",
              "      <td>2012.000000</td>\n",
              "    </tr>\n",
              "    <tr>\n",
              "      <th>max</th>\n",
              "      <td>NaN</td>\n",
              "      <td>300000.000000</td>\n",
              "      <td>NaN</td>\n",
              "      <td>980.000000</td>\n",
              "      <td>99.990000</td>\n",
              "      <td>NaN</td>\n",
              "      <td>NaN</td>\n",
              "      <td>2016.000000</td>\n",
              "    </tr>\n",
              "  </tbody>\n",
              "</table>\n",
              "</div>"
            ],
            "text/plain": [
              "             Brand          Price   Body  ...  Engine Type  Registration         Year\n",
              "count         4345    4173.000000   4345  ...         4345          4345  4345.000000\n",
              "unique           7            NaN      6  ...            4             2          NaN\n",
              "top     Volkswagen            NaN  sedan  ...       Diesel           yes          NaN\n",
              "freq           936            NaN   1649  ...         2019          3947          NaN\n",
              "mean           NaN   19418.746935    NaN  ...          NaN           NaN  2006.550058\n",
              "std            NaN   25584.242620    NaN  ...          NaN           NaN     6.719097\n",
              "min            NaN     600.000000    NaN  ...          NaN           NaN  1969.000000\n",
              "25%            NaN    6999.000000    NaN  ...          NaN           NaN  2003.000000\n",
              "50%            NaN   11500.000000    NaN  ...          NaN           NaN  2008.000000\n",
              "75%            NaN   21700.000000    NaN  ...          NaN           NaN  2012.000000\n",
              "max            NaN  300000.000000    NaN  ...          NaN           NaN  2016.000000\n",
              "\n",
              "[11 rows x 8 columns]"
            ]
          },
          "metadata": {},
          "execution_count": 28
        }
      ]
    },
    {
      "cell_type": "markdown",
      "metadata": {
        "id": "kOEyw2JFATIf"
      },
      "source": [
        "Check missing values"
      ]
    },
    {
      "cell_type": "code",
      "metadata": {
        "colab": {
          "base_uri": "https://localhost:8080/"
        },
        "id": "2hdA3gzkAWAQ",
        "outputId": "76dc4ed0-df76-495d-d789-e274b3727048"
      },
      "source": [
        "mv=data.isnull().sum()\n",
        "mv"
      ],
      "execution_count": 29,
      "outputs": [
        {
          "output_type": "execute_result",
          "data": {
            "text/plain": [
              "Brand             0\n",
              "Price           172\n",
              "Body              0\n",
              "Mileage           0\n",
              "EngineV         150\n",
              "Engine Type       0\n",
              "Registration      0\n",
              "Year              0\n",
              "dtype: int64"
            ]
          },
          "metadata": {},
          "execution_count": 29
        }
      ]
    },
    {
      "cell_type": "markdown",
      "metadata": {
        "id": "TNo6VjX7AxTP"
      },
      "source": [
        "as we see price and engineV have missing values \n",
        "we need to remove this records \n",
        "if you are removing <5% of observations ,you are free to just remove all that have missing values"
      ]
    },
    {
      "cell_type": "code",
      "metadata": {
        "colab": {
          "base_uri": "https://localhost:8080/"
        },
        "id": "cGTvG237Bw3H",
        "outputId": "33063cc1-843a-4e85-aa48-6ba8efb15051"
      },
      "source": [
        "n=data.shape[0]\n",
        "price_mv=mv['Price']\n",
        "engineV_mv=mv['EngineV']\n",
        "price_mv_prect=((price_mv)/n)*100\n",
        "engineV_mv_prect=((engineV_mv)/n)*100\n",
        "print(price_mv_prect)\n",
        "print(engineV_mv_prect)"
      ],
      "execution_count": 30,
      "outputs": [
        {
          "output_type": "stream",
          "name": "stdout",
          "text": [
            "3.958573072497123\n",
            "3.452243958573072\n"
          ]
        }
      ]
    },
    {
      "cell_type": "markdown",
      "metadata": {
        "id": "FsSOLF0wDKgy"
      },
      "source": [
        "we are free to remove missing values"
      ]
    },
    {
      "cell_type": "code",
      "metadata": {
        "colab": {
          "base_uri": "https://localhost:8080/",
          "height": 390
        },
        "id": "zyTZtRSWB82j",
        "outputId": "13274af0-43d6-45a8-fe94-c0f34f35cfa4"
      },
      "source": [
        "data_no_ms=data.dropna(axis=0)\n",
        "data_no_ms.describe(include='all')"
      ],
      "execution_count": 31,
      "outputs": [
        {
          "output_type": "execute_result",
          "data": {
            "text/html": [
              "<div>\n",
              "<style scoped>\n",
              "    .dataframe tbody tr th:only-of-type {\n",
              "        vertical-align: middle;\n",
              "    }\n",
              "\n",
              "    .dataframe tbody tr th {\n",
              "        vertical-align: top;\n",
              "    }\n",
              "\n",
              "    .dataframe thead th {\n",
              "        text-align: right;\n",
              "    }\n",
              "</style>\n",
              "<table border=\"1\" class=\"dataframe\">\n",
              "  <thead>\n",
              "    <tr style=\"text-align: right;\">\n",
              "      <th></th>\n",
              "      <th>Brand</th>\n",
              "      <th>Price</th>\n",
              "      <th>Body</th>\n",
              "      <th>Mileage</th>\n",
              "      <th>EngineV</th>\n",
              "      <th>Engine Type</th>\n",
              "      <th>Registration</th>\n",
              "      <th>Year</th>\n",
              "    </tr>\n",
              "  </thead>\n",
              "  <tbody>\n",
              "    <tr>\n",
              "      <th>count</th>\n",
              "      <td>4025</td>\n",
              "      <td>4025.000000</td>\n",
              "      <td>4025</td>\n",
              "      <td>4025.000000</td>\n",
              "      <td>4025.000000</td>\n",
              "      <td>4025</td>\n",
              "      <td>4025</td>\n",
              "      <td>4025.000000</td>\n",
              "    </tr>\n",
              "    <tr>\n",
              "      <th>unique</th>\n",
              "      <td>7</td>\n",
              "      <td>NaN</td>\n",
              "      <td>6</td>\n",
              "      <td>NaN</td>\n",
              "      <td>NaN</td>\n",
              "      <td>4</td>\n",
              "      <td>2</td>\n",
              "      <td>NaN</td>\n",
              "    </tr>\n",
              "    <tr>\n",
              "      <th>top</th>\n",
              "      <td>Volkswagen</td>\n",
              "      <td>NaN</td>\n",
              "      <td>sedan</td>\n",
              "      <td>NaN</td>\n",
              "      <td>NaN</td>\n",
              "      <td>Diesel</td>\n",
              "      <td>yes</td>\n",
              "      <td>NaN</td>\n",
              "    </tr>\n",
              "    <tr>\n",
              "      <th>freq</th>\n",
              "      <td>880</td>\n",
              "      <td>NaN</td>\n",
              "      <td>1534</td>\n",
              "      <td>NaN</td>\n",
              "      <td>NaN</td>\n",
              "      <td>1861</td>\n",
              "      <td>3654</td>\n",
              "      <td>NaN</td>\n",
              "    </tr>\n",
              "    <tr>\n",
              "      <th>mean</th>\n",
              "      <td>NaN</td>\n",
              "      <td>19552.308065</td>\n",
              "      <td>NaN</td>\n",
              "      <td>163.572174</td>\n",
              "      <td>2.764586</td>\n",
              "      <td>NaN</td>\n",
              "      <td>NaN</td>\n",
              "      <td>2006.379627</td>\n",
              "    </tr>\n",
              "    <tr>\n",
              "      <th>std</th>\n",
              "      <td>NaN</td>\n",
              "      <td>25815.734988</td>\n",
              "      <td>NaN</td>\n",
              "      <td>103.394703</td>\n",
              "      <td>4.935941</td>\n",
              "      <td>NaN</td>\n",
              "      <td>NaN</td>\n",
              "      <td>6.695595</td>\n",
              "    </tr>\n",
              "    <tr>\n",
              "      <th>min</th>\n",
              "      <td>NaN</td>\n",
              "      <td>600.000000</td>\n",
              "      <td>NaN</td>\n",
              "      <td>0.000000</td>\n",
              "      <td>0.600000</td>\n",
              "      <td>NaN</td>\n",
              "      <td>NaN</td>\n",
              "      <td>1969.000000</td>\n",
              "    </tr>\n",
              "    <tr>\n",
              "      <th>25%</th>\n",
              "      <td>NaN</td>\n",
              "      <td>6999.000000</td>\n",
              "      <td>NaN</td>\n",
              "      <td>90.000000</td>\n",
              "      <td>1.800000</td>\n",
              "      <td>NaN</td>\n",
              "      <td>NaN</td>\n",
              "      <td>2003.000000</td>\n",
              "    </tr>\n",
              "    <tr>\n",
              "      <th>50%</th>\n",
              "      <td>NaN</td>\n",
              "      <td>11500.000000</td>\n",
              "      <td>NaN</td>\n",
              "      <td>158.000000</td>\n",
              "      <td>2.200000</td>\n",
              "      <td>NaN</td>\n",
              "      <td>NaN</td>\n",
              "      <td>2007.000000</td>\n",
              "    </tr>\n",
              "    <tr>\n",
              "      <th>75%</th>\n",
              "      <td>NaN</td>\n",
              "      <td>21900.000000</td>\n",
              "      <td>NaN</td>\n",
              "      <td>230.000000</td>\n",
              "      <td>3.000000</td>\n",
              "      <td>NaN</td>\n",
              "      <td>NaN</td>\n",
              "      <td>2012.000000</td>\n",
              "    </tr>\n",
              "    <tr>\n",
              "      <th>max</th>\n",
              "      <td>NaN</td>\n",
              "      <td>300000.000000</td>\n",
              "      <td>NaN</td>\n",
              "      <td>980.000000</td>\n",
              "      <td>99.990000</td>\n",
              "      <td>NaN</td>\n",
              "      <td>NaN</td>\n",
              "      <td>2016.000000</td>\n",
              "    </tr>\n",
              "  </tbody>\n",
              "</table>\n",
              "</div>"
            ],
            "text/plain": [
              "             Brand          Price   Body  ...  Engine Type  Registration         Year\n",
              "count         4025    4025.000000   4025  ...         4025          4025  4025.000000\n",
              "unique           7            NaN      6  ...            4             2          NaN\n",
              "top     Volkswagen            NaN  sedan  ...       Diesel           yes          NaN\n",
              "freq           880            NaN   1534  ...         1861          3654          NaN\n",
              "mean           NaN   19552.308065    NaN  ...          NaN           NaN  2006.379627\n",
              "std            NaN   25815.734988    NaN  ...          NaN           NaN     6.695595\n",
              "min            NaN     600.000000    NaN  ...          NaN           NaN  1969.000000\n",
              "25%            NaN    6999.000000    NaN  ...          NaN           NaN  2003.000000\n",
              "50%            NaN   11500.000000    NaN  ...          NaN           NaN  2007.000000\n",
              "75%            NaN   21900.000000    NaN  ...          NaN           NaN  2012.000000\n",
              "max            NaN  300000.000000    NaN  ...          NaN           NaN  2016.000000\n",
              "\n",
              "[11 rows x 8 columns]"
            ]
          },
          "metadata": {},
          "execution_count": 31
        }
      ]
    },
    {
      "cell_type": "code",
      "metadata": {
        "colab": {
          "base_uri": "https://localhost:8080/",
          "height": 367
        },
        "id": "zZHrv4ztD89Z",
        "outputId": "32ac2587-33f1-44c4-b678-e70c748d4668"
      },
      "source": [
        "sns.distplot(data_no_ms['Price'])"
      ],
      "execution_count": 32,
      "outputs": [
        {
          "output_type": "stream",
          "name": "stderr",
          "text": [
            "/usr/local/lib/python3.7/dist-packages/seaborn/distributions.py:2619: FutureWarning: `distplot` is a deprecated function and will be removed in a future version. Please adapt your code to use either `displot` (a figure-level function with similar flexibility) or `histplot` (an axes-level function for histograms).\n",
            "  warnings.warn(msg, FutureWarning)\n"
          ]
        },
        {
          "output_type": "execute_result",
          "data": {
            "text/plain": [
              "<matplotlib.axes._subplots.AxesSubplot at 0x7f9b26164c90>"
            ]
          },
          "metadata": {},
          "execution_count": 32
        },
        {
          "output_type": "display_data",
          "data": {
            "image/png": "[encoded data removed]",
            "text/plain": [
              "<Figure size 432x288 with 1 Axes>"
            ]
          },
          "metadata": {}
        }
      ]
    },
    {
      "cell_type": "markdown",
      "metadata": {
        "id": "P9v03oifW6dT"
      },
      "source": [
        "as we saw from describtive there are outliers on prices\n",
        "we can remove 1% by qunatile function "
      ]
    },
    {
      "cell_type": "code",
      "metadata": {
        "colab": {
          "base_uri": "https://localhost:8080/"
        },
        "id": "5RaabXLWFJOz",
        "outputId": "d4f8699f-705b-44eb-c9b0-c39ee4f109d3"
      },
      "source": [
        "q=data_no_ms['Price'].quantile(0.99)\n",
        "q"
      ],
      "execution_count": 34,
      "outputs": [
        {
          "output_type": "execute_result",
          "data": {
            "text/plain": [
              "129812.51999999981"
            ]
          },
          "metadata": {},
          "execution_count": 34
        }
      ]
    },
    {
      "cell_type": "code",
      "metadata": {
        "colab": {
          "base_uri": "https://localhost:8080/",
          "height": 390
        },
        "id": "KedMx9eEX5Ff",
        "outputId": "8eacd8e8-bf83-4930-9e99-ebe8ac079e58"
      },
      "source": [
        "data_1=data_no_ms[data_no_ms['Price']<q]\n",
        "data_1.describe(include='all')"
      ],
      "execution_count": 35,
      "outputs": [
        {
          "output_type": "execute_result",
          "data": {
            "text/html": [
              "<div>\n",
              "<style scoped>\n",
              "    .dataframe tbody tr th:only-of-type {\n",
              "        vertical-align: middle;\n",
              "    }\n",
              "\n",
              "    .dataframe tbody tr th {\n",
              "        vertical-align: top;\n",
              "    }\n",
              "\n",
              "    .dataframe thead th {\n",
              "        text-align: right;\n",
              "    }\n",
              "</style>\n",
              "<table border=\"1\" class=\"dataframe\">\n",
              "  <thead>\n",
              "    <tr style=\"text-align: right;\">\n",
              "      <th></th>\n",
              "      <th>Brand</th>\n",
              "      <th>Price</th>\n",
              "      <th>Body</th>\n",
              "      <th>Mileage</th>\n",
              "      <th>EngineV</th>\n",
              "      <th>Engine Type</th>\n",
              "      <th>Registration</th>\n",
              "      <th>Year</th>\n",
              "    </tr>\n",
              "  </thead>\n",
              "  <tbody>\n",
              "    <tr>\n",
              "      <th>count</th>\n",
              "      <td>3984</td>\n",
              "      <td>3984.000000</td>\n",
              "      <td>3984</td>\n",
              "      <td>3984.000000</td>\n",
              "      <td>3984.000000</td>\n",
              "      <td>3984</td>\n",
              "      <td>3984</td>\n",
              "      <td>3984.000000</td>\n",
              "    </tr>\n",
              "    <tr>\n",
              "      <th>unique</th>\n",
              "      <td>7</td>\n",
              "      <td>NaN</td>\n",
              "      <td>6</td>\n",
              "      <td>NaN</td>\n",
              "      <td>NaN</td>\n",
              "      <td>4</td>\n",
              "      <td>2</td>\n",
              "      <td>NaN</td>\n",
              "    </tr>\n",
              "    <tr>\n",
              "      <th>top</th>\n",
              "      <td>Volkswagen</td>\n",
              "      <td>NaN</td>\n",
              "      <td>sedan</td>\n",
              "      <td>NaN</td>\n",
              "      <td>NaN</td>\n",
              "      <td>Diesel</td>\n",
              "      <td>yes</td>\n",
              "      <td>NaN</td>\n",
              "    </tr>\n",
              "    <tr>\n",
              "      <th>freq</th>\n",
              "      <td>880</td>\n",
              "      <td>NaN</td>\n",
              "      <td>1528</td>\n",
              "      <td>NaN</td>\n",
              "      <td>NaN</td>\n",
              "      <td>1853</td>\n",
              "      <td>3613</td>\n",
              "      <td>NaN</td>\n",
              "    </tr>\n",
              "    <tr>\n",
              "      <th>mean</th>\n",
              "      <td>NaN</td>\n",
              "      <td>17837.117460</td>\n",
              "      <td>NaN</td>\n",
              "      <td>165.116466</td>\n",
              "      <td>2.743770</td>\n",
              "      <td>NaN</td>\n",
              "      <td>NaN</td>\n",
              "      <td>2006.292922</td>\n",
              "    </tr>\n",
              "    <tr>\n",
              "      <th>std</th>\n",
              "      <td>NaN</td>\n",
              "      <td>18976.268315</td>\n",
              "      <td>NaN</td>\n",
              "      <td>102.766126</td>\n",
              "      <td>4.956057</td>\n",
              "      <td>NaN</td>\n",
              "      <td>NaN</td>\n",
              "      <td>6.672745</td>\n",
              "    </tr>\n",
              "    <tr>\n",
              "      <th>min</th>\n",
              "      <td>NaN</td>\n",
              "      <td>600.000000</td>\n",
              "      <td>NaN</td>\n",
              "      <td>0.000000</td>\n",
              "      <td>0.600000</td>\n",
              "      <td>NaN</td>\n",
              "      <td>NaN</td>\n",
              "      <td>1969.000000</td>\n",
              "    </tr>\n",
              "    <tr>\n",
              "      <th>25%</th>\n",
              "      <td>NaN</td>\n",
              "      <td>6980.000000</td>\n",
              "      <td>NaN</td>\n",
              "      <td>93.000000</td>\n",
              "      <td>1.800000</td>\n",
              "      <td>NaN</td>\n",
              "      <td>NaN</td>\n",
              "      <td>2002.750000</td>\n",
              "    </tr>\n",
              "    <tr>\n",
              "      <th>50%</th>\n",
              "      <td>NaN</td>\n",
              "      <td>11400.000000</td>\n",
              "      <td>NaN</td>\n",
              "      <td>160.000000</td>\n",
              "      <td>2.200000</td>\n",
              "      <td>NaN</td>\n",
              "      <td>NaN</td>\n",
              "      <td>2007.000000</td>\n",
              "    </tr>\n",
              "    <tr>\n",
              "      <th>75%</th>\n",
              "      <td>NaN</td>\n",
              "      <td>21000.000000</td>\n",
              "      <td>NaN</td>\n",
              "      <td>230.000000</td>\n",
              "      <td>3.000000</td>\n",
              "      <td>NaN</td>\n",
              "      <td>NaN</td>\n",
              "      <td>2011.000000</td>\n",
              "    </tr>\n",
              "    <tr>\n",
              "      <th>max</th>\n",
              "      <td>NaN</td>\n",
              "      <td>129222.000000</td>\n",
              "      <td>NaN</td>\n",
              "      <td>980.000000</td>\n",
              "      <td>99.990000</td>\n",
              "      <td>NaN</td>\n",
              "      <td>NaN</td>\n",
              "      <td>2016.000000</td>\n",
              "    </tr>\n",
              "  </tbody>\n",
              "</table>\n",
              "</div>"
            ],
            "text/plain": [
              "             Brand          Price   Body  ...  Engine Type  Registration         Year\n",
              "count         3984    3984.000000   3984  ...         3984          3984  3984.000000\n",
              "unique           7            NaN      6  ...            4             2          NaN\n",
              "top     Volkswagen            NaN  sedan  ...       Diesel           yes          NaN\n",
              "freq           880            NaN   1528  ...         1853          3613          NaN\n",
              "mean           NaN   17837.117460    NaN  ...          NaN           NaN  2006.292922\n",
              "std            NaN   18976.268315    NaN  ...          NaN           NaN     6.672745\n",
              "min            NaN     600.000000    NaN  ...          NaN           NaN  1969.000000\n",
              "25%            NaN    6980.000000    NaN  ...          NaN           NaN  2002.750000\n",
              "50%            NaN   11400.000000    NaN  ...          NaN           NaN  2007.000000\n",
              "75%            NaN   21000.000000    NaN  ...          NaN           NaN  2011.000000\n",
              "max            NaN  129222.000000    NaN  ...          NaN           NaN  2016.000000\n",
              "\n",
              "[11 rows x 8 columns]"
            ]
          },
          "metadata": {},
          "execution_count": 35
        }
      ]
    },
    {
      "cell_type": "code",
      "metadata": {
        "colab": {
          "base_uri": "https://localhost:8080/",
          "height": 367
        },
        "id": "mtn5pl7CYJ7b",
        "outputId": "13152955-3023-4a73-b28b-bdc876f799d0"
      },
      "source": [
        "sns.distplot(data_1['Price'])\n"
      ],
      "execution_count": 39,
      "outputs": [
        {
          "output_type": "stream",
          "name": "stderr",
          "text": [
            "/usr/local/lib/python3.7/dist-packages/seaborn/distributions.py:2619: FutureWarning: `distplot` is a deprecated function and will be removed in a future version. Please adapt your code to use either `displot` (a figure-level function with similar flexibility) or `histplot` (an axes-level function for histograms).\n",
            "  warnings.warn(msg, FutureWarning)\n"
          ]
        },
        {
          "output_type": "execute_result",
          "data": {
            "text/plain": [
              "<matplotlib.axes._subplots.AxesSubplot at 0x7f9b1b270d10>"
            ]
          },
          "metadata": {},
          "execution_count": 39
        },
        {
          "output_type": "display_data",
          "data": {
            "image/png": "[encoded data removed]",
            "text/plain": [
              "<Figure size 432x288 with 1 Axes>"
            ]
          },
          "metadata": {}
        }
      ]
    },
    {
      "cell_type": "code",
      "metadata": {
        "colab": {
          "base_uri": "https://localhost:8080/",
          "height": 356
        },
        "id": "1naVgiTLdf4l",
        "outputId": "0ece2eae-adae-4fcc-cb3f-f28b03adb601"
      },
      "source": [
        "sns.distplot(data_1['Mileage'])"
      ],
      "execution_count": 40,
      "outputs": [
        {
          "output_type": "stream",
          "name": "stderr",
          "text": [
            "/usr/local/lib/python3.7/dist-packages/seaborn/distributions.py:2619: FutureWarning: `distplot` is a deprecated function and will be removed in a future version. Please adapt your code to use either `displot` (a figure-level function with similar flexibility) or `histplot` (an axes-level function for histograms).\n",
            "  warnings.warn(msg, FutureWarning)\n"
          ]
        },
        {
          "output_type": "execute_result",
          "data": {
            "text/plain": [
              "<matplotlib.axes._subplots.AxesSubplot at 0x7f9b1affb210>"
            ]
          },
          "metadata": {},
          "execution_count": 40
        },
        {
          "output_type": "display_data",
          "data": {
            "image/png": "[encoded data removed]",
            "text/plain": [
              "<Figure size 432x288 with 1 Axes>"
            ]
          },
          "metadata": {}
        }
      ]
    },
    {
      "cell_type": "code",
      "metadata": {
        "id": "9V8Bxz8ld5Z9"
      },
      "source": [
        "q=data_1['Mileage'].quantile(0.99)\n",
        "data_2=data_1[data_1['Mileage']<q]"
      ],
      "execution_count": 41,
      "outputs": []
    },
    {
      "cell_type": "code",
      "metadata": {
        "colab": {
          "base_uri": "https://localhost:8080/",
          "height": 390
        },
        "id": "e_VoG9lreVPC",
        "outputId": "54199807-5f39-46d0-fd8a-cf2edbfd0cec"
      },
      "source": [
        "data_2.describe(include=\"all\")"
      ],
      "execution_count": 42,
      "outputs": [
        {
          "output_type": "execute_result",
          "data": {
            "text/html": [
              "<div>\n",
              "<style scoped>\n",
              "    .dataframe tbody tr th:only-of-type {\n",
              "        vertical-align: middle;\n",
              "    }\n",
              "\n",
              "    .dataframe tbody tr th {\n",
              "        vertical-align: top;\n",
              "    }\n",
              "\n",
              "    .dataframe thead th {\n",
              "        text-align: right;\n",
              "    }\n",
              "</style>\n",
              "<table border=\"1\" class=\"dataframe\">\n",
              "  <thead>\n",
              "    <tr style=\"text-align: right;\">\n",
              "      <th></th>\n",
              "      <th>Brand</th>\n",
              "      <th>Price</th>\n",
              "      <th>Body</th>\n",
              "      <th>Mileage</th>\n",
              "      <th>EngineV</th>\n",
              "      <th>Engine Type</th>\n",
              "      <th>Registration</th>\n",
              "      <th>Year</th>\n",
              "    </tr>\n",
              "  </thead>\n",
              "  <tbody>\n",
              "    <tr>\n",
              "      <th>count</th>\n",
              "      <td>3944</td>\n",
              "      <td>3944.000000</td>\n",
              "      <td>3944</td>\n",
              "      <td>3944.000000</td>\n",
              "      <td>3944.000000</td>\n",
              "      <td>3944</td>\n",
              "      <td>3944</td>\n",
              "      <td>3944.000000</td>\n",
              "    </tr>\n",
              "    <tr>\n",
              "      <th>unique</th>\n",
              "      <td>7</td>\n",
              "      <td>NaN</td>\n",
              "      <td>6</td>\n",
              "      <td>NaN</td>\n",
              "      <td>NaN</td>\n",
              "      <td>4</td>\n",
              "      <td>2</td>\n",
              "      <td>NaN</td>\n",
              "    </tr>\n",
              "    <tr>\n",
              "      <th>top</th>\n",
              "      <td>Volkswagen</td>\n",
              "      <td>NaN</td>\n",
              "      <td>sedan</td>\n",
              "      <td>NaN</td>\n",
              "      <td>NaN</td>\n",
              "      <td>Diesel</td>\n",
              "      <td>yes</td>\n",
              "      <td>NaN</td>\n",
              "    </tr>\n",
              "    <tr>\n",
              "      <th>freq</th>\n",
              "      <td>867</td>\n",
              "      <td>NaN</td>\n",
              "      <td>1511</td>\n",
              "      <td>NaN</td>\n",
              "      <td>NaN</td>\n",
              "      <td>1825</td>\n",
              "      <td>3576</td>\n",
              "      <td>NaN</td>\n",
              "    </tr>\n",
              "    <tr>\n",
              "      <th>mean</th>\n",
              "      <td>NaN</td>\n",
              "      <td>17933.880822</td>\n",
              "      <td>NaN</td>\n",
              "      <td>161.484026</td>\n",
              "      <td>2.747612</td>\n",
              "      <td>NaN</td>\n",
              "      <td>NaN</td>\n",
              "      <td>2006.389959</td>\n",
              "    </tr>\n",
              "    <tr>\n",
              "      <th>std</th>\n",
              "      <td>NaN</td>\n",
              "      <td>19008.212025</td>\n",
              "      <td>NaN</td>\n",
              "      <td>96.027108</td>\n",
              "      <td>4.980406</td>\n",
              "      <td>NaN</td>\n",
              "      <td>NaN</td>\n",
              "      <td>6.595986</td>\n",
              "    </tr>\n",
              "    <tr>\n",
              "      <th>min</th>\n",
              "      <td>NaN</td>\n",
              "      <td>600.000000</td>\n",
              "      <td>NaN</td>\n",
              "      <td>0.000000</td>\n",
              "      <td>0.600000</td>\n",
              "      <td>NaN</td>\n",
              "      <td>NaN</td>\n",
              "      <td>1969.000000</td>\n",
              "    </tr>\n",
              "    <tr>\n",
              "      <th>25%</th>\n",
              "      <td>NaN</td>\n",
              "      <td>7000.000000</td>\n",
              "      <td>NaN</td>\n",
              "      <td>92.000000</td>\n",
              "      <td>1.800000</td>\n",
              "      <td>NaN</td>\n",
              "      <td>NaN</td>\n",
              "      <td>2003.000000</td>\n",
              "    </tr>\n",
              "    <tr>\n",
              "      <th>50%</th>\n",
              "      <td>NaN</td>\n",
              "      <td>11500.000000</td>\n",
              "      <td>NaN</td>\n",
              "      <td>158.000000</td>\n",
              "      <td>2.200000</td>\n",
              "      <td>NaN</td>\n",
              "      <td>NaN</td>\n",
              "      <td>2007.000000</td>\n",
              "    </tr>\n",
              "    <tr>\n",
              "      <th>75%</th>\n",
              "      <td>NaN</td>\n",
              "      <td>21376.250000</td>\n",
              "      <td>NaN</td>\n",
              "      <td>230.000000</td>\n",
              "      <td>3.000000</td>\n",
              "      <td>NaN</td>\n",
              "      <td>NaN</td>\n",
              "      <td>2011.000000</td>\n",
              "    </tr>\n",
              "    <tr>\n",
              "      <th>max</th>\n",
              "      <td>NaN</td>\n",
              "      <td>129222.000000</td>\n",
              "      <td>NaN</td>\n",
              "      <td>435.000000</td>\n",
              "      <td>99.990000</td>\n",
              "      <td>NaN</td>\n",
              "      <td>NaN</td>\n",
              "      <td>2016.000000</td>\n",
              "    </tr>\n",
              "  </tbody>\n",
              "</table>\n",
              "</div>"
            ],
            "text/plain": [
              "             Brand          Price   Body  ...  Engine Type  Registration         Year\n",
              "count         3944    3944.000000   3944  ...         3944          3944  3944.000000\n",
              "unique           7            NaN      6  ...            4             2          NaN\n",
              "top     Volkswagen            NaN  sedan  ...       Diesel           yes          NaN\n",
              "freq           867            NaN   1511  ...         1825          3576          NaN\n",
              "mean           NaN   17933.880822    NaN  ...          NaN           NaN  2006.389959\n",
              "std            NaN   19008.212025    NaN  ...          NaN           NaN     6.595986\n",
              "min            NaN     600.000000    NaN  ...          NaN           NaN  1969.000000\n",
              "25%            NaN    7000.000000    NaN  ...          NaN           NaN  2003.000000\n",
              "50%            NaN   11500.000000    NaN  ...          NaN           NaN  2007.000000\n",
              "75%            NaN   21376.250000    NaN  ...          NaN           NaN  2011.000000\n",
              "max            NaN  129222.000000    NaN  ...          NaN           NaN  2016.000000\n",
              "\n",
              "[11 rows x 8 columns]"
            ]
          },
          "metadata": {},
          "execution_count": 42
        }
      ]
    },
    {
      "cell_type": "code",
      "metadata": {
        "colab": {
          "base_uri": "https://localhost:8080/",
          "height": 360
        },
        "id": "-3-bBkn8ea6N",
        "outputId": "eb2ae9a9-13d3-4d73-a88e-6bdc2fa80d20"
      },
      "source": [
        "sns.distplot(data_2['Mileage'])"
      ],
      "execution_count": 43,
      "outputs": [
        {
          "output_type": "stream",
          "name": "stderr",
          "text": [
            "/usr/local/lib/python3.7/dist-packages/seaborn/distributions.py:2619: FutureWarning: `distplot` is a deprecated function and will be removed in a future version. Please adapt your code to use either `displot` (a figure-level function with similar flexibility) or `histplot` (an axes-level function for histograms).\n",
            "  warnings.warn(msg, FutureWarning)\n"
          ]
        },
        {
          "output_type": "execute_result",
          "data": {
            "text/plain": [
              "<matplotlib.axes._subplots.AxesSubplot at 0x7f9b2606c550>"
            ]
          },
          "metadata": {},
          "execution_count": 43
        },
        {
          "output_type": "display_data",
          "data": {
            "image/png": "[encoded data removed]",
            "text/plain": [
              "<Figure size 432x288 with 1 Axes>"
            ]
          },
          "metadata": {}
        }
      ]
    },
    {
      "cell_type": "code",
      "metadata": {
        "colab": {
          "base_uri": "https://localhost:8080/",
          "height": 356
        },
        "id": "H6K4FLmmegtn",
        "outputId": "529fae21-fa29-4d18-dbf1-9ffbcfcc4f61"
      },
      "source": [
        "sns.distplot(data_2['EngineV'])"
      ],
      "execution_count": 44,
      "outputs": [
        {
          "output_type": "stream",
          "name": "stderr",
          "text": [
            "/usr/local/lib/python3.7/dist-packages/seaborn/distributions.py:2619: FutureWarning: `distplot` is a deprecated function and will be removed in a future version. Please adapt your code to use either `displot` (a figure-level function with similar flexibility) or `histplot` (an axes-level function for histograms).\n",
            "  warnings.warn(msg, FutureWarning)\n"
          ]
        },
        {
          "output_type": "execute_result",
          "data": {
            "text/plain": [
              "<matplotlib.axes._subplots.AxesSubplot at 0x7f9b1b2a6250>"
            ]
          },
          "metadata": {},
          "execution_count": 44
        },
        {
          "output_type": "display_data",
          "data": {
            "image/png": "[encoded data removed]",
            "text/plain": [
              "<Figure size 432x288 with 1 Axes>"
            ]
          },
          "metadata": {}
        }
      ]
    },
    {
      "cell_type": "markdown",
      "metadata": {
        "id": "U2wS6ERjewfh"
      },
      "source": [
        "by default engineV values  0.6 to 6.5 \n",
        "\n",
        "\n"
      ]
    },
    {
      "cell_type": "code",
      "metadata": {
        "colab": {
          "base_uri": "https://localhost:8080/",
          "height": 731
        },
        "id": "xlzxtSt6er26",
        "outputId": "11e39e89-adc2-4e0b-ddf0-ad34535daee5"
      },
      "source": [
        "data_2[data_2['EngineV']>6.5]\n"
      ],
      "execution_count": 49,
      "outputs": [
        {
          "output_type": "execute_result",
          "data": {
            "text/html": [
              "<div>\n",
              "<style scoped>\n",
              "    .dataframe tbody tr th:only-of-type {\n",
              "        vertical-align: middle;\n",
              "    }\n",
              "\n",
              "    .dataframe tbody tr th {\n",
              "        vertical-align: top;\n",
              "    }\n",
              "\n",
              "    .dataframe thead th {\n",
              "        text-align: right;\n",
              "    }\n",
              "</style>\n",
              "<table border=\"1\" class=\"dataframe\">\n",
              "  <thead>\n",
              "    <tr style=\"text-align: right;\">\n",
              "      <th></th>\n",
              "      <th>Brand</th>\n",
              "      <th>Price</th>\n",
              "      <th>Body</th>\n",
              "      <th>Mileage</th>\n",
              "      <th>EngineV</th>\n",
              "      <th>Engine Type</th>\n",
              "      <th>Registration</th>\n",
              "      <th>Year</th>\n",
              "    </tr>\n",
              "  </thead>\n",
              "  <tbody>\n",
              "    <tr>\n",
              "      <th>256</th>\n",
              "      <td>Mercedes-Benz</td>\n",
              "      <td>5500.0</td>\n",
              "      <td>sedan</td>\n",
              "      <td>100</td>\n",
              "      <td>99.99</td>\n",
              "      <td>Petrol</td>\n",
              "      <td>yes</td>\n",
              "      <td>2007</td>\n",
              "    </tr>\n",
              "    <tr>\n",
              "      <th>538</th>\n",
              "      <td>Audi</td>\n",
              "      <td>1950.0</td>\n",
              "      <td>sedan</td>\n",
              "      <td>320</td>\n",
              "      <td>19.00</td>\n",
              "      <td>Other</td>\n",
              "      <td>no</td>\n",
              "      <td>1996</td>\n",
              "    </tr>\n",
              "    <tr>\n",
              "      <th>630</th>\n",
              "      <td>Renault</td>\n",
              "      <td>4800.0</td>\n",
              "      <td>van</td>\n",
              "      <td>113</td>\n",
              "      <td>15.00</td>\n",
              "      <td>Diesel</td>\n",
              "      <td>yes</td>\n",
              "      <td>2006</td>\n",
              "    </tr>\n",
              "    <tr>\n",
              "      <th>930</th>\n",
              "      <td>BMW</td>\n",
              "      <td>6800.0</td>\n",
              "      <td>crossover</td>\n",
              "      <td>242</td>\n",
              "      <td>99.99</td>\n",
              "      <td>Diesel</td>\n",
              "      <td>no</td>\n",
              "      <td>2005</td>\n",
              "    </tr>\n",
              "    <tr>\n",
              "      <th>1189</th>\n",
              "      <td>BMW</td>\n",
              "      <td>25000.0</td>\n",
              "      <td>crossover</td>\n",
              "      <td>150</td>\n",
              "      <td>30.00</td>\n",
              "      <td>Petrol</td>\n",
              "      <td>yes</td>\n",
              "      <td>2007</td>\n",
              "    </tr>\n",
              "    <tr>\n",
              "      <th>1203</th>\n",
              "      <td>BMW</td>\n",
              "      <td>3300.0</td>\n",
              "      <td>sedan</td>\n",
              "      <td>233</td>\n",
              "      <td>28.00</td>\n",
              "      <td>Petrol</td>\n",
              "      <td>no</td>\n",
              "      <td>1997</td>\n",
              "    </tr>\n",
              "    <tr>\n",
              "      <th>1264</th>\n",
              "      <td>BMW</td>\n",
              "      <td>3000.0</td>\n",
              "      <td>sedan</td>\n",
              "      <td>350</td>\n",
              "      <td>99.99</td>\n",
              "      <td>Other</td>\n",
              "      <td>yes</td>\n",
              "      <td>1992</td>\n",
              "    </tr>\n",
              "    <tr>\n",
              "      <th>1269</th>\n",
              "      <td>Renault</td>\n",
              "      <td>2750.0</td>\n",
              "      <td>hatch</td>\n",
              "      <td>186</td>\n",
              "      <td>22.00</td>\n",
              "      <td>Diesel</td>\n",
              "      <td>no</td>\n",
              "      <td>2005</td>\n",
              "    </tr>\n",
              "    <tr>\n",
              "      <th>1311</th>\n",
              "      <td>Volkswagen</td>\n",
              "      <td>4800.0</td>\n",
              "      <td>sedan</td>\n",
              "      <td>190</td>\n",
              "      <td>99.99</td>\n",
              "      <td>Petrol</td>\n",
              "      <td>yes</td>\n",
              "      <td>1998</td>\n",
              "    </tr>\n",
              "    <tr>\n",
              "      <th>1431</th>\n",
              "      <td>Mercedes-Benz</td>\n",
              "      <td>6500.0</td>\n",
              "      <td>sedan</td>\n",
              "      <td>215</td>\n",
              "      <td>55.00</td>\n",
              "      <td>Petrol</td>\n",
              "      <td>no</td>\n",
              "      <td>2001</td>\n",
              "    </tr>\n",
              "    <tr>\n",
              "      <th>1649</th>\n",
              "      <td>Toyota</td>\n",
              "      <td>10200.0</td>\n",
              "      <td>sedan</td>\n",
              "      <td>122</td>\n",
              "      <td>7.20</td>\n",
              "      <td>Petrol</td>\n",
              "      <td>yes</td>\n",
              "      <td>2011</td>\n",
              "    </tr>\n",
              "    <tr>\n",
              "      <th>1818</th>\n",
              "      <td>Volkswagen</td>\n",
              "      <td>10800.0</td>\n",
              "      <td>sedan</td>\n",
              "      <td>63</td>\n",
              "      <td>20.00</td>\n",
              "      <td>Petrol</td>\n",
              "      <td>yes</td>\n",
              "      <td>2007</td>\n",
              "    </tr>\n",
              "    <tr>\n",
              "      <th>1905</th>\n",
              "      <td>Renault</td>\n",
              "      <td>7500.0</td>\n",
              "      <td>van</td>\n",
              "      <td>240</td>\n",
              "      <td>74.00</td>\n",
              "      <td>Diesel</td>\n",
              "      <td>yes</td>\n",
              "      <td>2005</td>\n",
              "    </tr>\n",
              "    <tr>\n",
              "      <th>2095</th>\n",
              "      <td>Renault</td>\n",
              "      <td>14999.0</td>\n",
              "      <td>van</td>\n",
              "      <td>54</td>\n",
              "      <td>66.00</td>\n",
              "      <td>Other</td>\n",
              "      <td>yes</td>\n",
              "      <td>2012</td>\n",
              "    </tr>\n",
              "    <tr>\n",
              "      <th>2169</th>\n",
              "      <td>Renault</td>\n",
              "      <td>6100.0</td>\n",
              "      <td>van</td>\n",
              "      <td>280</td>\n",
              "      <td>90.00</td>\n",
              "      <td>Diesel</td>\n",
              "      <td>yes</td>\n",
              "      <td>2008</td>\n",
              "    </tr>\n",
              "    <tr>\n",
              "      <th>2349</th>\n",
              "      <td>Volkswagen</td>\n",
              "      <td>2400.0</td>\n",
              "      <td>sedan</td>\n",
              "      <td>268</td>\n",
              "      <td>99.99</td>\n",
              "      <td>Petrol</td>\n",
              "      <td>yes</td>\n",
              "      <td>1989</td>\n",
              "    </tr>\n",
              "    <tr>\n",
              "      <th>3114</th>\n",
              "      <td>Renault</td>\n",
              "      <td>5650.0</td>\n",
              "      <td>hatch</td>\n",
              "      <td>175</td>\n",
              "      <td>99.99</td>\n",
              "      <td>Other</td>\n",
              "      <td>yes</td>\n",
              "      <td>2002</td>\n",
              "    </tr>\n",
              "    <tr>\n",
              "      <th>3181</th>\n",
              "      <td>Volkswagen</td>\n",
              "      <td>11350.0</td>\n",
              "      <td>van</td>\n",
              "      <td>190</td>\n",
              "      <td>75.00</td>\n",
              "      <td>Diesel</td>\n",
              "      <td>yes</td>\n",
              "      <td>2011</td>\n",
              "    </tr>\n",
              "    <tr>\n",
              "      <th>3289</th>\n",
              "      <td>Volkswagen</td>\n",
              "      <td>10000.0</td>\n",
              "      <td>sedan</td>\n",
              "      <td>90</td>\n",
              "      <td>9.00</td>\n",
              "      <td>Petrol</td>\n",
              "      <td>no</td>\n",
              "      <td>2010</td>\n",
              "    </tr>\n",
              "    <tr>\n",
              "      <th>3389</th>\n",
              "      <td>Mitsubishi</td>\n",
              "      <td>8777.0</td>\n",
              "      <td>sedan</td>\n",
              "      <td>180</td>\n",
              "      <td>20.00</td>\n",
              "      <td>Petrol</td>\n",
              "      <td>yes</td>\n",
              "      <td>2007</td>\n",
              "    </tr>\n",
              "    <tr>\n",
              "      <th>3641</th>\n",
              "      <td>Mercedes-Benz</td>\n",
              "      <td>8000.0</td>\n",
              "      <td>crossover</td>\n",
              "      <td>314</td>\n",
              "      <td>99.99</td>\n",
              "      <td>Gas</td>\n",
              "      <td>yes</td>\n",
              "      <td>2000</td>\n",
              "    </tr>\n",
              "    <tr>\n",
              "      <th>4182</th>\n",
              "      <td>Renault</td>\n",
              "      <td>2950.0</td>\n",
              "      <td>vagon</td>\n",
              "      <td>280</td>\n",
              "      <td>19.00</td>\n",
              "      <td>Diesel</td>\n",
              "      <td>yes</td>\n",
              "      <td>2000</td>\n",
              "    </tr>\n",
              "  </tbody>\n",
              "</table>\n",
              "</div>"
            ],
            "text/plain": [
              "              Brand    Price       Body  ...  Engine Type  Registration  Year\n",
              "256   Mercedes-Benz   5500.0      sedan  ...       Petrol           yes  2007\n",
              "538            Audi   1950.0      sedan  ...        Other            no  1996\n",
              "630         Renault   4800.0        van  ...       Diesel           yes  2006\n",
              "930             BMW   6800.0  crossover  ...       Diesel            no  2005\n",
              "1189            BMW  25000.0  crossover  ...       Petrol           yes  2007\n",
              "1203            BMW   3300.0      sedan  ...       Petrol            no  1997\n",
              "1264            BMW   3000.0      sedan  ...        Other           yes  1992\n",
              "1269        Renault   2750.0      hatch  ...       Diesel            no  2005\n",
              "1311     Volkswagen   4800.0      sedan  ...       Petrol           yes  1998\n",
              "1431  Mercedes-Benz   6500.0      sedan  ...       Petrol            no  2001\n",
              "1649         Toyota  10200.0      sedan  ...       Petrol           yes  2011\n",
              "1818     Volkswagen  10800.0      sedan  ...       Petrol           yes  2007\n",
              "1905        Renault   7500.0        van  ...       Diesel           yes  2005\n",
              "2095        Renault  14999.0        van  ...        Other           yes  2012\n",
              "2169        Renault   6100.0        van  ...       Diesel           yes  2008\n",
              "2349     Volkswagen   2400.0      sedan  ...       Petrol           yes  1989\n",
              "3114        Renault   5650.0      hatch  ...        Other           yes  2002\n",
              "3181     Volkswagen  11350.0        van  ...       Diesel           yes  2011\n",
              "3289     Volkswagen  10000.0      sedan  ...       Petrol            no  2010\n",
              "3389     Mitsubishi   8777.0      sedan  ...       Petrol           yes  2007\n",
              "3641  Mercedes-Benz   8000.0  crossover  ...          Gas           yes  2000\n",
              "4182        Renault   2950.0      vagon  ...       Diesel           yes  2000\n",
              "\n",
              "[22 rows x 8 columns]"
            ]
          },
          "metadata": {},
          "execution_count": 49
        }
      ]
    },
    {
      "cell_type": "code",
      "metadata": {
        "id": "ZJC3q-FNha_e"
      },
      "source": [
        "data_3=data_2[data_2['EngineV']<6.5]"
      ],
      "execution_count": 50,
      "outputs": []
    },
    {
      "cell_type": "code",
      "metadata": {
        "colab": {
          "base_uri": "https://localhost:8080/",
          "height": 390
        },
        "id": "7Shqs1NZhyLD",
        "outputId": "f65489f6-ad64-4873-a8f3-9c5d6f85ec29"
      },
      "source": [
        "data_3.describe(include='all')"
      ],
      "execution_count": 51,
      "outputs": [
        {
          "output_type": "execute_result",
          "data": {
            "text/html": [
              "<div>\n",
              "<style scoped>\n",
              "    .dataframe tbody tr th:only-of-type {\n",
              "        vertical-align: middle;\n",
              "    }\n",
              "\n",
              "    .dataframe tbody tr th {\n",
              "        vertical-align: top;\n",
              "    }\n",
              "\n",
              "    .dataframe thead th {\n",
              "        text-align: right;\n",
              "    }\n",
              "</style>\n",
              "<table border=\"1\" class=\"dataframe\">\n",
              "  <thead>\n",
              "    <tr style=\"text-align: right;\">\n",
              "      <th></th>\n",
              "      <th>Brand</th>\n",
              "      <th>Price</th>\n",
              "      <th>Body</th>\n",
              "      <th>Mileage</th>\n",
              "      <th>EngineV</th>\n",
              "      <th>Engine Type</th>\n",
              "      <th>Registration</th>\n",
              "      <th>Year</th>\n",
              "    </tr>\n",
              "  </thead>\n",
              "  <tbody>\n",
              "    <tr>\n",
              "      <th>count</th>\n",
              "      <td>3921</td>\n",
              "      <td>3921.000000</td>\n",
              "      <td>3921</td>\n",
              "      <td>3921.000000</td>\n",
              "      <td>3921.000000</td>\n",
              "      <td>3921</td>\n",
              "      <td>3921</td>\n",
              "      <td>3921.000000</td>\n",
              "    </tr>\n",
              "    <tr>\n",
              "      <th>unique</th>\n",
              "      <td>7</td>\n",
              "      <td>NaN</td>\n",
              "      <td>6</td>\n",
              "      <td>NaN</td>\n",
              "      <td>NaN</td>\n",
              "      <td>4</td>\n",
              "      <td>2</td>\n",
              "      <td>NaN</td>\n",
              "    </tr>\n",
              "    <tr>\n",
              "      <th>top</th>\n",
              "      <td>Volkswagen</td>\n",
              "      <td>NaN</td>\n",
              "      <td>sedan</td>\n",
              "      <td>NaN</td>\n",
              "      <td>NaN</td>\n",
              "      <td>Diesel</td>\n",
              "      <td>yes</td>\n",
              "      <td>NaN</td>\n",
              "    </tr>\n",
              "    <tr>\n",
              "      <th>freq</th>\n",
              "      <td>862</td>\n",
              "      <td>NaN</td>\n",
              "      <td>1499</td>\n",
              "      <td>NaN</td>\n",
              "      <td>NaN</td>\n",
              "      <td>1818</td>\n",
              "      <td>3559</td>\n",
              "      <td>NaN</td>\n",
              "    </tr>\n",
              "    <tr>\n",
              "      <th>mean</th>\n",
              "      <td>NaN</td>\n",
              "      <td>17988.421311</td>\n",
              "      <td>NaN</td>\n",
              "      <td>161.279776</td>\n",
              "      <td>2.443497</td>\n",
              "      <td>NaN</td>\n",
              "      <td>NaN</td>\n",
              "      <td>2006.406019</td>\n",
              "    </tr>\n",
              "    <tr>\n",
              "      <th>std</th>\n",
              "      <td>NaN</td>\n",
              "      <td>19041.658686</td>\n",
              "      <td>NaN</td>\n",
              "      <td>96.068269</td>\n",
              "      <td>0.946198</td>\n",
              "      <td>NaN</td>\n",
              "      <td>NaN</td>\n",
              "      <td>6.595871</td>\n",
              "    </tr>\n",
              "    <tr>\n",
              "      <th>min</th>\n",
              "      <td>NaN</td>\n",
              "      <td>600.000000</td>\n",
              "      <td>NaN</td>\n",
              "      <td>0.000000</td>\n",
              "      <td>0.600000</td>\n",
              "      <td>NaN</td>\n",
              "      <td>NaN</td>\n",
              "      <td>1969.000000</td>\n",
              "    </tr>\n",
              "    <tr>\n",
              "      <th>25%</th>\n",
              "      <td>NaN</td>\n",
              "      <td>7000.000000</td>\n",
              "      <td>NaN</td>\n",
              "      <td>92.000000</td>\n",
              "      <td>1.800000</td>\n",
              "      <td>NaN</td>\n",
              "      <td>NaN</td>\n",
              "      <td>2003.000000</td>\n",
              "    </tr>\n",
              "    <tr>\n",
              "      <th>50%</th>\n",
              "      <td>NaN</td>\n",
              "      <td>11500.000000</td>\n",
              "      <td>NaN</td>\n",
              "      <td>158.000000</td>\n",
              "      <td>2.200000</td>\n",
              "      <td>NaN</td>\n",
              "      <td>NaN</td>\n",
              "      <td>2008.000000</td>\n",
              "    </tr>\n",
              "    <tr>\n",
              "      <th>75%</th>\n",
              "      <td>NaN</td>\n",
              "      <td>21500.000000</td>\n",
              "      <td>NaN</td>\n",
              "      <td>229.000000</td>\n",
              "      <td>3.000000</td>\n",
              "      <td>NaN</td>\n",
              "      <td>NaN</td>\n",
              "      <td>2012.000000</td>\n",
              "    </tr>\n",
              "    <tr>\n",
              "      <th>max</th>\n",
              "      <td>NaN</td>\n",
              "      <td>129222.000000</td>\n",
              "      <td>NaN</td>\n",
              "      <td>435.000000</td>\n",
              "      <td>6.300000</td>\n",
              "      <td>NaN</td>\n",
              "      <td>NaN</td>\n",
              "      <td>2016.000000</td>\n",
              "    </tr>\n",
              "  </tbody>\n",
              "</table>\n",
              "</div>"
            ],
            "text/plain": [
              "             Brand          Price   Body  ...  Engine Type  Registration         Year\n",
              "count         3921    3921.000000   3921  ...         3921          3921  3921.000000\n",
              "unique           7            NaN      6  ...            4             2          NaN\n",
              "top     Volkswagen            NaN  sedan  ...       Diesel           yes          NaN\n",
              "freq           862            NaN   1499  ...         1818          3559          NaN\n",
              "mean           NaN   17988.421311    NaN  ...          NaN           NaN  2006.406019\n",
              "std            NaN   19041.658686    NaN  ...          NaN           NaN     6.595871\n",
              "min            NaN     600.000000    NaN  ...          NaN           NaN  1969.000000\n",
              "25%            NaN    7000.000000    NaN  ...          NaN           NaN  2003.000000\n",
              "50%            NaN   11500.000000    NaN  ...          NaN           NaN  2008.000000\n",
              "75%            NaN   21500.000000    NaN  ...          NaN           NaN  2012.000000\n",
              "max            NaN  129222.000000    NaN  ...          NaN           NaN  2016.000000\n",
              "\n",
              "[11 rows x 8 columns]"
            ]
          },
          "metadata": {},
          "execution_count": 51
        }
      ]
    },
    {
      "cell_type": "code",
      "metadata": {
        "colab": {
          "base_uri": "https://localhost:8080/",
          "height": 357
        },
        "id": "uEt24SX8h1gC",
        "outputId": "2d95f2ba-5300-45d1-d897-b61f690a82cc"
      },
      "source": [
        "sns.distplot(data_3['EngineV'])"
      ],
      "execution_count": 52,
      "outputs": [
        {
          "output_type": "stream",
          "name": "stderr",
          "text": [
            "/usr/local/lib/python3.7/dist-packages/seaborn/distributions.py:2619: FutureWarning: `distplot` is a deprecated function and will be removed in a future version. Please adapt your code to use either `displot` (a figure-level function with similar flexibility) or `histplot` (an axes-level function for histograms).\n",
            "  warnings.warn(msg, FutureWarning)\n"
          ]
        },
        {
          "output_type": "execute_result",
          "data": {
            "text/plain": [
              "<matplotlib.axes._subplots.AxesSubplot at 0x7f9b260a75d0>"
            ]
          },
          "metadata": {},
          "execution_count": 52
        },
        {
          "output_type": "display_data",
          "data": {
            "image/png": "[encoded data removed]",
            "text/plain": [
              "<Figure size 432x288 with 1 Axes>"
            ]
          },
          "metadata": {}
        }
      ]
    },
    {
      "cell_type": "code",
      "metadata": {
        "colab": {
          "base_uri": "https://localhost:8080/",
          "height": 356
        },
        "id": "xSf6mhQmh6-s",
        "outputId": "e54f8d1c-1181-4d61-d63a-c8ac34f1918e"
      },
      "source": [
        "sns.distplot(data_3['Year'])"
      ],
      "execution_count": 54,
      "outputs": [
        {
          "output_type": "stream",
          "name": "stderr",
          "text": [
            "/usr/local/lib/python3.7/dist-packages/seaborn/distributions.py:2619: FutureWarning: `distplot` is a deprecated function and will be removed in a future version. Please adapt your code to use either `displot` (a figure-level function with similar flexibility) or `histplot` (an axes-level function for histograms).\n",
            "  warnings.warn(msg, FutureWarning)\n"
          ]
        },
        {
          "output_type": "execute_result",
          "data": {
            "text/plain": [
              "<matplotlib.axes._subplots.AxesSubplot at 0x7f9b1ac656d0>"
            ]
          },
          "metadata": {},
          "execution_count": 54
        },
        {
          "output_type": "display_data",
          "data": {
            "image/png": "[encoded data removed]",
            "text/plain": [
              "<Figure size 432x288 with 1 Axes>"
            ]
          },
          "metadata": {}
        }
      ]
    },
    {
      "cell_type": "markdown",
      "metadata": {
        "id": "mmO8wLtmiNSE"
      },
      "source": [
        "in year also we have outliers so we have to remove 1% "
      ]
    },
    {
      "cell_type": "code",
      "metadata": {
        "colab": {
          "base_uri": "https://localhost:8080/",
          "height": 297
        },
        "id": "k3NR9Kt2iEa_",
        "outputId": "c43a45f5-67db-4084-e83b-809f621d01a3"
      },
      "source": [
        "q=data_3['Year'].quantile(0.01)\n",
        "data_4=data_3[data_3['Year']>q]\n",
        "data_4.describe()"
      ],
      "execution_count": 55,
      "outputs": [
        {
          "output_type": "execute_result",
          "data": {
            "text/html": [
              "<div>\n",
              "<style scoped>\n",
              "    .dataframe tbody tr th:only-of-type {\n",
              "        vertical-align: middle;\n",
              "    }\n",
              "\n",
              "    .dataframe tbody tr th {\n",
              "        vertical-align: top;\n",
              "    }\n",
              "\n",
              "    .dataframe thead th {\n",
              "        text-align: right;\n",
              "    }\n",
              "</style>\n",
              "<table border=\"1\" class=\"dataframe\">\n",
              "  <thead>\n",
              "    <tr style=\"text-align: right;\">\n",
              "      <th></th>\n",
              "      <th>Price</th>\n",
              "      <th>Mileage</th>\n",
              "      <th>EngineV</th>\n",
              "      <th>Year</th>\n",
              "    </tr>\n",
              "  </thead>\n",
              "  <tbody>\n",
              "    <tr>\n",
              "      <th>count</th>\n",
              "      <td>3867.000000</td>\n",
              "      <td>3867.000000</td>\n",
              "      <td>3867.000000</td>\n",
              "      <td>3867.000000</td>\n",
              "    </tr>\n",
              "    <tr>\n",
              "      <th>mean</th>\n",
              "      <td>18194.455679</td>\n",
              "      <td>160.542539</td>\n",
              "      <td>2.450440</td>\n",
              "      <td>2006.709853</td>\n",
              "    </tr>\n",
              "    <tr>\n",
              "      <th>std</th>\n",
              "      <td>19085.855165</td>\n",
              "      <td>95.633291</td>\n",
              "      <td>0.949366</td>\n",
              "      <td>6.103870</td>\n",
              "    </tr>\n",
              "    <tr>\n",
              "      <th>min</th>\n",
              "      <td>800.000000</td>\n",
              "      <td>0.000000</td>\n",
              "      <td>0.600000</td>\n",
              "      <td>1988.000000</td>\n",
              "    </tr>\n",
              "    <tr>\n",
              "      <th>25%</th>\n",
              "      <td>7200.000000</td>\n",
              "      <td>91.000000</td>\n",
              "      <td>1.800000</td>\n",
              "      <td>2003.000000</td>\n",
              "    </tr>\n",
              "    <tr>\n",
              "      <th>50%</th>\n",
              "      <td>11700.000000</td>\n",
              "      <td>157.000000</td>\n",
              "      <td>2.200000</td>\n",
              "      <td>2008.000000</td>\n",
              "    </tr>\n",
              "    <tr>\n",
              "      <th>75%</th>\n",
              "      <td>21700.000000</td>\n",
              "      <td>225.000000</td>\n",
              "      <td>3.000000</td>\n",
              "      <td>2012.000000</td>\n",
              "    </tr>\n",
              "    <tr>\n",
              "      <th>max</th>\n",
              "      <td>129222.000000</td>\n",
              "      <td>435.000000</td>\n",
              "      <td>6.300000</td>\n",
              "      <td>2016.000000</td>\n",
              "    </tr>\n",
              "  </tbody>\n",
              "</table>\n",
              "</div>"
            ],
            "text/plain": [
              "               Price      Mileage      EngineV         Year\n",
              "count    3867.000000  3867.000000  3867.000000  3867.000000\n",
              "mean    18194.455679   160.542539     2.450440  2006.709853\n",
              "std     19085.855165    95.633291     0.949366     6.103870\n",
              "min       800.000000     0.000000     0.600000  1988.000000\n",
              "25%      7200.000000    91.000000     1.800000  2003.000000\n",
              "50%     11700.000000   157.000000     2.200000  2008.000000\n",
              "75%     21700.000000   225.000000     3.000000  2012.000000\n",
              "max    129222.000000   435.000000     6.300000  2016.000000"
            ]
          },
          "metadata": {},
          "execution_count": 55
        }
      ]
    },
    {
      "cell_type": "code",
      "metadata": {
        "colab": {
          "base_uri": "https://localhost:8080/",
          "height": 356
        },
        "id": "2hre8Cyvi8xx",
        "outputId": "e507460f-d764-4f01-f6ee-585886c12e97"
      },
      "source": [
        "sns.distplot(data_4['Year'])"
      ],
      "execution_count": 56,
      "outputs": [
        {
          "output_type": "stream",
          "name": "stderr",
          "text": [
            "/usr/local/lib/python3.7/dist-packages/seaborn/distributions.py:2619: FutureWarning: `distplot` is a deprecated function and will be removed in a future version. Please adapt your code to use either `displot` (a figure-level function with similar flexibility) or `histplot` (an axes-level function for histograms).\n",
            "  warnings.warn(msg, FutureWarning)\n"
          ]
        },
        {
          "output_type": "execute_result",
          "data": {
            "text/plain": [
              "<matplotlib.axes._subplots.AxesSubplot at 0x7f9b1ab7a810>"
            ]
          },
          "metadata": {},
          "execution_count": 56
        },
        {
          "output_type": "display_data",
          "data": {
            "image/png": "[encoded data removed]",
            "text/plain": [
              "<Figure size 432x288 with 1 Axes>"
            ]
          },
          "metadata": {}
        }
      ]
    },
    {
      "cell_type": "markdown",
      "metadata": {
        "id": "xzXjfbU6jLQm"
      },
      "source": [
        "now we cleaned data"
      ]
    },
    {
      "cell_type": "code",
      "metadata": {
        "id": "SaX7R5ZEjDK7"
      },
      "source": [
        "data_cleaned=data_4"
      ],
      "execution_count": 57,
      "outputs": []
    },
    {
      "cell_type": "code",
      "metadata": {
        "id": "BWqsE69OjQbb"
      },
      "source": [
        ""
      ],
      "execution_count": null,
      "outputs": []
    }
  ]
}